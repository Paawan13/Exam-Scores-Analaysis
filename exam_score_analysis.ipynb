{
 "cells": [
  {
   "cell_type": "markdown",
   "id": "95a7ffb5",
   "metadata": {},
   "source": [
    "Modify any of the numbers and rerun the cell."
   ]
  },
  {
   "cell_type": "markdown",
   "id": "6c0744d0",
   "metadata": {},
   "source": [
    "## 💪 Challenge\n",
    "Create a report to answer the principal's questions. Include:\n",
    "\n",
    "1. What are the average reading scores for students with/without the test preparation course?\n",
    "2. What are the average scores for the different parental education levels?\n",
    "3. Create plots to visualize findings for questions 1 and 2.\n",
    "4. [Optional] Look at the effects within subgroups. Compare the average scores for students with/without the test preparation course for different parental education levels (e.g., faceted plots).\n",
    "5. [Optional 2] The principal wants to know if kids who perform well on one subject also score well on the others. Look at the correlations between scores. \n",
    "6. Summarize your findings."
   ]
  },
  {
   "cell_type": "markdown",
   "id": "fd227115",
   "metadata": {},
   "source": [
    "## ✅ Checklist before publishing\n",
    "- Rename your workspace to make it descriptive of your work. N.B. you should leave the notebook name as notebook.ipynb.\n",
    "- **Remove redundant cells** like the introduction to data science notebooks, so the workbook is focused on your story.\n",
    "- Check that all the cells run without error."
   ]
  },
  {
   "cell_type": "code",
   "execution_count": 91,
   "id": "2af88bc7",
   "metadata": {},
   "outputs": [],
   "source": [
    "#By Paawan Purdhani\n",
    "#Importing Required Libraries\n",
    "import pandas as pd\n",
    "import numpy as np\n",
    "import matplotlib.pyplot as plt\n",
    "%matplotlib inline\n",
    "import seaborn as sns"
   ]
  },
  {
   "cell_type": "code",
   "execution_count": 2,
   "id": "1c9fb2f9-2006-4371-8699-7ab37d1037b1",
   "metadata": {},
   "outputs": [],
   "source": [
    "from pandas import Series,DataFrame"
   ]
  },
  {
   "cell_type": "code",
   "execution_count": 3,
   "id": "a5b10a57-7519-42ee-8db5-b622501b052e",
   "metadata": {},
   "outputs": [],
   "source": [
    "exam_df = pd.read_csv('data/exams.csv')"
   ]
  },
  {
   "cell_type": "code",
   "execution_count": 4,
   "id": "26ad6b5e-8c84-4335-a8b6-4dbc9542028d",
   "metadata": {},
   "outputs": [
    {
     "data": {
      "application/com.datacamp.data-table.v1+json": {
       "is_truncated": false,
       "table": {
        "data": [
         {
          "gender": "female",
          "index": 0,
          "lunch": "standard",
          "math": 72,
          "parent_education_level": "bachelor's degree",
          "race/ethnicity": "group B",
          "reading": 72,
          "test_prep_course": "none",
          "writing": 74
         },
         {
          "gender": "female",
          "index": 1,
          "lunch": "standard",
          "math": 69,
          "parent_education_level": "some college",
          "race/ethnicity": "group C",
          "reading": 90,
          "test_prep_course": "completed",
          "writing": 88
         },
         {
          "gender": "female",
          "index": 2,
          "lunch": "standard",
          "math": 90,
          "parent_education_level": "master's degree",
          "race/ethnicity": "group B",
          "reading": 95,
          "test_prep_course": "none",
          "writing": 93
         },
         {
          "gender": "male",
          "index": 3,
          "lunch": "free/reduced",
          "math": 47,
          "parent_education_level": "associate's degree",
          "race/ethnicity": "group A",
          "reading": 57,
          "test_prep_course": "none",
          "writing": 44
         },
         {
          "gender": "male",
          "index": 4,
          "lunch": "standard",
          "math": 76,
          "parent_education_level": "some college",
          "race/ethnicity": "group C",
          "reading": 78,
          "test_prep_course": "none",
          "writing": 75
         }
        ],
        "schema": {
         "fields": [
          {
           "name": "index",
           "type": "integer"
          },
          {
           "name": "gender",
           "type": "string"
          },
          {
           "name": "race/ethnicity",
           "type": "string"
          },
          {
           "name": "parent_education_level",
           "type": "string"
          },
          {
           "name": "lunch",
           "type": "string"
          },
          {
           "name": "test_prep_course",
           "type": "string"
          },
          {
           "name": "math",
           "type": "integer"
          },
          {
           "name": "reading",
           "type": "integer"
          },
          {
           "name": "writing",
           "type": "integer"
          }
         ],
         "pandas_version": "0.20.0",
         "primaryKey": [
          "index"
         ]
        }
       }
      },
      "text/html": [
       "<div>\n",
       "<style scoped>\n",
       "    .dataframe tbody tr th:only-of-type {\n",
       "        vertical-align: middle;\n",
       "    }\n",
       "\n",
       "    .dataframe tbody tr th {\n",
       "        vertical-align: top;\n",
       "    }\n",
       "\n",
       "    .dataframe thead th {\n",
       "        text-align: right;\n",
       "    }\n",
       "</style>\n",
       "<table border=\"1\" class=\"dataframe\">\n",
       "  <thead>\n",
       "    <tr style=\"text-align: right;\">\n",
       "      <th></th>\n",
       "      <th>gender</th>\n",
       "      <th>race/ethnicity</th>\n",
       "      <th>parent_education_level</th>\n",
       "      <th>lunch</th>\n",
       "      <th>test_prep_course</th>\n",
       "      <th>math</th>\n",
       "      <th>reading</th>\n",
       "      <th>writing</th>\n",
       "    </tr>\n",
       "  </thead>\n",
       "  <tbody>\n",
       "    <tr>\n",
       "      <th>0</th>\n",
       "      <td>female</td>\n",
       "      <td>group B</td>\n",
       "      <td>bachelor's degree</td>\n",
       "      <td>standard</td>\n",
       "      <td>none</td>\n",
       "      <td>72</td>\n",
       "      <td>72</td>\n",
       "      <td>74</td>\n",
       "    </tr>\n",
       "    <tr>\n",
       "      <th>1</th>\n",
       "      <td>female</td>\n",
       "      <td>group C</td>\n",
       "      <td>some college</td>\n",
       "      <td>standard</td>\n",
       "      <td>completed</td>\n",
       "      <td>69</td>\n",
       "      <td>90</td>\n",
       "      <td>88</td>\n",
       "    </tr>\n",
       "    <tr>\n",
       "      <th>2</th>\n",
       "      <td>female</td>\n",
       "      <td>group B</td>\n",
       "      <td>master's degree</td>\n",
       "      <td>standard</td>\n",
       "      <td>none</td>\n",
       "      <td>90</td>\n",
       "      <td>95</td>\n",
       "      <td>93</td>\n",
       "    </tr>\n",
       "    <tr>\n",
       "      <th>3</th>\n",
       "      <td>male</td>\n",
       "      <td>group A</td>\n",
       "      <td>associate's degree</td>\n",
       "      <td>free/reduced</td>\n",
       "      <td>none</td>\n",
       "      <td>47</td>\n",
       "      <td>57</td>\n",
       "      <td>44</td>\n",
       "    </tr>\n",
       "    <tr>\n",
       "      <th>4</th>\n",
       "      <td>male</td>\n",
       "      <td>group C</td>\n",
       "      <td>some college</td>\n",
       "      <td>standard</td>\n",
       "      <td>none</td>\n",
       "      <td>76</td>\n",
       "      <td>78</td>\n",
       "      <td>75</td>\n",
       "    </tr>\n",
       "  </tbody>\n",
       "</table>\n",
       "</div>"
      ],
      "text/plain": [
       "   gender race/ethnicity parent_education_level         lunch  \\\n",
       "0  female        group B      bachelor's degree      standard   \n",
       "1  female        group C           some college      standard   \n",
       "2  female        group B        master's degree      standard   \n",
       "3    male        group A     associate's degree  free/reduced   \n",
       "4    male        group C           some college      standard   \n",
       "\n",
       "  test_prep_course  math  reading  writing  \n",
       "0             none    72       72       74  \n",
       "1        completed    69       90       88  \n",
       "2             none    90       95       93  \n",
       "3             none    47       57       44  \n",
       "4             none    76       78       75  "
      ]
     },
     "execution_count": 4,
     "metadata": {},
     "output_type": "execute_result"
    }
   ],
   "source": [
    "exam_df.head()"
   ]
  },
  {
   "cell_type": "code",
   "execution_count": 78,
   "id": "1a7193a3-c8e0-46cb-b233-00ddad3186c0",
   "metadata": {},
   "outputs": [],
   "source": [
    "prep = exam_df[exam_df.test_prep_course == 'completed']\n",
    "no_prep = exam_df[exam_df.test_prep_course == 'none']"
   ]
  },
  {
   "cell_type": "code",
   "execution_count": 6,
   "id": "f9516e90-ccb7-4e60-a838-0f7322d0ba88",
   "metadata": {},
   "outputs": [
    {
     "data": {
      "text/plain": [
       "array(['none', 'completed'], dtype=object)"
      ]
     },
     "execution_count": 6,
     "metadata": {},
     "output_type": "execute_result"
    }
   ],
   "source": [
    "exam_df.test_prep_course.unique()"
   ]
  },
  {
   "cell_type": "code",
   "execution_count": 7,
   "id": "5cf3a8aa-72cf-45cb-abeb-fc32a5c44d83",
   "metadata": {},
   "outputs": [
    {
     "data": {
      "application/com.datacamp.data-table.v1+json": {
       "is_truncated": false,
       "table": {
        "data": [
         {
          "gender": "female",
          "index": 1,
          "lunch": "standard",
          "math": 69,
          "parent_education_level": "some college",
          "race/ethnicity": "group C",
          "reading": 90,
          "test_prep_course": "completed",
          "writing": 88
         },
         {
          "gender": "female",
          "index": 6,
          "lunch": "standard",
          "math": 88,
          "parent_education_level": "some college",
          "race/ethnicity": "group B",
          "reading": 95,
          "test_prep_course": "completed",
          "writing": 92
         },
         {
          "gender": "male",
          "index": 8,
          "lunch": "free/reduced",
          "math": 64,
          "parent_education_level": "high school",
          "race/ethnicity": "group D",
          "reading": 64,
          "test_prep_course": "completed",
          "writing": 67
         },
         {
          "gender": "male",
          "index": 13,
          "lunch": "standard",
          "math": 78,
          "parent_education_level": "some college",
          "race/ethnicity": "group A",
          "reading": 72,
          "test_prep_course": "completed",
          "writing": 70
         },
         {
          "gender": "male",
          "index": 18,
          "lunch": "free/reduced",
          "math": 46,
          "parent_education_level": "master's degree",
          "race/ethnicity": "group C",
          "reading": 42,
          "test_prep_course": "completed",
          "writing": 46
         }
        ],
        "schema": {
         "fields": [
          {
           "name": "index",
           "type": "integer"
          },
          {
           "name": "gender",
           "type": "string"
          },
          {
           "name": "race/ethnicity",
           "type": "string"
          },
          {
           "name": "parent_education_level",
           "type": "string"
          },
          {
           "name": "lunch",
           "type": "string"
          },
          {
           "name": "test_prep_course",
           "type": "string"
          },
          {
           "name": "math",
           "type": "integer"
          },
          {
           "name": "reading",
           "type": "integer"
          },
          {
           "name": "writing",
           "type": "integer"
          }
         ],
         "pandas_version": "0.20.0",
         "primaryKey": [
          "index"
         ]
        }
       }
      },
      "text/html": [
       "<div>\n",
       "<style scoped>\n",
       "    .dataframe tbody tr th:only-of-type {\n",
       "        vertical-align: middle;\n",
       "    }\n",
       "\n",
       "    .dataframe tbody tr th {\n",
       "        vertical-align: top;\n",
       "    }\n",
       "\n",
       "    .dataframe thead th {\n",
       "        text-align: right;\n",
       "    }\n",
       "</style>\n",
       "<table border=\"1\" class=\"dataframe\">\n",
       "  <thead>\n",
       "    <tr style=\"text-align: right;\">\n",
       "      <th></th>\n",
       "      <th>gender</th>\n",
       "      <th>race/ethnicity</th>\n",
       "      <th>parent_education_level</th>\n",
       "      <th>lunch</th>\n",
       "      <th>test_prep_course</th>\n",
       "      <th>math</th>\n",
       "      <th>reading</th>\n",
       "      <th>writing</th>\n",
       "    </tr>\n",
       "  </thead>\n",
       "  <tbody>\n",
       "    <tr>\n",
       "      <th>1</th>\n",
       "      <td>female</td>\n",
       "      <td>group C</td>\n",
       "      <td>some college</td>\n",
       "      <td>standard</td>\n",
       "      <td>completed</td>\n",
       "      <td>69</td>\n",
       "      <td>90</td>\n",
       "      <td>88</td>\n",
       "    </tr>\n",
       "    <tr>\n",
       "      <th>6</th>\n",
       "      <td>female</td>\n",
       "      <td>group B</td>\n",
       "      <td>some college</td>\n",
       "      <td>standard</td>\n",
       "      <td>completed</td>\n",
       "      <td>88</td>\n",
       "      <td>95</td>\n",
       "      <td>92</td>\n",
       "    </tr>\n",
       "    <tr>\n",
       "      <th>8</th>\n",
       "      <td>male</td>\n",
       "      <td>group D</td>\n",
       "      <td>high school</td>\n",
       "      <td>free/reduced</td>\n",
       "      <td>completed</td>\n",
       "      <td>64</td>\n",
       "      <td>64</td>\n",
       "      <td>67</td>\n",
       "    </tr>\n",
       "    <tr>\n",
       "      <th>13</th>\n",
       "      <td>male</td>\n",
       "      <td>group A</td>\n",
       "      <td>some college</td>\n",
       "      <td>standard</td>\n",
       "      <td>completed</td>\n",
       "      <td>78</td>\n",
       "      <td>72</td>\n",
       "      <td>70</td>\n",
       "    </tr>\n",
       "    <tr>\n",
       "      <th>18</th>\n",
       "      <td>male</td>\n",
       "      <td>group C</td>\n",
       "      <td>master's degree</td>\n",
       "      <td>free/reduced</td>\n",
       "      <td>completed</td>\n",
       "      <td>46</td>\n",
       "      <td>42</td>\n",
       "      <td>46</td>\n",
       "    </tr>\n",
       "  </tbody>\n",
       "</table>\n",
       "</div>"
      ],
      "text/plain": [
       "    gender race/ethnicity parent_education_level         lunch  \\\n",
       "1   female        group C           some college      standard   \n",
       "6   female        group B           some college      standard   \n",
       "8     male        group D            high school  free/reduced   \n",
       "13    male        group A           some college      standard   \n",
       "18    male        group C        master's degree  free/reduced   \n",
       "\n",
       "   test_prep_course  math  reading  writing  \n",
       "1         completed    69       90       88  \n",
       "6         completed    88       95       92  \n",
       "8         completed    64       64       67  \n",
       "13        completed    78       72       70  \n",
       "18        completed    46       42       46  "
      ]
     },
     "execution_count": 7,
     "metadata": {},
     "output_type": "execute_result"
    }
   ],
   "source": [
    "prep.head()"
   ]
  },
  {
   "cell_type": "code",
   "execution_count": 8,
   "id": "4948b33b-73b1-47d3-ac78-8f41102d5749",
   "metadata": {},
   "outputs": [
    {
     "data": {
      "text/plain": [
       "73.89385474860335"
      ]
     },
     "execution_count": 8,
     "metadata": {},
     "output_type": "execute_result"
    }
   ],
   "source": [
    "#Average test scores of students that have taken test prep course\n",
    "prep.reading.mean()"
   ]
  },
  {
   "cell_type": "code",
   "execution_count": 13,
   "id": "f110113f-696a-4e12-a593-8e731003b57b",
   "metadata": {},
   "outputs": [
    {
     "data": {
      "application/com.datacamp.data-table.v1+json": {
       "is_truncated": false,
       "table": {
        "data": [
         {
          "gender": "female",
          "index": 0,
          "lunch": "standard",
          "math": 72,
          "parent_education_level": "bachelor's degree",
          "race/ethnicity": "group B",
          "reading": 72,
          "test_prep_course": "none",
          "writing": 74
         },
         {
          "gender": "female",
          "index": 2,
          "lunch": "standard",
          "math": 90,
          "parent_education_level": "master's degree",
          "race/ethnicity": "group B",
          "reading": 95,
          "test_prep_course": "none",
          "writing": 93
         },
         {
          "gender": "male",
          "index": 3,
          "lunch": "free/reduced",
          "math": 47,
          "parent_education_level": "associate's degree",
          "race/ethnicity": "group A",
          "reading": 57,
          "test_prep_course": "none",
          "writing": 44
         },
         {
          "gender": "male",
          "index": 4,
          "lunch": "standard",
          "math": 76,
          "parent_education_level": "some college",
          "race/ethnicity": "group C",
          "reading": 78,
          "test_prep_course": "none",
          "writing": 75
         },
         {
          "gender": "female",
          "index": 5,
          "lunch": "standard",
          "math": 71,
          "parent_education_level": "associate's degree",
          "race/ethnicity": "group B",
          "reading": 83,
          "test_prep_course": "none",
          "writing": 78
         }
        ],
        "schema": {
         "fields": [
          {
           "name": "index",
           "type": "integer"
          },
          {
           "name": "gender",
           "type": "string"
          },
          {
           "name": "race/ethnicity",
           "type": "string"
          },
          {
           "name": "parent_education_level",
           "type": "string"
          },
          {
           "name": "lunch",
           "type": "string"
          },
          {
           "name": "test_prep_course",
           "type": "string"
          },
          {
           "name": "math",
           "type": "integer"
          },
          {
           "name": "reading",
           "type": "integer"
          },
          {
           "name": "writing",
           "type": "integer"
          }
         ],
         "pandas_version": "0.20.0",
         "primaryKey": [
          "index"
         ]
        }
       }
      },
      "text/html": [
       "<div>\n",
       "<style scoped>\n",
       "    .dataframe tbody tr th:only-of-type {\n",
       "        vertical-align: middle;\n",
       "    }\n",
       "\n",
       "    .dataframe tbody tr th {\n",
       "        vertical-align: top;\n",
       "    }\n",
       "\n",
       "    .dataframe thead th {\n",
       "        text-align: right;\n",
       "    }\n",
       "</style>\n",
       "<table border=\"1\" class=\"dataframe\">\n",
       "  <thead>\n",
       "    <tr style=\"text-align: right;\">\n",
       "      <th></th>\n",
       "      <th>gender</th>\n",
       "      <th>race/ethnicity</th>\n",
       "      <th>parent_education_level</th>\n",
       "      <th>lunch</th>\n",
       "      <th>test_prep_course</th>\n",
       "      <th>math</th>\n",
       "      <th>reading</th>\n",
       "      <th>writing</th>\n",
       "    </tr>\n",
       "  </thead>\n",
       "  <tbody>\n",
       "    <tr>\n",
       "      <th>0</th>\n",
       "      <td>female</td>\n",
       "      <td>group B</td>\n",
       "      <td>bachelor's degree</td>\n",
       "      <td>standard</td>\n",
       "      <td>none</td>\n",
       "      <td>72</td>\n",
       "      <td>72</td>\n",
       "      <td>74</td>\n",
       "    </tr>\n",
       "    <tr>\n",
       "      <th>2</th>\n",
       "      <td>female</td>\n",
       "      <td>group B</td>\n",
       "      <td>master's degree</td>\n",
       "      <td>standard</td>\n",
       "      <td>none</td>\n",
       "      <td>90</td>\n",
       "      <td>95</td>\n",
       "      <td>93</td>\n",
       "    </tr>\n",
       "    <tr>\n",
       "      <th>3</th>\n",
       "      <td>male</td>\n",
       "      <td>group A</td>\n",
       "      <td>associate's degree</td>\n",
       "      <td>free/reduced</td>\n",
       "      <td>none</td>\n",
       "      <td>47</td>\n",
       "      <td>57</td>\n",
       "      <td>44</td>\n",
       "    </tr>\n",
       "    <tr>\n",
       "      <th>4</th>\n",
       "      <td>male</td>\n",
       "      <td>group C</td>\n",
       "      <td>some college</td>\n",
       "      <td>standard</td>\n",
       "      <td>none</td>\n",
       "      <td>76</td>\n",
       "      <td>78</td>\n",
       "      <td>75</td>\n",
       "    </tr>\n",
       "    <tr>\n",
       "      <th>5</th>\n",
       "      <td>female</td>\n",
       "      <td>group B</td>\n",
       "      <td>associate's degree</td>\n",
       "      <td>standard</td>\n",
       "      <td>none</td>\n",
       "      <td>71</td>\n",
       "      <td>83</td>\n",
       "      <td>78</td>\n",
       "    </tr>\n",
       "  </tbody>\n",
       "</table>\n",
       "</div>"
      ],
      "text/plain": [
       "   gender race/ethnicity parent_education_level         lunch  \\\n",
       "0  female        group B      bachelor's degree      standard   \n",
       "2  female        group B        master's degree      standard   \n",
       "3    male        group A     associate's degree  free/reduced   \n",
       "4    male        group C           some college      standard   \n",
       "5  female        group B     associate's degree      standard   \n",
       "\n",
       "  test_prep_course  math  reading  writing  \n",
       "0             none    72       72       74  \n",
       "2             none    90       95       93  \n",
       "3             none    47       57       44  \n",
       "4             none    76       78       75  \n",
       "5             none    71       83       78  "
      ]
     },
     "execution_count": 13,
     "metadata": {},
     "output_type": "execute_result"
    }
   ],
   "source": [
    "no_prep.head()"
   ]
  },
  {
   "cell_type": "code",
   "execution_count": 9,
   "id": "7bba0b89-7eda-429f-a6bc-1aecf86bea63",
   "metadata": {},
   "outputs": [
    {
     "data": {
      "text/plain": [
       "66.53426791277259"
      ]
     },
     "execution_count": 9,
     "metadata": {},
     "output_type": "execute_result"
    }
   ],
   "source": [
    "#Average test scores of students that have taken no prep courses\n",
    "no_prep.reading.mean()"
   ]
  },
  {
   "cell_type": "code",
   "execution_count": 16,
   "id": "fb825976-f40d-4a71-859b-5a02c9c2f9b2",
   "metadata": {},
   "outputs": [
    {
     "data": {
      "application/com.datacamp.data-table.v1+json": {
       "is_truncated": false,
       "table": {
        "data": [
         {
          "gender": "female",
          "index": 0,
          "lunch": "standard",
          "math": 72,
          "parent_education_level": "bachelor's degree",
          "race/ethnicity": "group B",
          "reading": 72,
          "test_prep_course": "none",
          "writing": 74
         },
         {
          "gender": "female",
          "index": 1,
          "lunch": "standard",
          "math": 69,
          "parent_education_level": "some college",
          "race/ethnicity": "group C",
          "reading": 90,
          "test_prep_course": "completed",
          "writing": 88
         },
         {
          "gender": "female",
          "index": 2,
          "lunch": "standard",
          "math": 90,
          "parent_education_level": "master's degree",
          "race/ethnicity": "group B",
          "reading": 95,
          "test_prep_course": "none",
          "writing": 93
         },
         {
          "gender": "male",
          "index": 3,
          "lunch": "free/reduced",
          "math": 47,
          "parent_education_level": "associate's degree",
          "race/ethnicity": "group A",
          "reading": 57,
          "test_prep_course": "none",
          "writing": 44
         },
         {
          "gender": "male",
          "index": 4,
          "lunch": "standard",
          "math": 76,
          "parent_education_level": "some college",
          "race/ethnicity": "group C",
          "reading": 78,
          "test_prep_course": "none",
          "writing": 75
         }
        ],
        "schema": {
         "fields": [
          {
           "name": "index",
           "type": "integer"
          },
          {
           "name": "gender",
           "type": "string"
          },
          {
           "name": "race/ethnicity",
           "type": "string"
          },
          {
           "name": "parent_education_level",
           "type": "string"
          },
          {
           "name": "lunch",
           "type": "string"
          },
          {
           "name": "test_prep_course",
           "type": "string"
          },
          {
           "name": "math",
           "type": "integer"
          },
          {
           "name": "reading",
           "type": "integer"
          },
          {
           "name": "writing",
           "type": "integer"
          }
         ],
         "pandas_version": "0.20.0",
         "primaryKey": [
          "index"
         ]
        }
       }
      },
      "text/html": [
       "<div>\n",
       "<style scoped>\n",
       "    .dataframe tbody tr th:only-of-type {\n",
       "        vertical-align: middle;\n",
       "    }\n",
       "\n",
       "    .dataframe tbody tr th {\n",
       "        vertical-align: top;\n",
       "    }\n",
       "\n",
       "    .dataframe thead th {\n",
       "        text-align: right;\n",
       "    }\n",
       "</style>\n",
       "<table border=\"1\" class=\"dataframe\">\n",
       "  <thead>\n",
       "    <tr style=\"text-align: right;\">\n",
       "      <th></th>\n",
       "      <th>gender</th>\n",
       "      <th>race/ethnicity</th>\n",
       "      <th>parent_education_level</th>\n",
       "      <th>lunch</th>\n",
       "      <th>test_prep_course</th>\n",
       "      <th>math</th>\n",
       "      <th>reading</th>\n",
       "      <th>writing</th>\n",
       "    </tr>\n",
       "  </thead>\n",
       "  <tbody>\n",
       "    <tr>\n",
       "      <th>0</th>\n",
       "      <td>female</td>\n",
       "      <td>group B</td>\n",
       "      <td>bachelor's degree</td>\n",
       "      <td>standard</td>\n",
       "      <td>none</td>\n",
       "      <td>72</td>\n",
       "      <td>72</td>\n",
       "      <td>74</td>\n",
       "    </tr>\n",
       "    <tr>\n",
       "      <th>1</th>\n",
       "      <td>female</td>\n",
       "      <td>group C</td>\n",
       "      <td>some college</td>\n",
       "      <td>standard</td>\n",
       "      <td>completed</td>\n",
       "      <td>69</td>\n",
       "      <td>90</td>\n",
       "      <td>88</td>\n",
       "    </tr>\n",
       "    <tr>\n",
       "      <th>2</th>\n",
       "      <td>female</td>\n",
       "      <td>group B</td>\n",
       "      <td>master's degree</td>\n",
       "      <td>standard</td>\n",
       "      <td>none</td>\n",
       "      <td>90</td>\n",
       "      <td>95</td>\n",
       "      <td>93</td>\n",
       "    </tr>\n",
       "    <tr>\n",
       "      <th>3</th>\n",
       "      <td>male</td>\n",
       "      <td>group A</td>\n",
       "      <td>associate's degree</td>\n",
       "      <td>free/reduced</td>\n",
       "      <td>none</td>\n",
       "      <td>47</td>\n",
       "      <td>57</td>\n",
       "      <td>44</td>\n",
       "    </tr>\n",
       "    <tr>\n",
       "      <th>4</th>\n",
       "      <td>male</td>\n",
       "      <td>group C</td>\n",
       "      <td>some college</td>\n",
       "      <td>standard</td>\n",
       "      <td>none</td>\n",
       "      <td>76</td>\n",
       "      <td>78</td>\n",
       "      <td>75</td>\n",
       "    </tr>\n",
       "  </tbody>\n",
       "</table>\n",
       "</div>"
      ],
      "text/plain": [
       "   gender race/ethnicity parent_education_level         lunch  \\\n",
       "0  female        group B      bachelor's degree      standard   \n",
       "1  female        group C           some college      standard   \n",
       "2  female        group B        master's degree      standard   \n",
       "3    male        group A     associate's degree  free/reduced   \n",
       "4    male        group C           some college      standard   \n",
       "\n",
       "  test_prep_course  math  reading  writing  \n",
       "0             none    72       72       74  \n",
       "1        completed    69       90       88  \n",
       "2             none    90       95       93  \n",
       "3             none    47       57       44  \n",
       "4             none    76       78       75  "
      ]
     },
     "execution_count": 16,
     "metadata": {},
     "output_type": "execute_result"
    }
   ],
   "source": [
    "exam_df.head()"
   ]
  },
  {
   "cell_type": "code",
   "execution_count": 10,
   "id": "872ac318-7e45-4b60-afec-9f2444d19ab2",
   "metadata": {},
   "outputs": [
    {
     "data": {
      "application/com.datacamp.data-table.v1+json": {
       "is_truncated": false,
       "table": {
        "data": [
         {
          "math": 67.8828828829,
          "parent_education_level": "associate's degree",
          "reading": 70.9279279279,
          "writing": 69.8963963964
         },
         {
          "math": 69.3898305085,
          "parent_education_level": "bachelor's degree",
          "reading": 73,
          "writing": 73.3813559322
         },
         {
          "math": 62.137755102,
          "parent_education_level": "high school",
          "reading": 64.7040816327,
          "writing": 62.4489795918
         },
         {
          "math": 69.7457627119,
          "parent_education_level": "master's degree",
          "reading": 75.3728813559,
          "writing": 75.6779661017
         },
         {
          "math": 67.1283185841,
          "parent_education_level": "some college",
          "reading": 69.4601769912,
          "writing": 68.8407079646
         },
         {
          "math": 63.4972067039,
          "parent_education_level": "some high school",
          "reading": 66.938547486,
          "writing": 64.8882681564
         }
        ],
        "schema": {
         "fields": [
          {
           "name": "parent_education_level",
           "type": "string"
          },
          {
           "name": "math",
           "type": "number"
          },
          {
           "name": "reading",
           "type": "number"
          },
          {
           "name": "writing",
           "type": "number"
          }
         ],
         "pandas_version": "0.20.0",
         "primaryKey": [
          "parent_education_level"
         ]
        }
       }
      },
      "text/html": [
       "<div>\n",
       "<style scoped>\n",
       "    .dataframe tbody tr th:only-of-type {\n",
       "        vertical-align: middle;\n",
       "    }\n",
       "\n",
       "    .dataframe tbody tr th {\n",
       "        vertical-align: top;\n",
       "    }\n",
       "\n",
       "    .dataframe thead th {\n",
       "        text-align: right;\n",
       "    }\n",
       "</style>\n",
       "<table border=\"1\" class=\"dataframe\">\n",
       "  <thead>\n",
       "    <tr style=\"text-align: right;\">\n",
       "      <th></th>\n",
       "      <th>math</th>\n",
       "      <th>reading</th>\n",
       "      <th>writing</th>\n",
       "    </tr>\n",
       "    <tr>\n",
       "      <th>parent_education_level</th>\n",
       "      <th></th>\n",
       "      <th></th>\n",
       "      <th></th>\n",
       "    </tr>\n",
       "  </thead>\n",
       "  <tbody>\n",
       "    <tr>\n",
       "      <th>associate's degree</th>\n",
       "      <td>67.882883</td>\n",
       "      <td>70.927928</td>\n",
       "      <td>69.896396</td>\n",
       "    </tr>\n",
       "    <tr>\n",
       "      <th>bachelor's degree</th>\n",
       "      <td>69.389831</td>\n",
       "      <td>73.000000</td>\n",
       "      <td>73.381356</td>\n",
       "    </tr>\n",
       "    <tr>\n",
       "      <th>high school</th>\n",
       "      <td>62.137755</td>\n",
       "      <td>64.704082</td>\n",
       "      <td>62.448980</td>\n",
       "    </tr>\n",
       "    <tr>\n",
       "      <th>master's degree</th>\n",
       "      <td>69.745763</td>\n",
       "      <td>75.372881</td>\n",
       "      <td>75.677966</td>\n",
       "    </tr>\n",
       "    <tr>\n",
       "      <th>some college</th>\n",
       "      <td>67.128319</td>\n",
       "      <td>69.460177</td>\n",
       "      <td>68.840708</td>\n",
       "    </tr>\n",
       "    <tr>\n",
       "      <th>some high school</th>\n",
       "      <td>63.497207</td>\n",
       "      <td>66.938547</td>\n",
       "      <td>64.888268</td>\n",
       "    </tr>\n",
       "  </tbody>\n",
       "</table>\n",
       "</div>"
      ],
      "text/plain": [
       "                             math    reading    writing\n",
       "parent_education_level                                 \n",
       "associate's degree      67.882883  70.927928  69.896396\n",
       "bachelor's degree       69.389831  73.000000  73.381356\n",
       "high school             62.137755  64.704082  62.448980\n",
       "master's degree         69.745763  75.372881  75.677966\n",
       "some college            67.128319  69.460177  68.840708\n",
       "some high school        63.497207  66.938547  64.888268"
      ]
     },
     "execution_count": 10,
     "metadata": {},
     "output_type": "execute_result"
    }
   ],
   "source": [
    "#Average score of students in different education levels\n",
    "exam_df.groupby('parent_education_level').mean()"
   ]
  },
  {
   "cell_type": "code",
   "execution_count": 11,
   "id": "1e64ad98-544c-4f5e-8ca7-ab5f20e97f8a",
   "metadata": {},
   "outputs": [],
   "source": [
    "#Data Visualizations"
   ]
  },
  {
   "cell_type": "code",
   "execution_count": 14,
   "id": "323560c8-db90-40b7-92dc-35b24d6c9858",
   "metadata": {},
   "outputs": [
    {
     "data": {
      "text/plain": [
       "(1000, 8)"
      ]
     },
     "execution_count": 14,
     "metadata": {},
     "output_type": "execute_result"
    }
   ],
   "source": [
    "exam_df.shape"
   ]
  },
  {
   "cell_type": "code",
   "execution_count": 12,
   "id": "97a4bd1a-018c-4471-a79e-e41d24d3d4e4",
   "metadata": {},
   "outputs": [
    {
     "data": {
      "application/com.datacamp.data-table.v1+json": {
       "is_truncated": false,
       "table": {
        "data": [
         {
          "index": "count",
          "math": 1000,
          "reading": 1000,
          "writing": 1000
         },
         {
          "index": "mean",
          "math": 66.089,
          "reading": 69.169,
          "writing": 68.054
         },
         {
          "index": "std",
          "math": 15.163080096,
          "reading": 14.6001919373,
          "writing": 15.1956570109
         },
         {
          "index": "min",
          "math": 0,
          "reading": 17,
          "writing": 10
         },
         {
          "index": "25%",
          "math": 57,
          "reading": 59,
          "writing": 57.75
         },
         {
          "index": "50%",
          "math": 66,
          "reading": 70,
          "writing": 69
         },
         {
          "index": "75%",
          "math": 77,
          "reading": 79,
          "writing": 79
         },
         {
          "index": "max",
          "math": 100,
          "reading": 100,
          "writing": 100
         }
        ],
        "schema": {
         "fields": [
          {
           "name": "index",
           "type": "string"
          },
          {
           "name": "math",
           "type": "number"
          },
          {
           "name": "reading",
           "type": "number"
          },
          {
           "name": "writing",
           "type": "number"
          }
         ],
         "pandas_version": "0.20.0",
         "primaryKey": [
          "index"
         ]
        }
       }
      },
      "text/html": [
       "<div>\n",
       "<style scoped>\n",
       "    .dataframe tbody tr th:only-of-type {\n",
       "        vertical-align: middle;\n",
       "    }\n",
       "\n",
       "    .dataframe tbody tr th {\n",
       "        vertical-align: top;\n",
       "    }\n",
       "\n",
       "    .dataframe thead th {\n",
       "        text-align: right;\n",
       "    }\n",
       "</style>\n",
       "<table border=\"1\" class=\"dataframe\">\n",
       "  <thead>\n",
       "    <tr style=\"text-align: right;\">\n",
       "      <th></th>\n",
       "      <th>math</th>\n",
       "      <th>reading</th>\n",
       "      <th>writing</th>\n",
       "    </tr>\n",
       "  </thead>\n",
       "  <tbody>\n",
       "    <tr>\n",
       "      <th>count</th>\n",
       "      <td>1000.00000</td>\n",
       "      <td>1000.000000</td>\n",
       "      <td>1000.000000</td>\n",
       "    </tr>\n",
       "    <tr>\n",
       "      <th>mean</th>\n",
       "      <td>66.08900</td>\n",
       "      <td>69.169000</td>\n",
       "      <td>68.054000</td>\n",
       "    </tr>\n",
       "    <tr>\n",
       "      <th>std</th>\n",
       "      <td>15.16308</td>\n",
       "      <td>14.600192</td>\n",
       "      <td>15.195657</td>\n",
       "    </tr>\n",
       "    <tr>\n",
       "      <th>min</th>\n",
       "      <td>0.00000</td>\n",
       "      <td>17.000000</td>\n",
       "      <td>10.000000</td>\n",
       "    </tr>\n",
       "    <tr>\n",
       "      <th>25%</th>\n",
       "      <td>57.00000</td>\n",
       "      <td>59.000000</td>\n",
       "      <td>57.750000</td>\n",
       "    </tr>\n",
       "    <tr>\n",
       "      <th>50%</th>\n",
       "      <td>66.00000</td>\n",
       "      <td>70.000000</td>\n",
       "      <td>69.000000</td>\n",
       "    </tr>\n",
       "    <tr>\n",
       "      <th>75%</th>\n",
       "      <td>77.00000</td>\n",
       "      <td>79.000000</td>\n",
       "      <td>79.000000</td>\n",
       "    </tr>\n",
       "    <tr>\n",
       "      <th>max</th>\n",
       "      <td>100.00000</td>\n",
       "      <td>100.000000</td>\n",
       "      <td>100.000000</td>\n",
       "    </tr>\n",
       "  </tbody>\n",
       "</table>\n",
       "</div>"
      ],
      "text/plain": [
       "             math      reading      writing\n",
       "count  1000.00000  1000.000000  1000.000000\n",
       "mean     66.08900    69.169000    68.054000\n",
       "std      15.16308    14.600192    15.195657\n",
       "min       0.00000    17.000000    10.000000\n",
       "25%      57.00000    59.000000    57.750000\n",
       "50%      66.00000    70.000000    69.000000\n",
       "75%      77.00000    79.000000    79.000000\n",
       "max     100.00000   100.000000   100.000000"
      ]
     },
     "execution_count": 12,
     "metadata": {},
     "output_type": "execute_result"
    }
   ],
   "source": [
    "exam_df.describe()"
   ]
  },
  {
   "cell_type": "code",
   "execution_count": 22,
   "id": "f89989c0-2aab-4014-a804-7c23126c37f4",
   "metadata": {},
   "outputs": [],
   "source": [
    "#Math Results of Students who have taken prep course Vs who have not taken prep course"
   ]
  },
  {
   "cell_type": "code",
   "execution_count": 13,
   "id": "9825be91-d1b7-4a0f-a0d5-faddc2a52acf",
   "metadata": {},
   "outputs": [],
   "source": [
    "import plotly.express as px"
   ]
  },
  {
   "cell_type": "code",
   "execution_count": 21,
   "id": "f16186c5-c927-4363-8783-87275bf47143",
   "metadata": {},
   "outputs": [
    {
     "data": {
      "application/vnd.plotly.v1+json": {
       "config": {
        "plotlyServerURL": "https://plot.ly"
       },
       "data": [
        {
         "alignmentgroup": "True",
         "bingroup": "x",
         "hovertemplate": "test_prep_course=none<br>math=%{x}<br>count=%{y}<extra></extra>",
         "legendgroup": "none",
         "marker": {
          "color": "#636efa",
          "pattern": {
           "shape": ""
          }
         },
         "name": "none",
         "offsetgroup": "none",
         "orientation": "v",
         "showlegend": true,
         "type": "histogram",
         "x": [
          72,
          90,
          47,
          76,
          71,
          40,
          38,
          58,
          40,
          65,
          50,
          69,
          88,
          18,
          54,
          66,
          44,
          69,
          73,
          69,
          67,
          70,
          62,
          69,
          63,
          56,
          40,
          97,
          74,
          50,
          57,
          55,
          58,
          53,
          50,
          65,
          66,
          53,
          53,
          88,
          33,
          52,
          0,
          39,
          62,
          69,
          59,
          67,
          45,
          60,
          61,
          39,
          41,
          61,
          49,
          44,
          30,
          62,
          47,
          49,
          72,
          42,
          73,
          76,
          71,
          58,
          73,
          65,
          27,
          71,
          79,
          58,
          65,
          79,
          85,
          58,
          87,
          52,
          70,
          62,
          54,
          51,
          84,
          75,
          78,
          51,
          55,
          63,
          83,
          87,
          72,
          82,
          51,
          89,
          58,
          70,
          59,
          76,
          59,
          57,
          88,
          22,
          88,
          73,
          77,
          54,
          62,
          60,
          66,
          49,
          52,
          81,
          94,
          79,
          63,
          46,
          50,
          65,
          80,
          48,
          77,
          66,
          62,
          61,
          55,
          45,
          78,
          65,
          69,
          57,
          59,
          82,
          74,
          58,
          35,
          42,
          34,
          66,
          87,
          55,
          86,
          45,
          72,
          57,
          68,
          76,
          46,
          67,
          92,
          80,
          63,
          54,
          84,
          80,
          56,
          59,
          75,
          85,
          89,
          65,
          68,
          71,
          80,
          54,
          62,
          64,
          70,
          44,
          99,
          76,
          59,
          63,
          69,
          71,
          69,
          58,
          47,
          65,
          83,
          65,
          73,
          53,
          45,
          73,
          37,
          67,
          88,
          76,
          86,
          65,
          67,
          90,
          56,
          80,
          69,
          51,
          53,
          49,
          73,
          66,
          71,
          83,
          63,
          56,
          75,
          71,
          43,
          41,
          82,
          61,
          28,
          41,
          71,
          47,
          90,
          83,
          61,
          49,
          24,
          58,
          61,
          79,
          72,
          62,
          75,
          87,
          52,
          66,
          46,
          59,
          61,
          63,
          59,
          80,
          58,
          52,
          27,
          59,
          61,
          44,
          73,
          84,
          74,
          59,
          46,
          80,
          71,
          66,
          80,
          79,
          38,
          38,
          67,
          64,
          57,
          62,
          73,
          77,
          76,
          48,
          50,
          85,
          74,
          60,
          53,
          49,
          54,
          63,
          82,
          71,
          84,
          74,
          68,
          41,
          62,
          86,
          69,
          65,
          68,
          64,
          61,
          61,
          47,
          73,
          75,
          75,
          70,
          78,
          59,
          73,
          79,
          69,
          47,
          81,
          100,
          65,
          65,
          53,
          37,
          79,
          53,
          100,
          53,
          54,
          71,
          77,
          84,
          26,
          91,
          63,
          59,
          80,
          55,
          76,
          52,
          68,
          59,
          49,
          70,
          61,
          60,
          65,
          64,
          83,
          81,
          54,
          54,
          66,
          76,
          74,
          63,
          40,
          82,
          68,
          55,
          79,
          86,
          76,
          64,
          62,
          74,
          71,
          91,
          69,
          54,
          68,
          36,
          29,
          62,
          47,
          51,
          81,
          82,
          64,
          62,
          79,
          79,
          40,
          77,
          53,
          32,
          61,
          53,
          73,
          63,
          48,
          48,
          63,
          68,
          91,
          53,
          74,
          81,
          53,
          81,
          77,
          63,
          69,
          65,
          55,
          44,
          54,
          48,
          58,
          71,
          68,
          74,
          30,
          53,
          69,
          65,
          54,
          29,
          76,
          60,
          75,
          85,
          40,
          61,
          58,
          58,
          65,
          82,
          60,
          37,
          88,
          95,
          35,
          62,
          61,
          61,
          49,
          67,
          79,
          75,
          84,
          71,
          86,
          76,
          41,
          72,
          70,
          59,
          64,
          50,
          73,
          62,
          77,
          69,
          43,
          90,
          74,
          73,
          55,
          65,
          80,
          77,
          73,
          66,
          52,
          69,
          81,
          63,
          67,
          60,
          62,
          77,
          53,
          93,
          49,
          73,
          77,
          49,
          79,
          59,
          66,
          57,
          63,
          62,
          46,
          66,
          89,
          98,
          81,
          76,
          62,
          50,
          47,
          73,
          53,
          55,
          55,
          53,
          67,
          92,
          81,
          61,
          80,
          37,
          81,
          55,
          72,
          69,
          69,
          50,
          68,
          58,
          84,
          55,
          53,
          48,
          62,
          60,
          74,
          68,
          58,
          52,
          75,
          62,
          66,
          49,
          66,
          35,
          46,
          77,
          72,
          19,
          68,
          52,
          48,
          60,
          66,
          42,
          70,
          70,
          69,
          52,
          87,
          82,
          73,
          75,
          64,
          41,
          90,
          59,
          51,
          45,
          72,
          45,
          60,
          77,
          78,
          71,
          48,
          62,
          65,
          68,
          61,
          64,
          58,
          73,
          66,
          39,
          64,
          90,
          64,
          59,
          80,
          71,
          61,
          87,
          82,
          62,
          97,
          75,
          65,
          87,
          53,
          81,
          97,
          59,
          61,
          49,
          59,
          90,
          43,
          80,
          81,
          57,
          59,
          64,
          64,
          55,
          51,
          54,
          69,
          44,
          85,
          50,
          59,
          32,
          36,
          85,
          73,
          67,
          88,
          57,
          67,
          50,
          69,
          46,
          68,
          44,
          69,
          35,
          72,
          54,
          74,
          64,
          48,
          62,
          70,
          67,
          57,
          78,
          81,
          58,
          54,
          82,
          49,
          94,
          74,
          62,
          72,
          84,
          92,
          45,
          75,
          56,
          48,
          100,
          72,
          62,
          63,
          68,
          75,
          89,
          49,
          54,
          62,
          91,
          8,
          81,
          74,
          57,
          40,
          44,
          55,
          62,
          63,
          62,
          77
         ],
         "xaxis": "x",
         "yaxis": "y"
        },
        {
         "alignmentgroup": "True",
         "hovertemplate": "test_prep_course=none<br>math=%{x}<extra></extra>",
         "legendgroup": "none",
         "marker": {
          "color": "#636efa"
         },
         "name": "none",
         "notched": true,
         "offsetgroup": "none",
         "showlegend": false,
         "type": "box",
         "x": [
          72,
          90,
          47,
          76,
          71,
          40,
          38,
          58,
          40,
          65,
          50,
          69,
          88,
          18,
          54,
          66,
          44,
          69,
          73,
          69,
          67,
          70,
          62,
          69,
          63,
          56,
          40,
          97,
          74,
          50,
          57,
          55,
          58,
          53,
          50,
          65,
          66,
          53,
          53,
          88,
          33,
          52,
          0,
          39,
          62,
          69,
          59,
          67,
          45,
          60,
          61,
          39,
          41,
          61,
          49,
          44,
          30,
          62,
          47,
          49,
          72,
          42,
          73,
          76,
          71,
          58,
          73,
          65,
          27,
          71,
          79,
          58,
          65,
          79,
          85,
          58,
          87,
          52,
          70,
          62,
          54,
          51,
          84,
          75,
          78,
          51,
          55,
          63,
          83,
          87,
          72,
          82,
          51,
          89,
          58,
          70,
          59,
          76,
          59,
          57,
          88,
          22,
          88,
          73,
          77,
          54,
          62,
          60,
          66,
          49,
          52,
          81,
          94,
          79,
          63,
          46,
          50,
          65,
          80,
          48,
          77,
          66,
          62,
          61,
          55,
          45,
          78,
          65,
          69,
          57,
          59,
          82,
          74,
          58,
          35,
          42,
          34,
          66,
          87,
          55,
          86,
          45,
          72,
          57,
          68,
          76,
          46,
          67,
          92,
          80,
          63,
          54,
          84,
          80,
          56,
          59,
          75,
          85,
          89,
          65,
          68,
          71,
          80,
          54,
          62,
          64,
          70,
          44,
          99,
          76,
          59,
          63,
          69,
          71,
          69,
          58,
          47,
          65,
          83,
          65,
          73,
          53,
          45,
          73,
          37,
          67,
          88,
          76,
          86,
          65,
          67,
          90,
          56,
          80,
          69,
          51,
          53,
          49,
          73,
          66,
          71,
          83,
          63,
          56,
          75,
          71,
          43,
          41,
          82,
          61,
          28,
          41,
          71,
          47,
          90,
          83,
          61,
          49,
          24,
          58,
          61,
          79,
          72,
          62,
          75,
          87,
          52,
          66,
          46,
          59,
          61,
          63,
          59,
          80,
          58,
          52,
          27,
          59,
          61,
          44,
          73,
          84,
          74,
          59,
          46,
          80,
          71,
          66,
          80,
          79,
          38,
          38,
          67,
          64,
          57,
          62,
          73,
          77,
          76,
          48,
          50,
          85,
          74,
          60,
          53,
          49,
          54,
          63,
          82,
          71,
          84,
          74,
          68,
          41,
          62,
          86,
          69,
          65,
          68,
          64,
          61,
          61,
          47,
          73,
          75,
          75,
          70,
          78,
          59,
          73,
          79,
          69,
          47,
          81,
          100,
          65,
          65,
          53,
          37,
          79,
          53,
          100,
          53,
          54,
          71,
          77,
          84,
          26,
          91,
          63,
          59,
          80,
          55,
          76,
          52,
          68,
          59,
          49,
          70,
          61,
          60,
          65,
          64,
          83,
          81,
          54,
          54,
          66,
          76,
          74,
          63,
          40,
          82,
          68,
          55,
          79,
          86,
          76,
          64,
          62,
          74,
          71,
          91,
          69,
          54,
          68,
          36,
          29,
          62,
          47,
          51,
          81,
          82,
          64,
          62,
          79,
          79,
          40,
          77,
          53,
          32,
          61,
          53,
          73,
          63,
          48,
          48,
          63,
          68,
          91,
          53,
          74,
          81,
          53,
          81,
          77,
          63,
          69,
          65,
          55,
          44,
          54,
          48,
          58,
          71,
          68,
          74,
          30,
          53,
          69,
          65,
          54,
          29,
          76,
          60,
          75,
          85,
          40,
          61,
          58,
          58,
          65,
          82,
          60,
          37,
          88,
          95,
          35,
          62,
          61,
          61,
          49,
          67,
          79,
          75,
          84,
          71,
          86,
          76,
          41,
          72,
          70,
          59,
          64,
          50,
          73,
          62,
          77,
          69,
          43,
          90,
          74,
          73,
          55,
          65,
          80,
          77,
          73,
          66,
          52,
          69,
          81,
          63,
          67,
          60,
          62,
          77,
          53,
          93,
          49,
          73,
          77,
          49,
          79,
          59,
          66,
          57,
          63,
          62,
          46,
          66,
          89,
          98,
          81,
          76,
          62,
          50,
          47,
          73,
          53,
          55,
          55,
          53,
          67,
          92,
          81,
          61,
          80,
          37,
          81,
          55,
          72,
          69,
          69,
          50,
          68,
          58,
          84,
          55,
          53,
          48,
          62,
          60,
          74,
          68,
          58,
          52,
          75,
          62,
          66,
          49,
          66,
          35,
          46,
          77,
          72,
          19,
          68,
          52,
          48,
          60,
          66,
          42,
          70,
          70,
          69,
          52,
          87,
          82,
          73,
          75,
          64,
          41,
          90,
          59,
          51,
          45,
          72,
          45,
          60,
          77,
          78,
          71,
          48,
          62,
          65,
          68,
          61,
          64,
          58,
          73,
          66,
          39,
          64,
          90,
          64,
          59,
          80,
          71,
          61,
          87,
          82,
          62,
          97,
          75,
          65,
          87,
          53,
          81,
          97,
          59,
          61,
          49,
          59,
          90,
          43,
          80,
          81,
          57,
          59,
          64,
          64,
          55,
          51,
          54,
          69,
          44,
          85,
          50,
          59,
          32,
          36,
          85,
          73,
          67,
          88,
          57,
          67,
          50,
          69,
          46,
          68,
          44,
          69,
          35,
          72,
          54,
          74,
          64,
          48,
          62,
          70,
          67,
          57,
          78,
          81,
          58,
          54,
          82,
          49,
          94,
          74,
          62,
          72,
          84,
          92,
          45,
          75,
          56,
          48,
          100,
          72,
          62,
          63,
          68,
          75,
          89,
          49,
          54,
          62,
          91,
          8,
          81,
          74,
          57,
          40,
          44,
          55,
          62,
          63,
          62,
          77
         ],
         "xaxis": "x2",
         "yaxis": "y2"
        },
        {
         "alignmentgroup": "True",
         "bingroup": "x",
         "hovertemplate": "test_prep_course=completed<br>math=%{x}<br>count=%{y}<extra></extra>",
         "legendgroup": "completed",
         "marker": {
          "color": "#EF553B",
          "pattern": {
           "shape": ""
          }
         },
         "name": "completed",
         "offsetgroup": "completed",
         "orientation": "v",
         "showlegend": true,
         "type": "histogram",
         "x": [
          69,
          88,
          64,
          78,
          46,
          65,
          74,
          81,
          75,
          59,
          55,
          57,
          82,
          77,
          71,
          82,
          58,
          79,
          58,
          63,
          80,
          61,
          50,
          43,
          78,
          65,
          63,
          68,
          60,
          98,
          66,
          77,
          99,
          79,
          91,
          88,
          65,
          53,
          87,
          75,
          74,
          51,
          71,
          42,
          68,
          100,
          62,
          59,
          70,
          66,
          61,
          82,
          75,
          96,
          53,
          58,
          68,
          67,
          72,
          43,
          81,
          46,
          71,
          52,
          97,
          62,
          45,
          65,
          62,
          76,
          77,
          69,
          59,
          67,
          74,
          81,
          80,
          60,
          87,
          84,
          83,
          61,
          56,
          52,
          88,
          83,
          64,
          73,
          58,
          47,
          60,
          78,
          65,
          64,
          79,
          88,
          88,
          85,
          59,
          70,
          81,
          97,
          77,
          63,
          78,
          46,
          71,
          40,
          81,
          67,
          74,
          99,
          67,
          68,
          59,
          77,
          67,
          82,
          62,
          76,
          35,
          69,
          67,
          77,
          63,
          42,
          85,
          49,
          69,
          45,
          82,
          85,
          87,
          73,
          57,
          65,
          59,
          88,
          65,
          52,
          87,
          70,
          84,
          63,
          51,
          71,
          57,
          82,
          57,
          47,
          59,
          50,
          89,
          67,
          67,
          86,
          64,
          72,
          75,
          72,
          77,
          83,
          68,
          90,
          71,
          76,
          73,
          64,
          79,
          68,
          59,
          94,
          95,
          54,
          77,
          76,
          66,
          66,
          67,
          53,
          56,
          68,
          62,
          79,
          73,
          66,
          51,
          85,
          97,
          75,
          79,
          78,
          92,
          72,
          87,
          55,
          74,
          96,
          63,
          92,
          61,
          71,
          50,
          40,
          61,
          48,
          73,
          92,
          56,
          84,
          69,
          94,
          65,
          58,
          100,
          100,
          69,
          44,
          66,
          67,
          80,
          74,
          74,
          65,
          69,
          51,
          68,
          85,
          65,
          50,
          63,
          81,
          65,
          69,
          50,
          73,
          70,
          29,
          62,
          94,
          85,
          66,
          75,
          57,
          79,
          87,
          59,
          42,
          93,
          80,
          60,
          76,
          73,
          96,
          91,
          55,
          74,
          81,
          65,
          68,
          68,
          87,
          53,
          59,
          87,
          71,
          79,
          77,
          70,
          52,
          69,
          78,
          58,
          76,
          52,
          72,
          94,
          76,
          52,
          91,
          32,
          89,
          57,
          67,
          76,
          54,
          87,
          94,
          61,
          85,
          49,
          56,
          69,
          74,
          77,
          60,
          75,
          58,
          23,
          74,
          40,
          91,
          52,
          39,
          71,
          82,
          78,
          70,
          82,
          63,
          71,
          62,
          93,
          86,
          88,
          63,
          67,
          65,
          34,
          93,
          79,
          70,
          52,
          47,
          100,
          57,
          91,
          74,
          65,
          46,
          67,
          61,
          70,
          98,
          85,
          77,
          72,
          61,
          49,
          57,
          75,
          58,
          65,
          66,
          78,
          53,
          64,
          60,
          55,
          79,
          78,
          81,
          67,
          86,
          65,
          88,
          59,
          68
         ],
         "xaxis": "x",
         "yaxis": "y"
        },
        {
         "alignmentgroup": "True",
         "hovertemplate": "test_prep_course=completed<br>math=%{x}<extra></extra>",
         "legendgroup": "completed",
         "marker": {
          "color": "#EF553B"
         },
         "name": "completed",
         "notched": true,
         "offsetgroup": "completed",
         "showlegend": false,
         "type": "box",
         "x": [
          69,
          88,
          64,
          78,
          46,
          65,
          74,
          81,
          75,
          59,
          55,
          57,
          82,
          77,
          71,
          82,
          58,
          79,
          58,
          63,
          80,
          61,
          50,
          43,
          78,
          65,
          63,
          68,
          60,
          98,
          66,
          77,
          99,
          79,
          91,
          88,
          65,
          53,
          87,
          75,
          74,
          51,
          71,
          42,
          68,
          100,
          62,
          59,
          70,
          66,
          61,
          82,
          75,
          96,
          53,
          58,
          68,
          67,
          72,
          43,
          81,
          46,
          71,
          52,
          97,
          62,
          45,
          65,
          62,
          76,
          77,
          69,
          59,
          67,
          74,
          81,
          80,
          60,
          87,
          84,
          83,
          61,
          56,
          52,
          88,
          83,
          64,
          73,
          58,
          47,
          60,
          78,
          65,
          64,
          79,
          88,
          88,
          85,
          59,
          70,
          81,
          97,
          77,
          63,
          78,
          46,
          71,
          40,
          81,
          67,
          74,
          99,
          67,
          68,
          59,
          77,
          67,
          82,
          62,
          76,
          35,
          69,
          67,
          77,
          63,
          42,
          85,
          49,
          69,
          45,
          82,
          85,
          87,
          73,
          57,
          65,
          59,
          88,
          65,
          52,
          87,
          70,
          84,
          63,
          51,
          71,
          57,
          82,
          57,
          47,
          59,
          50,
          89,
          67,
          67,
          86,
          64,
          72,
          75,
          72,
          77,
          83,
          68,
          90,
          71,
          76,
          73,
          64,
          79,
          68,
          59,
          94,
          95,
          54,
          77,
          76,
          66,
          66,
          67,
          53,
          56,
          68,
          62,
          79,
          73,
          66,
          51,
          85,
          97,
          75,
          79,
          78,
          92,
          72,
          87,
          55,
          74,
          96,
          63,
          92,
          61,
          71,
          50,
          40,
          61,
          48,
          73,
          92,
          56,
          84,
          69,
          94,
          65,
          58,
          100,
          100,
          69,
          44,
          66,
          67,
          80,
          74,
          74,
          65,
          69,
          51,
          68,
          85,
          65,
          50,
          63,
          81,
          65,
          69,
          50,
          73,
          70,
          29,
          62,
          94,
          85,
          66,
          75,
          57,
          79,
          87,
          59,
          42,
          93,
          80,
          60,
          76,
          73,
          96,
          91,
          55,
          74,
          81,
          65,
          68,
          68,
          87,
          53,
          59,
          87,
          71,
          79,
          77,
          70,
          52,
          69,
          78,
          58,
          76,
          52,
          72,
          94,
          76,
          52,
          91,
          32,
          89,
          57,
          67,
          76,
          54,
          87,
          94,
          61,
          85,
          49,
          56,
          69,
          74,
          77,
          60,
          75,
          58,
          23,
          74,
          40,
          91,
          52,
          39,
          71,
          82,
          78,
          70,
          82,
          63,
          71,
          62,
          93,
          86,
          88,
          63,
          67,
          65,
          34,
          93,
          79,
          70,
          52,
          47,
          100,
          57,
          91,
          74,
          65,
          46,
          67,
          61,
          70,
          98,
          85,
          77,
          72,
          61,
          49,
          57,
          75,
          58,
          65,
          66,
          78,
          53,
          64,
          60,
          55,
          79,
          78,
          81,
          67,
          86,
          65,
          88,
          59,
          68
         ],
         "xaxis": "x2",
         "yaxis": "y2"
        }
       ],
       "layout": {
        "autosize": true,
        "bargap": 0.1,
        "barmode": "relative",
        "legend": {
         "title": {
          "text": "test_prep_course"
         },
         "tracegroupgap": 0
        },
        "template": {
         "data": {
          "bar": [
           {
            "error_x": {
             "color": "#2a3f5f"
            },
            "error_y": {
             "color": "#2a3f5f"
            },
            "marker": {
             "line": {
              "color": "#E5ECF6",
              "width": 0.5
             },
             "pattern": {
              "fillmode": "overlay",
              "size": 10,
              "solidity": 0.2
             }
            },
            "type": "bar"
           }
          ],
          "barpolar": [
           {
            "marker": {
             "line": {
              "color": "#E5ECF6",
              "width": 0.5
             },
             "pattern": {
              "fillmode": "overlay",
              "size": 10,
              "solidity": 0.2
             }
            },
            "type": "barpolar"
           }
          ],
          "carpet": [
           {
            "aaxis": {
             "endlinecolor": "#2a3f5f",
             "gridcolor": "white",
             "linecolor": "white",
             "minorgridcolor": "white",
             "startlinecolor": "#2a3f5f"
            },
            "baxis": {
             "endlinecolor": "#2a3f5f",
             "gridcolor": "white",
             "linecolor": "white",
             "minorgridcolor": "white",
             "startlinecolor": "#2a3f5f"
            },
            "type": "carpet"
           }
          ],
          "choropleth": [
           {
            "colorbar": {
             "outlinewidth": 0,
             "ticks": ""
            },
            "type": "choropleth"
           }
          ],
          "contour": [
           {
            "colorbar": {
             "outlinewidth": 0,
             "ticks": ""
            },
            "colorscale": [
             [
              0,
              "#0d0887"
             ],
             [
              0.1111111111111111,
              "#46039f"
             ],
             [
              0.2222222222222222,
              "#7201a8"
             ],
             [
              0.3333333333333333,
              "#9c179e"
             ],
             [
              0.4444444444444444,
              "#bd3786"
             ],
             [
              0.5555555555555556,
              "#d8576b"
             ],
             [
              0.6666666666666666,
              "#ed7953"
             ],
             [
              0.7777777777777778,
              "#fb9f3a"
             ],
             [
              0.8888888888888888,
              "#fdca26"
             ],
             [
              1,
              "#f0f921"
             ]
            ],
            "type": "contour"
           }
          ],
          "contourcarpet": [
           {
            "colorbar": {
             "outlinewidth": 0,
             "ticks": ""
            },
            "type": "contourcarpet"
           }
          ],
          "heatmap": [
           {
            "colorbar": {
             "outlinewidth": 0,
             "ticks": ""
            },
            "colorscale": [
             [
              0,
              "#0d0887"
             ],
             [
              0.1111111111111111,
              "#46039f"
             ],
             [
              0.2222222222222222,
              "#7201a8"
             ],
             [
              0.3333333333333333,
              "#9c179e"
             ],
             [
              0.4444444444444444,
              "#bd3786"
             ],
             [
              0.5555555555555556,
              "#d8576b"
             ],
             [
              0.6666666666666666,
              "#ed7953"
             ],
             [
              0.7777777777777778,
              "#fb9f3a"
             ],
             [
              0.8888888888888888,
              "#fdca26"
             ],
             [
              1,
              "#f0f921"
             ]
            ],
            "type": "heatmap"
           }
          ],
          "heatmapgl": [
           {
            "colorbar": {
             "outlinewidth": 0,
             "ticks": ""
            },
            "colorscale": [
             [
              0,
              "#0d0887"
             ],
             [
              0.1111111111111111,
              "#46039f"
             ],
             [
              0.2222222222222222,
              "#7201a8"
             ],
             [
              0.3333333333333333,
              "#9c179e"
             ],
             [
              0.4444444444444444,
              "#bd3786"
             ],
             [
              0.5555555555555556,
              "#d8576b"
             ],
             [
              0.6666666666666666,
              "#ed7953"
             ],
             [
              0.7777777777777778,
              "#fb9f3a"
             ],
             [
              0.8888888888888888,
              "#fdca26"
             ],
             [
              1,
              "#f0f921"
             ]
            ],
            "type": "heatmapgl"
           }
          ],
          "histogram": [
           {
            "marker": {
             "pattern": {
              "fillmode": "overlay",
              "size": 10,
              "solidity": 0.2
             }
            },
            "type": "histogram"
           }
          ],
          "histogram2d": [
           {
            "colorbar": {
             "outlinewidth": 0,
             "ticks": ""
            },
            "colorscale": [
             [
              0,
              "#0d0887"
             ],
             [
              0.1111111111111111,
              "#46039f"
             ],
             [
              0.2222222222222222,
              "#7201a8"
             ],
             [
              0.3333333333333333,
              "#9c179e"
             ],
             [
              0.4444444444444444,
              "#bd3786"
             ],
             [
              0.5555555555555556,
              "#d8576b"
             ],
             [
              0.6666666666666666,
              "#ed7953"
             ],
             [
              0.7777777777777778,
              "#fb9f3a"
             ],
             [
              0.8888888888888888,
              "#fdca26"
             ],
             [
              1,
              "#f0f921"
             ]
            ],
            "type": "histogram2d"
           }
          ],
          "histogram2dcontour": [
           {
            "colorbar": {
             "outlinewidth": 0,
             "ticks": ""
            },
            "colorscale": [
             [
              0,
              "#0d0887"
             ],
             [
              0.1111111111111111,
              "#46039f"
             ],
             [
              0.2222222222222222,
              "#7201a8"
             ],
             [
              0.3333333333333333,
              "#9c179e"
             ],
             [
              0.4444444444444444,
              "#bd3786"
             ],
             [
              0.5555555555555556,
              "#d8576b"
             ],
             [
              0.6666666666666666,
              "#ed7953"
             ],
             [
              0.7777777777777778,
              "#fb9f3a"
             ],
             [
              0.8888888888888888,
              "#fdca26"
             ],
             [
              1,
              "#f0f921"
             ]
            ],
            "type": "histogram2dcontour"
           }
          ],
          "mesh3d": [
           {
            "colorbar": {
             "outlinewidth": 0,
             "ticks": ""
            },
            "type": "mesh3d"
           }
          ],
          "parcoords": [
           {
            "line": {
             "colorbar": {
              "outlinewidth": 0,
              "ticks": ""
             }
            },
            "type": "parcoords"
           }
          ],
          "pie": [
           {
            "automargin": true,
            "type": "pie"
           }
          ],
          "scatter": [
           {
            "marker": {
             "colorbar": {
              "outlinewidth": 0,
              "ticks": ""
             }
            },
            "type": "scatter"
           }
          ],
          "scatter3d": [
           {
            "line": {
             "colorbar": {
              "outlinewidth": 0,
              "ticks": ""
             }
            },
            "marker": {
             "colorbar": {
              "outlinewidth": 0,
              "ticks": ""
             }
            },
            "type": "scatter3d"
           }
          ],
          "scattercarpet": [
           {
            "marker": {
             "colorbar": {
              "outlinewidth": 0,
              "ticks": ""
             }
            },
            "type": "scattercarpet"
           }
          ],
          "scattergeo": [
           {
            "marker": {
             "colorbar": {
              "outlinewidth": 0,
              "ticks": ""
             }
            },
            "type": "scattergeo"
           }
          ],
          "scattergl": [
           {
            "marker": {
             "colorbar": {
              "outlinewidth": 0,
              "ticks": ""
             }
            },
            "type": "scattergl"
           }
          ],
          "scattermapbox": [
           {
            "marker": {
             "colorbar": {
              "outlinewidth": 0,
              "ticks": ""
             }
            },
            "type": "scattermapbox"
           }
          ],
          "scatterpolar": [
           {
            "marker": {
             "colorbar": {
              "outlinewidth": 0,
              "ticks": ""
             }
            },
            "type": "scatterpolar"
           }
          ],
          "scatterpolargl": [
           {
            "marker": {
             "colorbar": {
              "outlinewidth": 0,
              "ticks": ""
             }
            },
            "type": "scatterpolargl"
           }
          ],
          "scatterternary": [
           {
            "marker": {
             "colorbar": {
              "outlinewidth": 0,
              "ticks": ""
             }
            },
            "type": "scatterternary"
           }
          ],
          "surface": [
           {
            "colorbar": {
             "outlinewidth": 0,
             "ticks": ""
            },
            "colorscale": [
             [
              0,
              "#0d0887"
             ],
             [
              0.1111111111111111,
              "#46039f"
             ],
             [
              0.2222222222222222,
              "#7201a8"
             ],
             [
              0.3333333333333333,
              "#9c179e"
             ],
             [
              0.4444444444444444,
              "#bd3786"
             ],
             [
              0.5555555555555556,
              "#d8576b"
             ],
             [
              0.6666666666666666,
              "#ed7953"
             ],
             [
              0.7777777777777778,
              "#fb9f3a"
             ],
             [
              0.8888888888888888,
              "#fdca26"
             ],
             [
              1,
              "#f0f921"
             ]
            ],
            "type": "surface"
           }
          ],
          "table": [
           {
            "cells": {
             "fill": {
              "color": "#EBF0F8"
             },
             "line": {
              "color": "white"
             }
            },
            "header": {
             "fill": {
              "color": "#C8D4E3"
             },
             "line": {
              "color": "white"
             }
            },
            "type": "table"
           }
          ]
         },
         "layout": {
          "annotationdefaults": {
           "arrowcolor": "#2a3f5f",
           "arrowhead": 0,
           "arrowwidth": 1
          },
          "autotypenumbers": "strict",
          "coloraxis": {
           "colorbar": {
            "outlinewidth": 0,
            "ticks": ""
           }
          },
          "colorscale": {
           "diverging": [
            [
             0,
             "#8e0152"
            ],
            [
             0.1,
             "#c51b7d"
            ],
            [
             0.2,
             "#de77ae"
            ],
            [
             0.3,
             "#f1b6da"
            ],
            [
             0.4,
             "#fde0ef"
            ],
            [
             0.5,
             "#f7f7f7"
            ],
            [
             0.6,
             "#e6f5d0"
            ],
            [
             0.7,
             "#b8e186"
            ],
            [
             0.8,
             "#7fbc41"
            ],
            [
             0.9,
             "#4d9221"
            ],
            [
             1,
             "#276419"
            ]
           ],
           "sequential": [
            [
             0,
             "#0d0887"
            ],
            [
             0.1111111111111111,
             "#46039f"
            ],
            [
             0.2222222222222222,
             "#7201a8"
            ],
            [
             0.3333333333333333,
             "#9c179e"
            ],
            [
             0.4444444444444444,
             "#bd3786"
            ],
            [
             0.5555555555555556,
             "#d8576b"
            ],
            [
             0.6666666666666666,
             "#ed7953"
            ],
            [
             0.7777777777777778,
             "#fb9f3a"
            ],
            [
             0.8888888888888888,
             "#fdca26"
            ],
            [
             1,
             "#f0f921"
            ]
           ],
           "sequentialminus": [
            [
             0,
             "#0d0887"
            ],
            [
             0.1111111111111111,
             "#46039f"
            ],
            [
             0.2222222222222222,
             "#7201a8"
            ],
            [
             0.3333333333333333,
             "#9c179e"
            ],
            [
             0.4444444444444444,
             "#bd3786"
            ],
            [
             0.5555555555555556,
             "#d8576b"
            ],
            [
             0.6666666666666666,
             "#ed7953"
            ],
            [
             0.7777777777777778,
             "#fb9f3a"
            ],
            [
             0.8888888888888888,
             "#fdca26"
            ],
            [
             1,
             "#f0f921"
            ]
           ]
          },
          "colorway": [
           "#636efa",
           "#EF553B",
           "#00cc96",
           "#ab63fa",
           "#FFA15A",
           "#19d3f3",
           "#FF6692",
           "#B6E880",
           "#FF97FF",
           "#FECB52"
          ],
          "font": {
           "color": "#2a3f5f"
          },
          "geo": {
           "bgcolor": "white",
           "lakecolor": "white",
           "landcolor": "#E5ECF6",
           "showlakes": true,
           "showland": true,
           "subunitcolor": "white"
          },
          "hoverlabel": {
           "align": "left"
          },
          "hovermode": "closest",
          "mapbox": {
           "style": "light"
          },
          "paper_bgcolor": "white",
          "plot_bgcolor": "#E5ECF6",
          "polar": {
           "angularaxis": {
            "gridcolor": "white",
            "linecolor": "white",
            "ticks": ""
           },
           "bgcolor": "#E5ECF6",
           "radialaxis": {
            "gridcolor": "white",
            "linecolor": "white",
            "ticks": ""
           }
          },
          "scene": {
           "xaxis": {
            "backgroundcolor": "#E5ECF6",
            "gridcolor": "white",
            "gridwidth": 2,
            "linecolor": "white",
            "showbackground": true,
            "ticks": "",
            "zerolinecolor": "white"
           },
           "yaxis": {
            "backgroundcolor": "#E5ECF6",
            "gridcolor": "white",
            "gridwidth": 2,
            "linecolor": "white",
            "showbackground": true,
            "ticks": "",
            "zerolinecolor": "white"
           },
           "zaxis": {
            "backgroundcolor": "#E5ECF6",
            "gridcolor": "white",
            "gridwidth": 2,
            "linecolor": "white",
            "showbackground": true,
            "ticks": "",
            "zerolinecolor": "white"
           }
          },
          "shapedefaults": {
           "line": {
            "color": "#2a3f5f"
           }
          },
          "ternary": {
           "aaxis": {
            "gridcolor": "white",
            "linecolor": "white",
            "ticks": ""
           },
           "baxis": {
            "gridcolor": "white",
            "linecolor": "white",
            "ticks": ""
           },
           "bgcolor": "#E5ECF6",
           "caxis": {
            "gridcolor": "white",
            "linecolor": "white",
            "ticks": ""
           }
          },
          "title": {
           "x": 0.05
          },
          "xaxis": {
           "automargin": true,
           "gridcolor": "white",
           "linecolor": "white",
           "ticks": "",
           "title": {
            "standoff": 15
           },
           "zerolinecolor": "white",
           "zerolinewidth": 2
          },
          "yaxis": {
           "automargin": true,
           "gridcolor": "white",
           "linecolor": "white",
           "ticks": "",
           "title": {
            "standoff": 15
           },
           "zerolinecolor": "white",
           "zerolinewidth": 2
          }
         }
        },
        "title": {
         "text": "Math Results"
        },
        "xaxis": {
         "anchor": "y",
         "autorange": true,
         "domain": [
          0,
          1
         ],
         "range": [
          -5.555555555555556,
          105.55555555555556
         ],
         "title": {
          "text": "math"
         },
         "type": "linear"
        },
        "xaxis2": {
         "anchor": "y2",
         "autorange": true,
         "domain": [
          0,
          1
         ],
         "matches": "x",
         "range": [
          -5.555555555555556,
          105.55555555555556
         ],
         "showgrid": true,
         "showticklabels": false,
         "type": "linear"
        },
        "yaxis": {
         "anchor": "x",
         "autorange": true,
         "domain": [
          0,
          0.7326
         ],
         "range": [
          0,
          64.21052631578948
         ],
         "title": {
          "text": "count"
         }
        },
        "yaxis2": {
         "anchor": "x2",
         "autorange": true,
         "domain": [
          0.7426,
          1
         ],
         "matches": "y2",
         "range": [
          -0.5,
          1.5
         ],
         "showgrid": false,
         "showline": false,
         "showticklabels": false,
         "ticks": "",
         "type": "category"
        }
       }
      },
      "image/png": "[encoded data removed]",
      "text/html": [
       "<div>                            <div id=\"9472694d-f956-4436-92ad-c3242f8846c6\" class=\"plotly-graph-div\" style=\"height:525px; width:100%;\"></div>            <script type=\"text/javascript\">                require([\"plotly\"], function(Plotly) {                    window.PLOTLYENV=window.PLOTLYENV || {};                                    if (document.getElementById(\"9472694d-f956-4436-92ad-c3242f8846c6\")) {                    Plotly.newPlot(                        \"9472694d-f956-4436-92ad-c3242f8846c6\",                        [{\"alignmentgroup\":\"True\",\"bingroup\":\"x\",\"hovertemplate\":\"test_prep_course=none<br>math=%{x}<br>count=%{y}<extra></extra>\",\"legendgroup\":\"none\",\"marker\":{\"color\":\"#636efa\",\"pattern\":{\"shape\":\"\"}},\"name\":\"none\",\"offsetgroup\":\"none\",\"orientation\":\"v\",\"showlegend\":true,\"type\":\"histogram\",\"x\":[72,90,47,76,71,40,38,58,40,65,50,69,88,18,54,66,44,69,73,69,67,70,62,69,63,56,40,97,74,50,57,55,58,53,50,65,66,53,53,88,33,52,0,39,62,69,59,67,45,60,61,39,41,61,49,44,30,62,47,49,72,42,73,76,71,58,73,65,27,71,79,58,65,79,85,58,87,52,70,62,54,51,84,75,78,51,55,63,83,87,72,82,51,89,58,70,59,76,59,57,88,22,88,73,77,54,62,60,66,49,52,81,94,79,63,46,50,65,80,48,77,66,62,61,55,45,78,65,69,57,59,82,74,58,35,42,34,66,87,55,86,45,72,57,68,76,46,67,92,80,63,54,84,80,56,59,75,85,89,65,68,71,80,54,62,64,70,44,99,76,59,63,69,71,69,58,47,65,83,65,73,53,45,73,37,67,88,76,86,65,67,90,56,80,69,51,53,49,73,66,71,83,63,56,75,71,43,41,82,61,28,41,71,47,90,83,61,49,24,58,61,79,72,62,75,87,52,66,46,59,61,63,59,80,58,52,27,59,61,44,73,84,74,59,46,80,71,66,80,79,38,38,67,64,57,62,73,77,76,48,50,85,74,60,53,49,54,63,82,71,84,74,68,41,62,86,69,65,68,64,61,61,47,73,75,75,70,78,59,73,79,69,47,81,100,65,65,53,37,79,53,100,53,54,71,77,84,26,91,63,59,80,55,76,52,68,59,49,70,61,60,65,64,83,81,54,54,66,76,74,63,40,82,68,55,79,86,76,64,62,74,71,91,69,54,68,36,29,62,47,51,81,82,64,62,79,79,40,77,53,32,61,53,73,63,48,48,63,68,91,53,74,81,53,81,77,63,69,65,55,44,54,48,58,71,68,74,30,53,69,65,54,29,76,60,75,85,40,61,58,58,65,82,60,37,88,95,35,62,61,61,49,67,79,75,84,71,86,76,41,72,70,59,64,50,73,62,77,69,43,90,74,73,55,65,80,77,73,66,52,69,81,63,67,60,62,77,53,93,49,73,77,49,79,59,66,57,63,62,46,66,89,98,81,76,62,50,47,73,53,55,55,53,67,92,81,61,80,37,81,55,72,69,69,50,68,58,84,55,53,48,62,60,74,68,58,52,75,62,66,49,66,35,46,77,72,19,68,52,48,60,66,42,70,70,69,52,87,82,73,75,64,41,90,59,51,45,72,45,60,77,78,71,48,62,65,68,61,64,58,73,66,39,64,90,64,59,80,71,61,87,82,62,97,75,65,87,53,81,97,59,61,49,59,90,43,80,81,57,59,64,64,55,51,54,69,44,85,50,59,32,36,85,73,67,88,57,67,50,69,46,68,44,69,35,72,54,74,64,48,62,70,67,57,78,81,58,54,82,49,94,74,62,72,84,92,45,75,56,48,100,72,62,63,68,75,89,49,54,62,91,8,81,74,57,40,44,55,62,63,62,77],\"xaxis\":\"x\",\"yaxis\":\"y\"},{\"alignmentgroup\":\"True\",\"hovertemplate\":\"test_prep_course=none<br>math=%{x}<extra></extra>\",\"legendgroup\":\"none\",\"marker\":{\"color\":\"#636efa\"},\"name\":\"none\",\"notched\":true,\"offsetgroup\":\"none\",\"showlegend\":false,\"type\":\"box\",\"x\":[72,90,47,76,71,40,38,58,40,65,50,69,88,18,54,66,44,69,73,69,67,70,62,69,63,56,40,97,74,50,57,55,58,53,50,65,66,53,53,88,33,52,0,39,62,69,59,67,45,60,61,39,41,61,49,44,30,62,47,49,72,42,73,76,71,58,73,65,27,71,79,58,65,79,85,58,87,52,70,62,54,51,84,75,78,51,55,63,83,87,72,82,51,89,58,70,59,76,59,57,88,22,88,73,77,54,62,60,66,49,52,81,94,79,63,46,50,65,80,48,77,66,62,61,55,45,78,65,69,57,59,82,74,58,35,42,34,66,87,55,86,45,72,57,68,76,46,67,92,80,63,54,84,80,56,59,75,85,89,65,68,71,80,54,62,64,70,44,99,76,59,63,69,71,69,58,47,65,83,65,73,53,45,73,37,67,88,76,86,65,67,90,56,80,69,51,53,49,73,66,71,83,63,56,75,71,43,41,82,61,28,41,71,47,90,83,61,49,24,58,61,79,72,62,75,87,52,66,46,59,61,63,59,80,58,52,27,59,61,44,73,84,74,59,46,80,71,66,80,79,38,38,67,64,57,62,73,77,76,48,50,85,74,60,53,49,54,63,82,71,84,74,68,41,62,86,69,65,68,64,61,61,47,73,75,75,70,78,59,73,79,69,47,81,100,65,65,53,37,79,53,100,53,54,71,77,84,26,91,63,59,80,55,76,52,68,59,49,70,61,60,65,64,83,81,54,54,66,76,74,63,40,82,68,55,79,86,76,64,62,74,71,91,69,54,68,36,29,62,47,51,81,82,64,62,79,79,40,77,53,32,61,53,73,63,48,48,63,68,91,53,74,81,53,81,77,63,69,65,55,44,54,48,58,71,68,74,30,53,69,65,54,29,76,60,75,85,40,61,58,58,65,82,60,37,88,95,35,62,61,61,49,67,79,75,84,71,86,76,41,72,70,59,64,50,73,62,77,69,43,90,74,73,55,65,80,77,73,66,52,69,81,63,67,60,62,77,53,93,49,73,77,49,79,59,66,57,63,62,46,66,89,98,81,76,62,50,47,73,53,55,55,53,67,92,81,61,80,37,81,55,72,69,69,50,68,58,84,55,53,48,62,60,74,68,58,52,75,62,66,49,66,35,46,77,72,19,68,52,48,60,66,42,70,70,69,52,87,82,73,75,64,41,90,59,51,45,72,45,60,77,78,71,48,62,65,68,61,64,58,73,66,39,64,90,64,59,80,71,61,87,82,62,97,75,65,87,53,81,97,59,61,49,59,90,43,80,81,57,59,64,64,55,51,54,69,44,85,50,59,32,36,85,73,67,88,57,67,50,69,46,68,44,69,35,72,54,74,64,48,62,70,67,57,78,81,58,54,82,49,94,74,62,72,84,92,45,75,56,48,100,72,62,63,68,75,89,49,54,62,91,8,81,74,57,40,44,55,62,63,62,77],\"xaxis\":\"x2\",\"yaxis\":\"y2\"},{\"alignmentgroup\":\"True\",\"bingroup\":\"x\",\"hovertemplate\":\"test_prep_course=completed<br>math=%{x}<br>count=%{y}<extra></extra>\",\"legendgroup\":\"completed\",\"marker\":{\"color\":\"#EF553B\",\"pattern\":{\"shape\":\"\"}},\"name\":\"completed\",\"offsetgroup\":\"completed\",\"orientation\":\"v\",\"showlegend\":true,\"type\":\"histogram\",\"x\":[69,88,64,78,46,65,74,81,75,59,55,57,82,77,71,82,58,79,58,63,80,61,50,43,78,65,63,68,60,98,66,77,99,79,91,88,65,53,87,75,74,51,71,42,68,100,62,59,70,66,61,82,75,96,53,58,68,67,72,43,81,46,71,52,97,62,45,65,62,76,77,69,59,67,74,81,80,60,87,84,83,61,56,52,88,83,64,73,58,47,60,78,65,64,79,88,88,85,59,70,81,97,77,63,78,46,71,40,81,67,74,99,67,68,59,77,67,82,62,76,35,69,67,77,63,42,85,49,69,45,82,85,87,73,57,65,59,88,65,52,87,70,84,63,51,71,57,82,57,47,59,50,89,67,67,86,64,72,75,72,77,83,68,90,71,76,73,64,79,68,59,94,95,54,77,76,66,66,67,53,56,68,62,79,73,66,51,85,97,75,79,78,92,72,87,55,74,96,63,92,61,71,50,40,61,48,73,92,56,84,69,94,65,58,100,100,69,44,66,67,80,74,74,65,69,51,68,85,65,50,63,81,65,69,50,73,70,29,62,94,85,66,75,57,79,87,59,42,93,80,60,76,73,96,91,55,74,81,65,68,68,87,53,59,87,71,79,77,70,52,69,78,58,76,52,72,94,76,52,91,32,89,57,67,76,54,87,94,61,85,49,56,69,74,77,60,75,58,23,74,40,91,52,39,71,82,78,70,82,63,71,62,93,86,88,63,67,65,34,93,79,70,52,47,100,57,91,74,65,46,67,61,70,98,85,77,72,61,49,57,75,58,65,66,78,53,64,60,55,79,78,81,67,86,65,88,59,68],\"xaxis\":\"x\",\"yaxis\":\"y\"},{\"alignmentgroup\":\"True\",\"hovertemplate\":\"test_prep_course=completed<br>math=%{x}<extra></extra>\",\"legendgroup\":\"completed\",\"marker\":{\"color\":\"#EF553B\"},\"name\":\"completed\",\"notched\":true,\"offsetgroup\":\"completed\",\"showlegend\":false,\"type\":\"box\",\"x\":[69,88,64,78,46,65,74,81,75,59,55,57,82,77,71,82,58,79,58,63,80,61,50,43,78,65,63,68,60,98,66,77,99,79,91,88,65,53,87,75,74,51,71,42,68,100,62,59,70,66,61,82,75,96,53,58,68,67,72,43,81,46,71,52,97,62,45,65,62,76,77,69,59,67,74,81,80,60,87,84,83,61,56,52,88,83,64,73,58,47,60,78,65,64,79,88,88,85,59,70,81,97,77,63,78,46,71,40,81,67,74,99,67,68,59,77,67,82,62,76,35,69,67,77,63,42,85,49,69,45,82,85,87,73,57,65,59,88,65,52,87,70,84,63,51,71,57,82,57,47,59,50,89,67,67,86,64,72,75,72,77,83,68,90,71,76,73,64,79,68,59,94,95,54,77,76,66,66,67,53,56,68,62,79,73,66,51,85,97,75,79,78,92,72,87,55,74,96,63,92,61,71,50,40,61,48,73,92,56,84,69,94,65,58,100,100,69,44,66,67,80,74,74,65,69,51,68,85,65,50,63,81,65,69,50,73,70,29,62,94,85,66,75,57,79,87,59,42,93,80,60,76,73,96,91,55,74,81,65,68,68,87,53,59,87,71,79,77,70,52,69,78,58,76,52,72,94,76,52,91,32,89,57,67,76,54,87,94,61,85,49,56,69,74,77,60,75,58,23,74,40,91,52,39,71,82,78,70,82,63,71,62,93,86,88,63,67,65,34,93,79,70,52,47,100,57,91,74,65,46,67,61,70,98,85,77,72,61,49,57,75,58,65,66,78,53,64,60,55,79,78,81,67,86,65,88,59,68],\"xaxis\":\"x2\",\"yaxis\":\"y2\"}],                        {\"bargap\":0.1,\"barmode\":\"relative\",\"legend\":{\"title\":{\"text\":\"test_prep_course\"},\"tracegroupgap\":0},\"template\":{\"data\":{\"bar\":[{\"error_x\":{\"color\":\"#2a3f5f\"},\"error_y\":{\"color\":\"#2a3f5f\"},\"marker\":{\"line\":{\"color\":\"#E5ECF6\",\"width\":0.5},\"pattern\":{\"fillmode\":\"overlay\",\"size\":10,\"solidity\":0.2}},\"type\":\"bar\"}],\"barpolar\":[{\"marker\":{\"line\":{\"color\":\"#E5ECF6\",\"width\":0.5},\"pattern\":{\"fillmode\":\"overlay\",\"size\":10,\"solidity\":0.2}},\"type\":\"barpolar\"}],\"carpet\":[{\"aaxis\":{\"endlinecolor\":\"#2a3f5f\",\"gridcolor\":\"white\",\"linecolor\":\"white\",\"minorgridcolor\":\"white\",\"startlinecolor\":\"#2a3f5f\"},\"baxis\":{\"endlinecolor\":\"#2a3f5f\",\"gridcolor\":\"white\",\"linecolor\":\"white\",\"minorgridcolor\":\"white\",\"startlinecolor\":\"#2a3f5f\"},\"type\":\"carpet\"}],\"choropleth\":[{\"colorbar\":{\"outlinewidth\":0,\"ticks\":\"\"},\"type\":\"choropleth\"}],\"contour\":[{\"colorbar\":{\"outlinewidth\":0,\"ticks\":\"\"},\"colorscale\":[[0.0,\"#0d0887\"],[0.1111111111111111,\"#46039f\"],[0.2222222222222222,\"#7201a8\"],[0.3333333333333333,\"#9c179e\"],[0.4444444444444444,\"#bd3786\"],[0.5555555555555556,\"#d8576b\"],[0.6666666666666666,\"#ed7953\"],[0.7777777777777778,\"#fb9f3a\"],[0.8888888888888888,\"#fdca26\"],[1.0,\"#f0f921\"]],\"type\":\"contour\"}],\"contourcarpet\":[{\"colorbar\":{\"outlinewidth\":0,\"ticks\":\"\"},\"type\":\"contourcarpet\"}],\"heatmap\":[{\"colorbar\":{\"outlinewidth\":0,\"ticks\":\"\"},\"colorscale\":[[0.0,\"#0d0887\"],[0.1111111111111111,\"#46039f\"],[0.2222222222222222,\"#7201a8\"],[0.3333333333333333,\"#9c179e\"],[0.4444444444444444,\"#bd3786\"],[0.5555555555555556,\"#d8576b\"],[0.6666666666666666,\"#ed7953\"],[0.7777777777777778,\"#fb9f3a\"],[0.8888888888888888,\"#fdca26\"],[1.0,\"#f0f921\"]],\"type\":\"heatmap\"}],\"heatmapgl\":[{\"colorbar\":{\"outlinewidth\":0,\"ticks\":\"\"},\"colorscale\":[[0.0,\"#0d0887\"],[0.1111111111111111,\"#46039f\"],[0.2222222222222222,\"#7201a8\"],[0.3333333333333333,\"#9c179e\"],[0.4444444444444444,\"#bd3786\"],[0.5555555555555556,\"#d8576b\"],[0.6666666666666666,\"#ed7953\"],[0.7777777777777778,\"#fb9f3a\"],[0.8888888888888888,\"#fdca26\"],[1.0,\"#f0f921\"]],\"type\":\"heatmapgl\"}],\"histogram\":[{\"marker\":{\"pattern\":{\"fillmode\":\"overlay\",\"size\":10,\"solidity\":0.2}},\"type\":\"histogram\"}],\"histogram2d\":[{\"colorbar\":{\"outlinewidth\":0,\"ticks\":\"\"},\"colorscale\":[[0.0,\"#0d0887\"],[0.1111111111111111,\"#46039f\"],[0.2222222222222222,\"#7201a8\"],[0.3333333333333333,\"#9c179e\"],[0.4444444444444444,\"#bd3786\"],[0.5555555555555556,\"#d8576b\"],[0.6666666666666666,\"#ed7953\"],[0.7777777777777778,\"#fb9f3a\"],[0.8888888888888888,\"#fdca26\"],[1.0,\"#f0f921\"]],\"type\":\"histogram2d\"}],\"histogram2dcontour\":[{\"colorbar\":{\"outlinewidth\":0,\"ticks\":\"\"},\"colorscale\":[[0.0,\"#0d0887\"],[0.1111111111111111,\"#46039f\"],[0.2222222222222222,\"#7201a8\"],[0.3333333333333333,\"#9c179e\"],[0.4444444444444444,\"#bd3786\"],[0.5555555555555556,\"#d8576b\"],[0.6666666666666666,\"#ed7953\"],[0.7777777777777778,\"#fb9f3a\"],[0.8888888888888888,\"#fdca26\"],[1.0,\"#f0f921\"]],\"type\":\"histogram2dcontour\"}],\"mesh3d\":[{\"colorbar\":{\"outlinewidth\":0,\"ticks\":\"\"},\"type\":\"mesh3d\"}],\"parcoords\":[{\"line\":{\"colorbar\":{\"outlinewidth\":0,\"ticks\":\"\"}},\"type\":\"parcoords\"}],\"pie\":[{\"automargin\":true,\"type\":\"pie\"}],\"scatter\":[{\"marker\":{\"colorbar\":{\"outlinewidth\":0,\"ticks\":\"\"}},\"type\":\"scatter\"}],\"scatter3d\":[{\"line\":{\"colorbar\":{\"outlinewidth\":0,\"ticks\":\"\"}},\"marker\":{\"colorbar\":{\"outlinewidth\":0,\"ticks\":\"\"}},\"type\":\"scatter3d\"}],\"scattercarpet\":[{\"marker\":{\"colorbar\":{\"outlinewidth\":0,\"ticks\":\"\"}},\"type\":\"scattercarpet\"}],\"scattergeo\":[{\"marker\":{\"colorbar\":{\"outlinewidth\":0,\"ticks\":\"\"}},\"type\":\"scattergeo\"}],\"scattergl\":[{\"marker\":{\"colorbar\":{\"outlinewidth\":0,\"ticks\":\"\"}},\"type\":\"scattergl\"}],\"scattermapbox\":[{\"marker\":{\"colorbar\":{\"outlinewidth\":0,\"ticks\":\"\"}},\"type\":\"scattermapbox\"}],\"scatterpolar\":[{\"marker\":{\"colorbar\":{\"outlinewidth\":0,\"ticks\":\"\"}},\"type\":\"scatterpolar\"}],\"scatterpolargl\":[{\"marker\":{\"colorbar\":{\"outlinewidth\":0,\"ticks\":\"\"}},\"type\":\"scatterpolargl\"}],\"scatterternary\":[{\"marker\":{\"colorbar\":{\"outlinewidth\":0,\"ticks\":\"\"}},\"type\":\"scatterternary\"}],\"surface\":[{\"colorbar\":{\"outlinewidth\":0,\"ticks\":\"\"},\"colorscale\":[[0.0,\"#0d0887\"],[0.1111111111111111,\"#46039f\"],[0.2222222222222222,\"#7201a8\"],[0.3333333333333333,\"#9c179e\"],[0.4444444444444444,\"#bd3786\"],[0.5555555555555556,\"#d8576b\"],[0.6666666666666666,\"#ed7953\"],[0.7777777777777778,\"#fb9f3a\"],[0.8888888888888888,\"#fdca26\"],[1.0,\"#f0f921\"]],\"type\":\"surface\"}],\"table\":[{\"cells\":{\"fill\":{\"color\":\"#EBF0F8\"},\"line\":{\"color\":\"white\"}},\"header\":{\"fill\":{\"color\":\"#C8D4E3\"},\"line\":{\"color\":\"white\"}},\"type\":\"table\"}]},\"layout\":{\"annotationdefaults\":{\"arrowcolor\":\"#2a3f5f\",\"arrowhead\":0,\"arrowwidth\":1},\"autotypenumbers\":\"strict\",\"coloraxis\":{\"colorbar\":{\"outlinewidth\":0,\"ticks\":\"\"}},\"colorscale\":{\"diverging\":[[0,\"#8e0152\"],[0.1,\"#c51b7d\"],[0.2,\"#de77ae\"],[0.3,\"#f1b6da\"],[0.4,\"#fde0ef\"],[0.5,\"#f7f7f7\"],[0.6,\"#e6f5d0\"],[0.7,\"#b8e186\"],[0.8,\"#7fbc41\"],[0.9,\"#4d9221\"],[1,\"#276419\"]],\"sequential\":[[0.0,\"#0d0887\"],[0.1111111111111111,\"#46039f\"],[0.2222222222222222,\"#7201a8\"],[0.3333333333333333,\"#9c179e\"],[0.4444444444444444,\"#bd3786\"],[0.5555555555555556,\"#d8576b\"],[0.6666666666666666,\"#ed7953\"],[0.7777777777777778,\"#fb9f3a\"],[0.8888888888888888,\"#fdca26\"],[1.0,\"#f0f921\"]],\"sequentialminus\":[[0.0,\"#0d0887\"],[0.1111111111111111,\"#46039f\"],[0.2222222222222222,\"#7201a8\"],[0.3333333333333333,\"#9c179e\"],[0.4444444444444444,\"#bd3786\"],[0.5555555555555556,\"#d8576b\"],[0.6666666666666666,\"#ed7953\"],[0.7777777777777778,\"#fb9f3a\"],[0.8888888888888888,\"#fdca26\"],[1.0,\"#f0f921\"]]},\"colorway\":[\"#636efa\",\"#EF553B\",\"#00cc96\",\"#ab63fa\",\"#FFA15A\",\"#19d3f3\",\"#FF6692\",\"#B6E880\",\"#FF97FF\",\"#FECB52\"],\"font\":{\"color\":\"#2a3f5f\"},\"geo\":{\"bgcolor\":\"white\",\"lakecolor\":\"white\",\"landcolor\":\"#E5ECF6\",\"showlakes\":true,\"showland\":true,\"subunitcolor\":\"white\"},\"hoverlabel\":{\"align\":\"left\"},\"hovermode\":\"closest\",\"mapbox\":{\"style\":\"light\"},\"paper_bgcolor\":\"white\",\"plot_bgcolor\":\"#E5ECF6\",\"polar\":{\"angularaxis\":{\"gridcolor\":\"white\",\"linecolor\":\"white\",\"ticks\":\"\"},\"bgcolor\":\"#E5ECF6\",\"radialaxis\":{\"gridcolor\":\"white\",\"linecolor\":\"white\",\"ticks\":\"\"}},\"scene\":{\"xaxis\":{\"backgroundcolor\":\"#E5ECF6\",\"gridcolor\":\"white\",\"gridwidth\":2,\"linecolor\":\"white\",\"showbackground\":true,\"ticks\":\"\",\"zerolinecolor\":\"white\"},\"yaxis\":{\"backgroundcolor\":\"#E5ECF6\",\"gridcolor\":\"white\",\"gridwidth\":2,\"linecolor\":\"white\",\"showbackground\":true,\"ticks\":\"\",\"zerolinecolor\":\"white\"},\"zaxis\":{\"backgroundcolor\":\"#E5ECF6\",\"gridcolor\":\"white\",\"gridwidth\":2,\"linecolor\":\"white\",\"showbackground\":true,\"ticks\":\"\",\"zerolinecolor\":\"white\"}},\"shapedefaults\":{\"line\":{\"color\":\"#2a3f5f\"}},\"ternary\":{\"aaxis\":{\"gridcolor\":\"white\",\"linecolor\":\"white\",\"ticks\":\"\"},\"baxis\":{\"gridcolor\":\"white\",\"linecolor\":\"white\",\"ticks\":\"\"},\"bgcolor\":\"#E5ECF6\",\"caxis\":{\"gridcolor\":\"white\",\"linecolor\":\"white\",\"ticks\":\"\"}},\"title\":{\"x\":0.05},\"xaxis\":{\"automargin\":true,\"gridcolor\":\"white\",\"linecolor\":\"white\",\"ticks\":\"\",\"title\":{\"standoff\":15},\"zerolinecolor\":\"white\",\"zerolinewidth\":2},\"yaxis\":{\"automargin\":true,\"gridcolor\":\"white\",\"linecolor\":\"white\",\"ticks\":\"\",\"title\":{\"standoff\":15},\"zerolinecolor\":\"white\",\"zerolinewidth\":2}}},\"title\":{\"text\":\"Math Results\"},\"xaxis\":{\"anchor\":\"y\",\"domain\":[0.0,1.0],\"title\":{\"text\":\"math\"}},\"xaxis2\":{\"anchor\":\"y2\",\"domain\":[0.0,1.0],\"matches\":\"x\",\"showgrid\":true,\"showticklabels\":false},\"yaxis\":{\"anchor\":\"x\",\"domain\":[0.0,0.7326],\"title\":{\"text\":\"count\"}},\"yaxis2\":{\"anchor\":\"x2\",\"domain\":[0.7426,1.0],\"matches\":\"y2\",\"showgrid\":false,\"showline\":false,\"showticklabels\":false,\"ticks\":\"\"}},                        {\"responsive\": true}                    ).then(function(){\n",
       "                            \n",
       "var gd = document.getElementById('9472694d-f956-4436-92ad-c3242f8846c6');\n",
       "var x = new MutationObserver(function (mutations, observer) {{\n",
       "        var display = window.getComputedStyle(gd).display;\n",
       "        if (!display || display === 'none') {{\n",
       "            console.log([gd, 'removed!']);\n",
       "            Plotly.purge(gd);\n",
       "            observer.disconnect();\n",
       "        }}\n",
       "}});\n",
       "\n",
       "// Listen for the removal of the full notebook cells\n",
       "var notebookContainer = gd.closest('#notebook-container');\n",
       "if (notebookContainer) {{\n",
       "    x.observe(notebookContainer, {childList: true});\n",
       "}}\n",
       "\n",
       "// Listen for the clearing of the current output cell\n",
       "var outputEl = gd.closest('.output');\n",
       "if (outputEl) {{\n",
       "    x.observe(outputEl, {childList: true});\n",
       "}}\n",
       "\n",
       "                        })                };                });            </script>        </div>"
      ]
     },
     "metadata": {},
     "output_type": "display_data"
    }
   ],
   "source": [
    "fig = px.histogram(exam_df,x = 'math',marginal = 'box',color = 'test_prep_course',title = 'Math Results')\n",
    "fig.update_layout(bargap = 0.1)\n",
    "fig.show()"
   ]
  },
  {
   "cell_type": "code",
   "execution_count": 23,
   "id": "6b3a4743-3e9c-496f-b9b7-a6097c19c0d3",
   "metadata": {},
   "outputs": [],
   "source": [
    "#Reading Results of students who have taken prep course Vs who have not taken prep course"
   ]
  },
  {
   "cell_type": "code",
   "execution_count": 27,
   "id": "3dc85934-0d3e-491a-bc72-2b07f4ff62e2",
   "metadata": {},
   "outputs": [
    {
     "data": {
      "application/vnd.plotly.v1+json": {
       "config": {
        "plotlyServerURL": "https://plot.ly"
       },
       "data": [
        {
         "alignmentgroup": "True",
         "bingroup": "x",
         "hovertemplate": "test_prep_course=none<br>reading=%{x}<br>count=%{y}<extra></extra>",
         "legendgroup": "none",
         "marker": {
          "color": "#636efa",
          "pattern": {
           "shape": ""
          }
         },
         "name": "none",
         "offsetgroup": "none",
         "orientation": "v",
         "showlegend": true,
         "type": "histogram",
         "x": [
          72,
          95,
          57,
          78,
          83,
          43,
          60,
          54,
          52,
          81,
          53,
          75,
          89,
          32,
          58,
          69,
          54,
          73,
          74,
          54,
          69,
          70,
          70,
          74,
          65,
          72,
          42,
          87,
          81,
          64,
          56,
          61,
          73,
          58,
          56,
          54,
          71,
          55,
          44,
          78,
          41,
          55,
          17,
          39,
          61,
          80,
          58,
          64,
          37,
          72,
          58,
          64,
          51,
          57,
          49,
          41,
          26,
          68,
          49,
          45,
          64,
          39,
          80,
          83,
          71,
          70,
          86,
          72,
          34,
          79,
          86,
          67,
          67,
          67,
          91,
          67,
          100,
          76,
          64,
          55,
          53,
          58,
          77,
          85,
          82,
          63,
          69,
          57,
          80,
          95,
          68,
          82,
          49,
          84,
          55,
          55,
          66,
          72,
          62,
          43,
          73,
          39,
          84,
          68,
          67,
          49,
          67,
          60,
          62,
          53,
          53,
          92,
          88,
          86,
          67,
          64,
          50,
          69,
          76,
          52,
          88,
          65,
          64,
          55,
          56,
          53,
          79,
          81,
          77,
          69,
          41,
          62,
          81,
          61,
          28,
          62,
          42,
          77,
          85,
          65,
          80,
          56,
          72,
          50,
          72,
          64,
          43,
          86,
          87,
          75,
          66,
          52,
          80,
          83,
          52,
          51,
          74,
          76,
          76,
          64,
          60,
          83,
          80,
          52,
          73,
          73,
          75,
          50,
          93,
          73,
          42,
          75,
          72,
          76,
          63,
          49,
          53,
          70,
          78,
          86,
          56,
          52,
          48,
          79,
          46,
          89,
          75,
          70,
          73,
          73,
          62,
          87,
          54,
          76,
          67,
          52,
          71,
          57,
          76,
          60,
          66,
          72,
          71,
          65,
          86,
          81,
          53,
          46,
          90,
          61,
          23,
          55,
          60,
          37,
          78,
          93,
          68,
          51,
          38,
          61,
          73,
          73,
          80,
          61,
          74,
          74,
          65,
          57,
          58,
          71,
          72,
          61,
          62,
          90,
          62,
          58,
          34,
          60,
          66,
          64,
          84,
          77,
          74,
          70,
          43,
          90,
          83,
          64,
          86,
          81,
          49,
          43,
          76,
          73,
          78,
          64,
          70,
          68,
          67,
          45,
          67,
          89,
          63,
          59,
          43,
          65,
          59,
          73,
          80,
          66,
          73,
          73,
          59,
          39,
          67,
          83,
          71,
          59,
          63,
          66,
          72,
          56,
          59,
          66,
          68,
          66,
          56,
          81,
          73,
          83,
          82,
          66,
          46,
          73,
          92,
          77,
          58,
          61,
          56,
          89,
          54,
          100,
          58,
          54,
          70,
          90,
          87,
          31,
          74,
          69,
          67,
          68,
          64,
          71,
          59,
          68,
          52,
          52,
          74,
          47,
          75,
          85,
          64,
          83,
          88,
          64,
          48,
          69,
          71,
          79,
          61,
          59,
          82,
          70,
          59,
          78,
          92,
          71,
          50,
          49,
          89,
          49,
          86,
          58,
          59,
          60,
          53,
          41,
          74,
          54,
          66,
          77,
          95,
          63,
          67,
          72,
          76,
          48,
          62,
          45,
          39,
          67,
          70,
          66,
          74,
          51,
          43,
          48,
          68,
          96,
          62,
          81,
          91,
          61,
          97,
          79,
          73,
          77,
          76,
          73,
          63,
          64,
          66,
          57,
          62,
          68,
          76,
          24,
          54,
          77,
          82,
          60,
          29,
          78,
          57,
          72,
          84,
          58,
          64,
          63,
          59,
          77,
          93,
          68,
          45,
          78,
          81,
          61,
          63,
          58,
          48,
          57,
          64,
          60,
          88,
          84,
          74,
          76,
          74,
          52,
          81,
          65,
          70,
          62,
          53,
          79,
          67,
          67,
          66,
          60,
          87,
          77,
          66,
          71,
          69,
          63,
          85,
          74,
          76,
          57,
          78,
          75,
          61,
          72,
          68,
          55,
          78,
          58,
          90,
          53,
          76,
          77,
          63,
          89,
          72,
          66,
          67,
          64,
          72,
          34,
          59,
          87,
          100,
          81,
          76,
          72,
          48,
          43,
          92,
          39,
          46,
          47,
          58,
          57,
          79,
          71,
          60,
          73,
          57,
          84,
          55,
          79,
          75,
          64,
          60,
          72,
          55,
          95,
          58,
          72,
          58,
          62,
          63,
          72,
          71,
          60,
          48,
          73,
          78,
          65,
          58,
          72,
          44,
          56,
          90,
          79,
          38,
          65,
          65,
          62,
          66,
          74,
          52,
          70,
          84,
          60,
          55,
          94,
          85,
          76,
          81,
          74,
          45,
          75,
          54,
          31,
          47,
          80,
          59,
          72,
          91,
          90,
          87,
          58,
          67,
          69,
          54,
          60,
          60,
          50,
          64,
          77,
          52,
          58,
          85,
          54,
          72,
          75,
          67,
          68,
          85,
          67,
          64,
          97,
          68,
          79,
          73,
          62,
          86,
          93,
          53,
          42,
          51,
          58,
          90,
          62,
          64,
          82,
          61,
          72,
          76,
          73,
          46,
          51,
          72,
          65,
          51,
          92,
          67,
          62,
          34,
          29,
          84,
          78,
          84,
          77,
          48,
          75,
          42,
          84,
          61,
          70,
          61,
          70,
          53,
          66,
          65,
          70,
          56,
          56,
          57,
          63,
          57,
          58,
          91,
          66,
          68,
          61,
          82,
          58,
          73,
          74,
          69,
          57,
          87,
          100,
          63,
          81,
          58,
          54,
          100,
          57,
          70,
          63,
          76,
          84,
          100,
          65,
          63,
          65,
          95,
          24,
          78,
          75,
          51,
          59,
          45,
          76,
          72,
          63,
          55,
          86
         ],
         "xaxis": "x",
         "yaxis": "y"
        },
        {
         "alignmentgroup": "True",
         "hovertemplate": "test_prep_course=none<br>reading=%{x}<extra></extra>",
         "legendgroup": "none",
         "marker": {
          "color": "#636efa"
         },
         "name": "none",
         "notched": true,
         "offsetgroup": "none",
         "showlegend": false,
         "type": "box",
         "x": [
          72,
          95,
          57,
          78,
          83,
          43,
          60,
          54,
          52,
          81,
          53,
          75,
          89,
          32,
          58,
          69,
          54,
          73,
          74,
          54,
          69,
          70,
          70,
          74,
          65,
          72,
          42,
          87,
          81,
          64,
          56,
          61,
          73,
          58,
          56,
          54,
          71,
          55,
          44,
          78,
          41,
          55,
          17,
          39,
          61,
          80,
          58,
          64,
          37,
          72,
          58,
          64,
          51,
          57,
          49,
          41,
          26,
          68,
          49,
          45,
          64,
          39,
          80,
          83,
          71,
          70,
          86,
          72,
          34,
          79,
          86,
          67,
          67,
          67,
          91,
          67,
          100,
          76,
          64,
          55,
          53,
          58,
          77,
          85,
          82,
          63,
          69,
          57,
          80,
          95,
          68,
          82,
          49,
          84,
          55,
          55,
          66,
          72,
          62,
          43,
          73,
          39,
          84,
          68,
          67,
          49,
          67,
          60,
          62,
          53,
          53,
          92,
          88,
          86,
          67,
          64,
          50,
          69,
          76,
          52,
          88,
          65,
          64,
          55,
          56,
          53,
          79,
          81,
          77,
          69,
          41,
          62,
          81,
          61,
          28,
          62,
          42,
          77,
          85,
          65,
          80,
          56,
          72,
          50,
          72,
          64,
          43,
          86,
          87,
          75,
          66,
          52,
          80,
          83,
          52,
          51,
          74,
          76,
          76,
          64,
          60,
          83,
          80,
          52,
          73,
          73,
          75,
          50,
          93,
          73,
          42,
          75,
          72,
          76,
          63,
          49,
          53,
          70,
          78,
          86,
          56,
          52,
          48,
          79,
          46,
          89,
          75,
          70,
          73,
          73,
          62,
          87,
          54,
          76,
          67,
          52,
          71,
          57,
          76,
          60,
          66,
          72,
          71,
          65,
          86,
          81,
          53,
          46,
          90,
          61,
          23,
          55,
          60,
          37,
          78,
          93,
          68,
          51,
          38,
          61,
          73,
          73,
          80,
          61,
          74,
          74,
          65,
          57,
          58,
          71,
          72,
          61,
          62,
          90,
          62,
          58,
          34,
          60,
          66,
          64,
          84,
          77,
          74,
          70,
          43,
          90,
          83,
          64,
          86,
          81,
          49,
          43,
          76,
          73,
          78,
          64,
          70,
          68,
          67,
          45,
          67,
          89,
          63,
          59,
          43,
          65,
          59,
          73,
          80,
          66,
          73,
          73,
          59,
          39,
          67,
          83,
          71,
          59,
          63,
          66,
          72,
          56,
          59,
          66,
          68,
          66,
          56,
          81,
          73,
          83,
          82,
          66,
          46,
          73,
          92,
          77,
          58,
          61,
          56,
          89,
          54,
          100,
          58,
          54,
          70,
          90,
          87,
          31,
          74,
          69,
          67,
          68,
          64,
          71,
          59,
          68,
          52,
          52,
          74,
          47,
          75,
          85,
          64,
          83,
          88,
          64,
          48,
          69,
          71,
          79,
          61,
          59,
          82,
          70,
          59,
          78,
          92,
          71,
          50,
          49,
          89,
          49,
          86,
          58,
          59,
          60,
          53,
          41,
          74,
          54,
          66,
          77,
          95,
          63,
          67,
          72,
          76,
          48,
          62,
          45,
          39,
          67,
          70,
          66,
          74,
          51,
          43,
          48,
          68,
          96,
          62,
          81,
          91,
          61,
          97,
          79,
          73,
          77,
          76,
          73,
          63,
          64,
          66,
          57,
          62,
          68,
          76,
          24,
          54,
          77,
          82,
          60,
          29,
          78,
          57,
          72,
          84,
          58,
          64,
          63,
          59,
          77,
          93,
          68,
          45,
          78,
          81,
          61,
          63,
          58,
          48,
          57,
          64,
          60,
          88,
          84,
          74,
          76,
          74,
          52,
          81,
          65,
          70,
          62,
          53,
          79,
          67,
          67,
          66,
          60,
          87,
          77,
          66,
          71,
          69,
          63,
          85,
          74,
          76,
          57,
          78,
          75,
          61,
          72,
          68,
          55,
          78,
          58,
          90,
          53,
          76,
          77,
          63,
          89,
          72,
          66,
          67,
          64,
          72,
          34,
          59,
          87,
          100,
          81,
          76,
          72,
          48,
          43,
          92,
          39,
          46,
          47,
          58,
          57,
          79,
          71,
          60,
          73,
          57,
          84,
          55,
          79,
          75,
          64,
          60,
          72,
          55,
          95,
          58,
          72,
          58,
          62,
          63,
          72,
          71,
          60,
          48,
          73,
          78,
          65,
          58,
          72,
          44,
          56,
          90,
          79,
          38,
          65,
          65,
          62,
          66,
          74,
          52,
          70,
          84,
          60,
          55,
          94,
          85,
          76,
          81,
          74,
          45,
          75,
          54,
          31,
          47,
          80,
          59,
          72,
          91,
          90,
          87,
          58,
          67,
          69,
          54,
          60,
          60,
          50,
          64,
          77,
          52,
          58,
          85,
          54,
          72,
          75,
          67,
          68,
          85,
          67,
          64,
          97,
          68,
          79,
          73,
          62,
          86,
          93,
          53,
          42,
          51,
          58,
          90,
          62,
          64,
          82,
          61,
          72,
          76,
          73,
          46,
          51,
          72,
          65,
          51,
          92,
          67,
          62,
          34,
          29,
          84,
          78,
          84,
          77,
          48,
          75,
          42,
          84,
          61,
          70,
          61,
          70,
          53,
          66,
          65,
          70,
          56,
          56,
          57,
          63,
          57,
          58,
          91,
          66,
          68,
          61,
          82,
          58,
          73,
          74,
          69,
          57,
          87,
          100,
          63,
          81,
          58,
          54,
          100,
          57,
          70,
          63,
          76,
          84,
          100,
          65,
          63,
          65,
          95,
          24,
          78,
          75,
          51,
          59,
          45,
          76,
          72,
          63,
          55,
          86
         ],
         "xaxis": "x2",
         "yaxis": "y2"
        },
        {
         "alignmentgroup": "True",
         "bingroup": "x",
         "hovertemplate": "test_prep_course=completed<br>reading=%{x}<br>count=%{y}<extra></extra>",
         "legendgroup": "completed",
         "marker": {
          "color": "#EF553B",
          "pattern": {
           "shape": ""
          }
         },
         "name": "completed",
         "offsetgroup": "completed",
         "orientation": "v",
         "showlegend": true,
         "type": "histogram",
         "x": [
          90,
          95,
          64,
          72,
          42,
          75,
          71,
          81,
          90,
          65,
          65,
          74,
          84,
          69,
          84,
          85,
          59,
          74,
          63,
          55,
          78,
          74,
          47,
          45,
          81,
          66,
          72,
          74,
          44,
          86,
          63,
          89,
          100,
          92,
          89,
          93,
          77,
          37,
          74,
          81,
          79,
          54,
          61,
          55,
          75,
          100,
          67,
          70,
          89,
          74,
          86,
          78,
          88,
          100,
          51,
          76,
          83,
          75,
          73,
          51,
          91,
          54,
          77,
          70,
          100,
          68,
          52,
          67,
          66,
          83,
          62,
          84,
          69,
          84,
          71,
          80,
          79,
          51,
          91,
          83,
          86,
          56,
          68,
          66,
          95,
          82,
          60,
          68,
          70,
          49,
          70,
          77,
          81,
          79,
          79,
          92,
          85,
          92,
          63,
          78,
          82,
          82,
          76,
          60,
          77,
          41,
          74,
          46,
          78,
          84,
          75,
          87,
          61,
          67,
          64,
          82,
          79,
          75,
          56,
          70,
          55,
          76,
          72,
          94,
          78,
          66,
          84,
          58,
          58,
          73,
          97,
          95,
          100,
          67,
          54,
          74,
          54,
          99,
          65,
          57,
          84,
          71,
          83,
          67,
          72,
          74,
          56,
          93,
          58,
          58,
          85,
          48,
          88,
          81,
          74,
          81,
          85,
          65,
          58,
          67,
          88,
          85,
          86,
          90,
          76,
          62,
          71,
          53,
          82,
          64,
          78,
          87,
          89,
          61,
          97,
          87,
          74,
          78,
          78,
          52,
          61,
          67,
          61,
          88,
          69,
          83,
          60,
          66,
          92,
          69,
          82,
          83,
          100,
          67,
          90,
          72,
          75,
          90,
          80,
          100,
          71,
          75,
          66,
          55,
          51,
          56,
          75,
          100,
          79,
          89,
          60,
          90,
          73,
          51,
          96,
          97,
          70,
          51,
          74,
          80,
          92,
          88,
          79,
          81,
          79,
          56,
          80,
          86,
          70,
          60,
          73,
          72,
          84,
          77,
          64,
          78,
          82,
          40,
          66,
          99,
          75,
          74,
          82,
          78,
          81,
          84,
          63,
          61,
          84,
          85,
          70,
          94,
          78,
          96,
          73,
          59,
          90,
          74,
          75,
          51,
          77,
          89,
          66,
          73,
          84,
          69,
          77,
          90,
          68,
          59,
          77,
          81,
          75,
          62,
          67,
          79,
          85,
          85,
          59,
          81,
          51,
          84,
          68,
          73,
          80,
          64,
          84,
          86,
          70,
          90,
          52,
          68,
          86,
          86,
          82,
          64,
          82,
          57,
          44,
          77,
          65,
          85,
          49,
          42,
          71,
          82,
          74,
          72,
          84,
          64,
          70,
          76,
          100,
          85,
          74,
          78,
          54,
          78,
          48,
          100,
          84,
          64,
          61,
          62,
          100,
          77,
          96,
          64,
          61,
          43,
          74,
          71,
          75,
          87,
          81,
          68,
          66,
          62,
          50,
          75,
          77,
          52,
          76,
          68,
          72,
          50,
          82,
          62,
          41,
          85,
          87,
          75,
          86,
          81,
          82,
          99,
          71,
          78
         ],
         "xaxis": "x",
         "yaxis": "y"
        },
        {
         "alignmentgroup": "True",
         "hovertemplate": "test_prep_course=completed<br>reading=%{x}<extra></extra>",
         "legendgroup": "completed",
         "marker": {
          "color": "#EF553B"
         },
         "name": "completed",
         "notched": true,
         "offsetgroup": "completed",
         "showlegend": false,
         "type": "box",
         "x": [
          90,
          95,
          64,
          72,
          42,
          75,
          71,
          81,
          90,
          65,
          65,
          74,
          84,
          69,
          84,
          85,
          59,
          74,
          63,
          55,
          78,
          74,
          47,
          45,
          81,
          66,
          72,
          74,
          44,
          86,
          63,
          89,
          100,
          92,
          89,
          93,
          77,
          37,
          74,
          81,
          79,
          54,
          61,
          55,
          75,
          100,
          67,
          70,
          89,
          74,
          86,
          78,
          88,
          100,
          51,
          76,
          83,
          75,
          73,
          51,
          91,
          54,
          77,
          70,
          100,
          68,
          52,
          67,
          66,
          83,
          62,
          84,
          69,
          84,
          71,
          80,
          79,
          51,
          91,
          83,
          86,
          56,
          68,
          66,
          95,
          82,
          60,
          68,
          70,
          49,
          70,
          77,
          81,
          79,
          79,
          92,
          85,
          92,
          63,
          78,
          82,
          82,
          76,
          60,
          77,
          41,
          74,
          46,
          78,
          84,
          75,
          87,
          61,
          67,
          64,
          82,
          79,
          75,
          56,
          70,
          55,
          76,
          72,
          94,
          78,
          66,
          84,
          58,
          58,
          73,
          97,
          95,
          100,
          67,
          54,
          74,
          54,
          99,
          65,
          57,
          84,
          71,
          83,
          67,
          72,
          74,
          56,
          93,
          58,
          58,
          85,
          48,
          88,
          81,
          74,
          81,
          85,
          65,
          58,
          67,
          88,
          85,
          86,
          90,
          76,
          62,
          71,
          53,
          82,
          64,
          78,
          87,
          89,
          61,
          97,
          87,
          74,
          78,
          78,
          52,
          61,
          67,
          61,
          88,
          69,
          83,
          60,
          66,
          92,
          69,
          82,
          83,
          100,
          67,
          90,
          72,
          75,
          90,
          80,
          100,
          71,
          75,
          66,
          55,
          51,
          56,
          75,
          100,
          79,
          89,
          60,
          90,
          73,
          51,
          96,
          97,
          70,
          51,
          74,
          80,
          92,
          88,
          79,
          81,
          79,
          56,
          80,
          86,
          70,
          60,
          73,
          72,
          84,
          77,
          64,
          78,
          82,
          40,
          66,
          99,
          75,
          74,
          82,
          78,
          81,
          84,
          63,
          61,
          84,
          85,
          70,
          94,
          78,
          96,
          73,
          59,
          90,
          74,
          75,
          51,
          77,
          89,
          66,
          73,
          84,
          69,
          77,
          90,
          68,
          59,
          77,
          81,
          75,
          62,
          67,
          79,
          85,
          85,
          59,
          81,
          51,
          84,
          68,
          73,
          80,
          64,
          84,
          86,
          70,
          90,
          52,
          68,
          86,
          86,
          82,
          64,
          82,
          57,
          44,
          77,
          65,
          85,
          49,
          42,
          71,
          82,
          74,
          72,
          84,
          64,
          70,
          76,
          100,
          85,
          74,
          78,
          54,
          78,
          48,
          100,
          84,
          64,
          61,
          62,
          100,
          77,
          96,
          64,
          61,
          43,
          74,
          71,
          75,
          87,
          81,
          68,
          66,
          62,
          50,
          75,
          77,
          52,
          76,
          68,
          72,
          50,
          82,
          62,
          41,
          85,
          87,
          75,
          86,
          81,
          82,
          99,
          71,
          78
         ],
         "xaxis": "x2",
         "yaxis": "y2"
        }
       ],
       "layout": {
        "autosize": true,
        "bargap": 0.1,
        "barmode": "relative",
        "legend": {
         "title": {
          "text": "test_prep_course"
         },
         "tracegroupgap": 0
        },
        "template": {
         "data": {
          "bar": [
           {
            "error_x": {
             "color": "#2a3f5f"
            },
            "error_y": {
             "color": "#2a3f5f"
            },
            "marker": {
             "line": {
              "color": "#E5ECF6",
              "width": 0.5
             },
             "pattern": {
              "fillmode": "overlay",
              "size": 10,
              "solidity": 0.2
             }
            },
            "type": "bar"
           }
          ],
          "barpolar": [
           {
            "marker": {
             "line": {
              "color": "#E5ECF6",
              "width": 0.5
             },
             "pattern": {
              "fillmode": "overlay",
              "size": 10,
              "solidity": 0.2
             }
            },
            "type": "barpolar"
           }
          ],
          "carpet": [
           {
            "aaxis": {
             "endlinecolor": "#2a3f5f",
             "gridcolor": "white",
             "linecolor": "white",
             "minorgridcolor": "white",
             "startlinecolor": "#2a3f5f"
            },
            "baxis": {
             "endlinecolor": "#2a3f5f",
             "gridcolor": "white",
             "linecolor": "white",
             "minorgridcolor": "white",
             "startlinecolor": "#2a3f5f"
            },
            "type": "carpet"
           }
          ],
          "choropleth": [
           {
            "colorbar": {
             "outlinewidth": 0,
             "ticks": ""
            },
            "type": "choropleth"
           }
          ],
          "contour": [
           {
            "colorbar": {
             "outlinewidth": 0,
             "ticks": ""
            },
            "colorscale": [
             [
              0,
              "#0d0887"
             ],
             [
              0.1111111111111111,
              "#46039f"
             ],
             [
              0.2222222222222222,
              "#7201a8"
             ],
             [
              0.3333333333333333,
              "#9c179e"
             ],
             [
              0.4444444444444444,
              "#bd3786"
             ],
             [
              0.5555555555555556,
              "#d8576b"
             ],
             [
              0.6666666666666666,
              "#ed7953"
             ],
             [
              0.7777777777777778,
              "#fb9f3a"
             ],
             [
              0.8888888888888888,
              "#fdca26"
             ],
             [
              1,
              "#f0f921"
             ]
            ],
            "type": "contour"
           }
          ],
          "contourcarpet": [
           {
            "colorbar": {
             "outlinewidth": 0,
             "ticks": ""
            },
            "type": "contourcarpet"
           }
          ],
          "heatmap": [
           {
            "colorbar": {
             "outlinewidth": 0,
             "ticks": ""
            },
            "colorscale": [
             [
              0,
              "#0d0887"
             ],
             [
              0.1111111111111111,
              "#46039f"
             ],
             [
              0.2222222222222222,
              "#7201a8"
             ],
             [
              0.3333333333333333,
              "#9c179e"
             ],
             [
              0.4444444444444444,
              "#bd3786"
             ],
             [
              0.5555555555555556,
              "#d8576b"
             ],
             [
              0.6666666666666666,
              "#ed7953"
             ],
             [
              0.7777777777777778,
              "#fb9f3a"
             ],
             [
              0.8888888888888888,
              "#fdca26"
             ],
             [
              1,
              "#f0f921"
             ]
            ],
            "type": "heatmap"
           }
          ],
          "heatmapgl": [
           {
            "colorbar": {
             "outlinewidth": 0,
             "ticks": ""
            },
            "colorscale": [
             [
              0,
              "#0d0887"
             ],
             [
              0.1111111111111111,
              "#46039f"
             ],
             [
              0.2222222222222222,
              "#7201a8"
             ],
             [
              0.3333333333333333,
              "#9c179e"
             ],
             [
              0.4444444444444444,
              "#bd3786"
             ],
             [
              0.5555555555555556,
              "#d8576b"
             ],
             [
              0.6666666666666666,
              "#ed7953"
             ],
             [
              0.7777777777777778,
              "#fb9f3a"
             ],
             [
              0.8888888888888888,
              "#fdca26"
             ],
             [
              1,
              "#f0f921"
             ]
            ],
            "type": "heatmapgl"
           }
          ],
          "histogram": [
           {
            "marker": {
             "pattern": {
              "fillmode": "overlay",
              "size": 10,
              "solidity": 0.2
             }
            },
            "type": "histogram"
           }
          ],
          "histogram2d": [
           {
            "colorbar": {
             "outlinewidth": 0,
             "ticks": ""
            },
            "colorscale": [
             [
              0,
              "#0d0887"
             ],
             [
              0.1111111111111111,
              "#46039f"
             ],
             [
              0.2222222222222222,
              "#7201a8"
             ],
             [
              0.3333333333333333,
              "#9c179e"
             ],
             [
              0.4444444444444444,
              "#bd3786"
             ],
             [
              0.5555555555555556,
              "#d8576b"
             ],
             [
              0.6666666666666666,
              "#ed7953"
             ],
             [
              0.7777777777777778,
              "#fb9f3a"
             ],
             [
              0.8888888888888888,
              "#fdca26"
             ],
             [
              1,
              "#f0f921"
             ]
            ],
            "type": "histogram2d"
           }
          ],
          "histogram2dcontour": [
           {
            "colorbar": {
             "outlinewidth": 0,
             "ticks": ""
            },
            "colorscale": [
             [
              0,
              "#0d0887"
             ],
             [
              0.1111111111111111,
              "#46039f"
             ],
             [
              0.2222222222222222,
              "#7201a8"
             ],
             [
              0.3333333333333333,
              "#9c179e"
             ],
             [
              0.4444444444444444,
              "#bd3786"
             ],
             [
              0.5555555555555556,
              "#d8576b"
             ],
             [
              0.6666666666666666,
              "#ed7953"
             ],
             [
              0.7777777777777778,
              "#fb9f3a"
             ],
             [
              0.8888888888888888,
              "#fdca26"
             ],
             [
              1,
              "#f0f921"
             ]
            ],
            "type": "histogram2dcontour"
           }
          ],
          "mesh3d": [
           {
            "colorbar": {
             "outlinewidth": 0,
             "ticks": ""
            },
            "type": "mesh3d"
           }
          ],
          "parcoords": [
           {
            "line": {
             "colorbar": {
              "outlinewidth": 0,
              "ticks": ""
             }
            },
            "type": "parcoords"
           }
          ],
          "pie": [
           {
            "automargin": true,
            "type": "pie"
           }
          ],
          "scatter": [
           {
            "marker": {
             "colorbar": {
              "outlinewidth": 0,
              "ticks": ""
             }
            },
            "type": "scatter"
           }
          ],
          "scatter3d": [
           {
            "line": {
             "colorbar": {
              "outlinewidth": 0,
              "ticks": ""
             }
            },
            "marker": {
             "colorbar": {
              "outlinewidth": 0,
              "ticks": ""
             }
            },
            "type": "scatter3d"
           }
          ],
          "scattercarpet": [
           {
            "marker": {
             "colorbar": {
              "outlinewidth": 0,
              "ticks": ""
             }
            },
            "type": "scattercarpet"
           }
          ],
          "scattergeo": [
           {
            "marker": {
             "colorbar": {
              "outlinewidth": 0,
              "ticks": ""
             }
            },
            "type": "scattergeo"
           }
          ],
          "scattergl": [
           {
            "marker": {
             "colorbar": {
              "outlinewidth": 0,
              "ticks": ""
             }
            },
            "type": "scattergl"
           }
          ],
          "scattermapbox": [
           {
            "marker": {
             "colorbar": {
              "outlinewidth": 0,
              "ticks": ""
             }
            },
            "type": "scattermapbox"
           }
          ],
          "scatterpolar": [
           {
            "marker": {
             "colorbar": {
              "outlinewidth": 0,
              "ticks": ""
             }
            },
            "type": "scatterpolar"
           }
          ],
          "scatterpolargl": [
           {
            "marker": {
             "colorbar": {
              "outlinewidth": 0,
              "ticks": ""
             }
            },
            "type": "scatterpolargl"
           }
          ],
          "scatterternary": [
           {
            "marker": {
             "colorbar": {
              "outlinewidth": 0,
              "ticks": ""
             }
            },
            "type": "scatterternary"
           }
          ],
          "surface": [
           {
            "colorbar": {
             "outlinewidth": 0,
             "ticks": ""
            },
            "colorscale": [
             [
              0,
              "#0d0887"
             ],
             [
              0.1111111111111111,
              "#46039f"
             ],
             [
              0.2222222222222222,
              "#7201a8"
             ],
             [
              0.3333333333333333,
              "#9c179e"
             ],
             [
              0.4444444444444444,
              "#bd3786"
             ],
             [
              0.5555555555555556,
              "#d8576b"
             ],
             [
              0.6666666666666666,
              "#ed7953"
             ],
             [
              0.7777777777777778,
              "#fb9f3a"
             ],
             [
              0.8888888888888888,
              "#fdca26"
             ],
             [
              1,
              "#f0f921"
             ]
            ],
            "type": "surface"
           }
          ],
          "table": [
           {
            "cells": {
             "fill": {
              "color": "#EBF0F8"
             },
             "line": {
              "color": "white"
             }
            },
            "header": {
             "fill": {
              "color": "#C8D4E3"
             },
             "line": {
              "color": "white"
             }
            },
            "type": "table"
           }
          ]
         },
         "layout": {
          "annotationdefaults": {
           "arrowcolor": "#2a3f5f",
           "arrowhead": 0,
           "arrowwidth": 1
          },
          "autotypenumbers": "strict",
          "coloraxis": {
           "colorbar": {
            "outlinewidth": 0,
            "ticks": ""
           }
          },
          "colorscale": {
           "diverging": [
            [
             0,
             "#8e0152"
            ],
            [
             0.1,
             "#c51b7d"
            ],
            [
             0.2,
             "#de77ae"
            ],
            [
             0.3,
             "#f1b6da"
            ],
            [
             0.4,
             "#fde0ef"
            ],
            [
             0.5,
             "#f7f7f7"
            ],
            [
             0.6,
             "#e6f5d0"
            ],
            [
             0.7,
             "#b8e186"
            ],
            [
             0.8,
             "#7fbc41"
            ],
            [
             0.9,
             "#4d9221"
            ],
            [
             1,
             "#276419"
            ]
           ],
           "sequential": [
            [
             0,
             "#0d0887"
            ],
            [
             0.1111111111111111,
             "#46039f"
            ],
            [
             0.2222222222222222,
             "#7201a8"
            ],
            [
             0.3333333333333333,
             "#9c179e"
            ],
            [
             0.4444444444444444,
             "#bd3786"
            ],
            [
             0.5555555555555556,
             "#d8576b"
            ],
            [
             0.6666666666666666,
             "#ed7953"
            ],
            [
             0.7777777777777778,
             "#fb9f3a"
            ],
            [
             0.8888888888888888,
             "#fdca26"
            ],
            [
             1,
             "#f0f921"
            ]
           ],
           "sequentialminus": [
            [
             0,
             "#0d0887"
            ],
            [
             0.1111111111111111,
             "#46039f"
            ],
            [
             0.2222222222222222,
             "#7201a8"
            ],
            [
             0.3333333333333333,
             "#9c179e"
            ],
            [
             0.4444444444444444,
             "#bd3786"
            ],
            [
             0.5555555555555556,
             "#d8576b"
            ],
            [
             0.6666666666666666,
             "#ed7953"
            ],
            [
             0.7777777777777778,
             "#fb9f3a"
            ],
            [
             0.8888888888888888,
             "#fdca26"
            ],
            [
             1,
             "#f0f921"
            ]
           ]
          },
          "colorway": [
           "#636efa",
           "#EF553B",
           "#00cc96",
           "#ab63fa",
           "#FFA15A",
           "#19d3f3",
           "#FF6692",
           "#B6E880",
           "#FF97FF",
           "#FECB52"
          ],
          "font": {
           "color": "#2a3f5f"
          },
          "geo": {
           "bgcolor": "white",
           "lakecolor": "white",
           "landcolor": "#E5ECF6",
           "showlakes": true,
           "showland": true,
           "subunitcolor": "white"
          },
          "hoverlabel": {
           "align": "left"
          },
          "hovermode": "closest",
          "mapbox": {
           "style": "light"
          },
          "paper_bgcolor": "white",
          "plot_bgcolor": "#E5ECF6",
          "polar": {
           "angularaxis": {
            "gridcolor": "white",
            "linecolor": "white",
            "ticks": ""
           },
           "bgcolor": "#E5ECF6",
           "radialaxis": {
            "gridcolor": "white",
            "linecolor": "white",
            "ticks": ""
           }
          },
          "scene": {
           "xaxis": {
            "backgroundcolor": "#E5ECF6",
            "gridcolor": "white",
            "gridwidth": 2,
            "linecolor": "white",
            "showbackground": true,
            "ticks": "",
            "zerolinecolor": "white"
           },
           "yaxis": {
            "backgroundcolor": "#E5ECF6",
            "gridcolor": "white",
            "gridwidth": 2,
            "linecolor": "white",
            "showbackground": true,
            "ticks": "",
            "zerolinecolor": "white"
           },
           "zaxis": {
            "backgroundcolor": "#E5ECF6",
            "gridcolor": "white",
            "gridwidth": 2,
            "linecolor": "white",
            "showbackground": true,
            "ticks": "",
            "zerolinecolor": "white"
           }
          },
          "shapedefaults": {
           "line": {
            "color": "#2a3f5f"
           }
          },
          "ternary": {
           "aaxis": {
            "gridcolor": "white",
            "linecolor": "white",
            "ticks": ""
           },
           "baxis": {
            "gridcolor": "white",
            "linecolor": "white",
            "ticks": ""
           },
           "bgcolor": "#E5ECF6",
           "caxis": {
            "gridcolor": "white",
            "linecolor": "white",
            "ticks": ""
           }
          },
          "title": {
           "x": 0.05
          },
          "xaxis": {
           "automargin": true,
           "gridcolor": "white",
           "linecolor": "white",
           "ticks": "",
           "title": {
            "standoff": 15
           },
           "zerolinecolor": "white",
           "zerolinewidth": 2
          },
          "yaxis": {
           "automargin": true,
           "gridcolor": "white",
           "linecolor": "white",
           "ticks": "",
           "title": {
            "standoff": 15
           },
           "zerolinecolor": "white",
           "zerolinewidth": 2
          }
         }
        },
        "title": {
         "text": "Reading Results"
        },
        "xaxis": {
         "anchor": "y",
         "autorange": true,
         "domain": [
          0,
          1
         ],
         "range": [
          12.38888888888889,
          104.61111111111111
         ],
         "title": {
          "text": "reading"
         },
         "type": "linear"
        },
        "xaxis2": {
         "anchor": "y2",
         "autorange": true,
         "domain": [
          0,
          1
         ],
         "matches": "x",
         "range": [
          12.38888888888889,
          104.61111111111111
         ],
         "showgrid": true,
         "showticklabels": false,
         "type": "linear"
        },
        "yaxis": {
         "anchor": "x",
         "autorange": true,
         "domain": [
          0,
          0.7326
         ],
         "range": [
          0,
          67.36842105263158
         ],
         "title": {
          "text": "count"
         }
        },
        "yaxis2": {
         "anchor": "x2",
         "autorange": true,
         "domain": [
          0.7426,
          1
         ],
         "matches": "y2",
         "range": [
          -0.5,
          1.5
         ],
         "showgrid": false,
         "showline": false,
         "showticklabels": false,
         "ticks": "",
         "type": "category"
        }
       }
      },
      "image/png": "[encoded data removed]",
      "text/html": [
       "<div>                            <div id=\"cd326d8e-d252-42af-9313-e348bf155e26\" class=\"plotly-graph-div\" style=\"height:525px; width:100%;\"></div>            <script type=\"text/javascript\">                require([\"plotly\"], function(Plotly) {                    window.PLOTLYENV=window.PLOTLYENV || {};                                    if (document.getElementById(\"cd326d8e-d252-42af-9313-e348bf155e26\")) {                    Plotly.newPlot(                        \"cd326d8e-d252-42af-9313-e348bf155e26\",                        [{\"alignmentgroup\":\"True\",\"bingroup\":\"x\",\"hovertemplate\":\"test_prep_course=none<br>reading=%{x}<br>count=%{y}<extra></extra>\",\"legendgroup\":\"none\",\"marker\":{\"color\":\"#636efa\",\"pattern\":{\"shape\":\"\"}},\"name\":\"none\",\"offsetgroup\":\"none\",\"orientation\":\"v\",\"showlegend\":true,\"type\":\"histogram\",\"x\":[72,95,57,78,83,43,60,54,52,81,53,75,89,32,58,69,54,73,74,54,69,70,70,74,65,72,42,87,81,64,56,61,73,58,56,54,71,55,44,78,41,55,17,39,61,80,58,64,37,72,58,64,51,57,49,41,26,68,49,45,64,39,80,83,71,70,86,72,34,79,86,67,67,67,91,67,100,76,64,55,53,58,77,85,82,63,69,57,80,95,68,82,49,84,55,55,66,72,62,43,73,39,84,68,67,49,67,60,62,53,53,92,88,86,67,64,50,69,76,52,88,65,64,55,56,53,79,81,77,69,41,62,81,61,28,62,42,77,85,65,80,56,72,50,72,64,43,86,87,75,66,52,80,83,52,51,74,76,76,64,60,83,80,52,73,73,75,50,93,73,42,75,72,76,63,49,53,70,78,86,56,52,48,79,46,89,75,70,73,73,62,87,54,76,67,52,71,57,76,60,66,72,71,65,86,81,53,46,90,61,23,55,60,37,78,93,68,51,38,61,73,73,80,61,74,74,65,57,58,71,72,61,62,90,62,58,34,60,66,64,84,77,74,70,43,90,83,64,86,81,49,43,76,73,78,64,70,68,67,45,67,89,63,59,43,65,59,73,80,66,73,73,59,39,67,83,71,59,63,66,72,56,59,66,68,66,56,81,73,83,82,66,46,73,92,77,58,61,56,89,54,100,58,54,70,90,87,31,74,69,67,68,64,71,59,68,52,52,74,47,75,85,64,83,88,64,48,69,71,79,61,59,82,70,59,78,92,71,50,49,89,49,86,58,59,60,53,41,74,54,66,77,95,63,67,72,76,48,62,45,39,67,70,66,74,51,43,48,68,96,62,81,91,61,97,79,73,77,76,73,63,64,66,57,62,68,76,24,54,77,82,60,29,78,57,72,84,58,64,63,59,77,93,68,45,78,81,61,63,58,48,57,64,60,88,84,74,76,74,52,81,65,70,62,53,79,67,67,66,60,87,77,66,71,69,63,85,74,76,57,78,75,61,72,68,55,78,58,90,53,76,77,63,89,72,66,67,64,72,34,59,87,100,81,76,72,48,43,92,39,46,47,58,57,79,71,60,73,57,84,55,79,75,64,60,72,55,95,58,72,58,62,63,72,71,60,48,73,78,65,58,72,44,56,90,79,38,65,65,62,66,74,52,70,84,60,55,94,85,76,81,74,45,75,54,31,47,80,59,72,91,90,87,58,67,69,54,60,60,50,64,77,52,58,85,54,72,75,67,68,85,67,64,97,68,79,73,62,86,93,53,42,51,58,90,62,64,82,61,72,76,73,46,51,72,65,51,92,67,62,34,29,84,78,84,77,48,75,42,84,61,70,61,70,53,66,65,70,56,56,57,63,57,58,91,66,68,61,82,58,73,74,69,57,87,100,63,81,58,54,100,57,70,63,76,84,100,65,63,65,95,24,78,75,51,59,45,76,72,63,55,86],\"xaxis\":\"x\",\"yaxis\":\"y\"},{\"alignmentgroup\":\"True\",\"hovertemplate\":\"test_prep_course=none<br>reading=%{x}<extra></extra>\",\"legendgroup\":\"none\",\"marker\":{\"color\":\"#636efa\"},\"name\":\"none\",\"notched\":true,\"offsetgroup\":\"none\",\"showlegend\":false,\"type\":\"box\",\"x\":[72,95,57,78,83,43,60,54,52,81,53,75,89,32,58,69,54,73,74,54,69,70,70,74,65,72,42,87,81,64,56,61,73,58,56,54,71,55,44,78,41,55,17,39,61,80,58,64,37,72,58,64,51,57,49,41,26,68,49,45,64,39,80,83,71,70,86,72,34,79,86,67,67,67,91,67,100,76,64,55,53,58,77,85,82,63,69,57,80,95,68,82,49,84,55,55,66,72,62,43,73,39,84,68,67,49,67,60,62,53,53,92,88,86,67,64,50,69,76,52,88,65,64,55,56,53,79,81,77,69,41,62,81,61,28,62,42,77,85,65,80,56,72,50,72,64,43,86,87,75,66,52,80,83,52,51,74,76,76,64,60,83,80,52,73,73,75,50,93,73,42,75,72,76,63,49,53,70,78,86,56,52,48,79,46,89,75,70,73,73,62,87,54,76,67,52,71,57,76,60,66,72,71,65,86,81,53,46,90,61,23,55,60,37,78,93,68,51,38,61,73,73,80,61,74,74,65,57,58,71,72,61,62,90,62,58,34,60,66,64,84,77,74,70,43,90,83,64,86,81,49,43,76,73,78,64,70,68,67,45,67,89,63,59,43,65,59,73,80,66,73,73,59,39,67,83,71,59,63,66,72,56,59,66,68,66,56,81,73,83,82,66,46,73,92,77,58,61,56,89,54,100,58,54,70,90,87,31,74,69,67,68,64,71,59,68,52,52,74,47,75,85,64,83,88,64,48,69,71,79,61,59,82,70,59,78,92,71,50,49,89,49,86,58,59,60,53,41,74,54,66,77,95,63,67,72,76,48,62,45,39,67,70,66,74,51,43,48,68,96,62,81,91,61,97,79,73,77,76,73,63,64,66,57,62,68,76,24,54,77,82,60,29,78,57,72,84,58,64,63,59,77,93,68,45,78,81,61,63,58,48,57,64,60,88,84,74,76,74,52,81,65,70,62,53,79,67,67,66,60,87,77,66,71,69,63,85,74,76,57,78,75,61,72,68,55,78,58,90,53,76,77,63,89,72,66,67,64,72,34,59,87,100,81,76,72,48,43,92,39,46,47,58,57,79,71,60,73,57,84,55,79,75,64,60,72,55,95,58,72,58,62,63,72,71,60,48,73,78,65,58,72,44,56,90,79,38,65,65,62,66,74,52,70,84,60,55,94,85,76,81,74,45,75,54,31,47,80,59,72,91,90,87,58,67,69,54,60,60,50,64,77,52,58,85,54,72,75,67,68,85,67,64,97,68,79,73,62,86,93,53,42,51,58,90,62,64,82,61,72,76,73,46,51,72,65,51,92,67,62,34,29,84,78,84,77,48,75,42,84,61,70,61,70,53,66,65,70,56,56,57,63,57,58,91,66,68,61,82,58,73,74,69,57,87,100,63,81,58,54,100,57,70,63,76,84,100,65,63,65,95,24,78,75,51,59,45,76,72,63,55,86],\"xaxis\":\"x2\",\"yaxis\":\"y2\"},{\"alignmentgroup\":\"True\",\"bingroup\":\"x\",\"hovertemplate\":\"test_prep_course=completed<br>reading=%{x}<br>count=%{y}<extra></extra>\",\"legendgroup\":\"completed\",\"marker\":{\"color\":\"#EF553B\",\"pattern\":{\"shape\":\"\"}},\"name\":\"completed\",\"offsetgroup\":\"completed\",\"orientation\":\"v\",\"showlegend\":true,\"type\":\"histogram\",\"x\":[90,95,64,72,42,75,71,81,90,65,65,74,84,69,84,85,59,74,63,55,78,74,47,45,81,66,72,74,44,86,63,89,100,92,89,93,77,37,74,81,79,54,61,55,75,100,67,70,89,74,86,78,88,100,51,76,83,75,73,51,91,54,77,70,100,68,52,67,66,83,62,84,69,84,71,80,79,51,91,83,86,56,68,66,95,82,60,68,70,49,70,77,81,79,79,92,85,92,63,78,82,82,76,60,77,41,74,46,78,84,75,87,61,67,64,82,79,75,56,70,55,76,72,94,78,66,84,58,58,73,97,95,100,67,54,74,54,99,65,57,84,71,83,67,72,74,56,93,58,58,85,48,88,81,74,81,85,65,58,67,88,85,86,90,76,62,71,53,82,64,78,87,89,61,97,87,74,78,78,52,61,67,61,88,69,83,60,66,92,69,82,83,100,67,90,72,75,90,80,100,71,75,66,55,51,56,75,100,79,89,60,90,73,51,96,97,70,51,74,80,92,88,79,81,79,56,80,86,70,60,73,72,84,77,64,78,82,40,66,99,75,74,82,78,81,84,63,61,84,85,70,94,78,96,73,59,90,74,75,51,77,89,66,73,84,69,77,90,68,59,77,81,75,62,67,79,85,85,59,81,51,84,68,73,80,64,84,86,70,90,52,68,86,86,82,64,82,57,44,77,65,85,49,42,71,82,74,72,84,64,70,76,100,85,74,78,54,78,48,100,84,64,61,62,100,77,96,64,61,43,74,71,75,87,81,68,66,62,50,75,77,52,76,68,72,50,82,62,41,85,87,75,86,81,82,99,71,78],\"xaxis\":\"x\",\"yaxis\":\"y\"},{\"alignmentgroup\":\"True\",\"hovertemplate\":\"test_prep_course=completed<br>reading=%{x}<extra></extra>\",\"legendgroup\":\"completed\",\"marker\":{\"color\":\"#EF553B\"},\"name\":\"completed\",\"notched\":true,\"offsetgroup\":\"completed\",\"showlegend\":false,\"type\":\"box\",\"x\":[90,95,64,72,42,75,71,81,90,65,65,74,84,69,84,85,59,74,63,55,78,74,47,45,81,66,72,74,44,86,63,89,100,92,89,93,77,37,74,81,79,54,61,55,75,100,67,70,89,74,86,78,88,100,51,76,83,75,73,51,91,54,77,70,100,68,52,67,66,83,62,84,69,84,71,80,79,51,91,83,86,56,68,66,95,82,60,68,70,49,70,77,81,79,79,92,85,92,63,78,82,82,76,60,77,41,74,46,78,84,75,87,61,67,64,82,79,75,56,70,55,76,72,94,78,66,84,58,58,73,97,95,100,67,54,74,54,99,65,57,84,71,83,67,72,74,56,93,58,58,85,48,88,81,74,81,85,65,58,67,88,85,86,90,76,62,71,53,82,64,78,87,89,61,97,87,74,78,78,52,61,67,61,88,69,83,60,66,92,69,82,83,100,67,90,72,75,90,80,100,71,75,66,55,51,56,75,100,79,89,60,90,73,51,96,97,70,51,74,80,92,88,79,81,79,56,80,86,70,60,73,72,84,77,64,78,82,40,66,99,75,74,82,78,81,84,63,61,84,85,70,94,78,96,73,59,90,74,75,51,77,89,66,73,84,69,77,90,68,59,77,81,75,62,67,79,85,85,59,81,51,84,68,73,80,64,84,86,70,90,52,68,86,86,82,64,82,57,44,77,65,85,49,42,71,82,74,72,84,64,70,76,100,85,74,78,54,78,48,100,84,64,61,62,100,77,96,64,61,43,74,71,75,87,81,68,66,62,50,75,77,52,76,68,72,50,82,62,41,85,87,75,86,81,82,99,71,78],\"xaxis\":\"x2\",\"yaxis\":\"y2\"}],                        {\"bargap\":0.1,\"barmode\":\"relative\",\"legend\":{\"title\":{\"text\":\"test_prep_course\"},\"tracegroupgap\":0},\"template\":{\"data\":{\"bar\":[{\"error_x\":{\"color\":\"#2a3f5f\"},\"error_y\":{\"color\":\"#2a3f5f\"},\"marker\":{\"line\":{\"color\":\"#E5ECF6\",\"width\":0.5},\"pattern\":{\"fillmode\":\"overlay\",\"size\":10,\"solidity\":0.2}},\"type\":\"bar\"}],\"barpolar\":[{\"marker\":{\"line\":{\"color\":\"#E5ECF6\",\"width\":0.5},\"pattern\":{\"fillmode\":\"overlay\",\"size\":10,\"solidity\":0.2}},\"type\":\"barpolar\"}],\"carpet\":[{\"aaxis\":{\"endlinecolor\":\"#2a3f5f\",\"gridcolor\":\"white\",\"linecolor\":\"white\",\"minorgridcolor\":\"white\",\"startlinecolor\":\"#2a3f5f\"},\"baxis\":{\"endlinecolor\":\"#2a3f5f\",\"gridcolor\":\"white\",\"linecolor\":\"white\",\"minorgridcolor\":\"white\",\"startlinecolor\":\"#2a3f5f\"},\"type\":\"carpet\"}],\"choropleth\":[{\"colorbar\":{\"outlinewidth\":0,\"ticks\":\"\"},\"type\":\"choropleth\"}],\"contour\":[{\"colorbar\":{\"outlinewidth\":0,\"ticks\":\"\"},\"colorscale\":[[0.0,\"#0d0887\"],[0.1111111111111111,\"#46039f\"],[0.2222222222222222,\"#7201a8\"],[0.3333333333333333,\"#9c179e\"],[0.4444444444444444,\"#bd3786\"],[0.5555555555555556,\"#d8576b\"],[0.6666666666666666,\"#ed7953\"],[0.7777777777777778,\"#fb9f3a\"],[0.8888888888888888,\"#fdca26\"],[1.0,\"#f0f921\"]],\"type\":\"contour\"}],\"contourcarpet\":[{\"colorbar\":{\"outlinewidth\":0,\"ticks\":\"\"},\"type\":\"contourcarpet\"}],\"heatmap\":[{\"colorbar\":{\"outlinewidth\":0,\"ticks\":\"\"},\"colorscale\":[[0.0,\"#0d0887\"],[0.1111111111111111,\"#46039f\"],[0.2222222222222222,\"#7201a8\"],[0.3333333333333333,\"#9c179e\"],[0.4444444444444444,\"#bd3786\"],[0.5555555555555556,\"#d8576b\"],[0.6666666666666666,\"#ed7953\"],[0.7777777777777778,\"#fb9f3a\"],[0.8888888888888888,\"#fdca26\"],[1.0,\"#f0f921\"]],\"type\":\"heatmap\"}],\"heatmapgl\":[{\"colorbar\":{\"outlinewidth\":0,\"ticks\":\"\"},\"colorscale\":[[0.0,\"#0d0887\"],[0.1111111111111111,\"#46039f\"],[0.2222222222222222,\"#7201a8\"],[0.3333333333333333,\"#9c179e\"],[0.4444444444444444,\"#bd3786\"],[0.5555555555555556,\"#d8576b\"],[0.6666666666666666,\"#ed7953\"],[0.7777777777777778,\"#fb9f3a\"],[0.8888888888888888,\"#fdca26\"],[1.0,\"#f0f921\"]],\"type\":\"heatmapgl\"}],\"histogram\":[{\"marker\":{\"pattern\":{\"fillmode\":\"overlay\",\"size\":10,\"solidity\":0.2}},\"type\":\"histogram\"}],\"histogram2d\":[{\"colorbar\":{\"outlinewidth\":0,\"ticks\":\"\"},\"colorscale\":[[0.0,\"#0d0887\"],[0.1111111111111111,\"#46039f\"],[0.2222222222222222,\"#7201a8\"],[0.3333333333333333,\"#9c179e\"],[0.4444444444444444,\"#bd3786\"],[0.5555555555555556,\"#d8576b\"],[0.6666666666666666,\"#ed7953\"],[0.7777777777777778,\"#fb9f3a\"],[0.8888888888888888,\"#fdca26\"],[1.0,\"#f0f921\"]],\"type\":\"histogram2d\"}],\"histogram2dcontour\":[{\"colorbar\":{\"outlinewidth\":0,\"ticks\":\"\"},\"colorscale\":[[0.0,\"#0d0887\"],[0.1111111111111111,\"#46039f\"],[0.2222222222222222,\"#7201a8\"],[0.3333333333333333,\"#9c179e\"],[0.4444444444444444,\"#bd3786\"],[0.5555555555555556,\"#d8576b\"],[0.6666666666666666,\"#ed7953\"],[0.7777777777777778,\"#fb9f3a\"],[0.8888888888888888,\"#fdca26\"],[1.0,\"#f0f921\"]],\"type\":\"histogram2dcontour\"}],\"mesh3d\":[{\"colorbar\":{\"outlinewidth\":0,\"ticks\":\"\"},\"type\":\"mesh3d\"}],\"parcoords\":[{\"line\":{\"colorbar\":{\"outlinewidth\":0,\"ticks\":\"\"}},\"type\":\"parcoords\"}],\"pie\":[{\"automargin\":true,\"type\":\"pie\"}],\"scatter\":[{\"marker\":{\"colorbar\":{\"outlinewidth\":0,\"ticks\":\"\"}},\"type\":\"scatter\"}],\"scatter3d\":[{\"line\":{\"colorbar\":{\"outlinewidth\":0,\"ticks\":\"\"}},\"marker\":{\"colorbar\":{\"outlinewidth\":0,\"ticks\":\"\"}},\"type\":\"scatter3d\"}],\"scattercarpet\":[{\"marker\":{\"colorbar\":{\"outlinewidth\":0,\"ticks\":\"\"}},\"type\":\"scattercarpet\"}],\"scattergeo\":[{\"marker\":{\"colorbar\":{\"outlinewidth\":0,\"ticks\":\"\"}},\"type\":\"scattergeo\"}],\"scattergl\":[{\"marker\":{\"colorbar\":{\"outlinewidth\":0,\"ticks\":\"\"}},\"type\":\"scattergl\"}],\"scattermapbox\":[{\"marker\":{\"colorbar\":{\"outlinewidth\":0,\"ticks\":\"\"}},\"type\":\"scattermapbox\"}],\"scatterpolar\":[{\"marker\":{\"colorbar\":{\"outlinewidth\":0,\"ticks\":\"\"}},\"type\":\"scatterpolar\"}],\"scatterpolargl\":[{\"marker\":{\"colorbar\":{\"outlinewidth\":0,\"ticks\":\"\"}},\"type\":\"scatterpolargl\"}],\"scatterternary\":[{\"marker\":{\"colorbar\":{\"outlinewidth\":0,\"ticks\":\"\"}},\"type\":\"scatterternary\"}],\"surface\":[{\"colorbar\":{\"outlinewidth\":0,\"ticks\":\"\"},\"colorscale\":[[0.0,\"#0d0887\"],[0.1111111111111111,\"#46039f\"],[0.2222222222222222,\"#7201a8\"],[0.3333333333333333,\"#9c179e\"],[0.4444444444444444,\"#bd3786\"],[0.5555555555555556,\"#d8576b\"],[0.6666666666666666,\"#ed7953\"],[0.7777777777777778,\"#fb9f3a\"],[0.8888888888888888,\"#fdca26\"],[1.0,\"#f0f921\"]],\"type\":\"surface\"}],\"table\":[{\"cells\":{\"fill\":{\"color\":\"#EBF0F8\"},\"line\":{\"color\":\"white\"}},\"header\":{\"fill\":{\"color\":\"#C8D4E3\"},\"line\":{\"color\":\"white\"}},\"type\":\"table\"}]},\"layout\":{\"annotationdefaults\":{\"arrowcolor\":\"#2a3f5f\",\"arrowhead\":0,\"arrowwidth\":1},\"autotypenumbers\":\"strict\",\"coloraxis\":{\"colorbar\":{\"outlinewidth\":0,\"ticks\":\"\"}},\"colorscale\":{\"diverging\":[[0,\"#8e0152\"],[0.1,\"#c51b7d\"],[0.2,\"#de77ae\"],[0.3,\"#f1b6da\"],[0.4,\"#fde0ef\"],[0.5,\"#f7f7f7\"],[0.6,\"#e6f5d0\"],[0.7,\"#b8e186\"],[0.8,\"#7fbc41\"],[0.9,\"#4d9221\"],[1,\"#276419\"]],\"sequential\":[[0.0,\"#0d0887\"],[0.1111111111111111,\"#46039f\"],[0.2222222222222222,\"#7201a8\"],[0.3333333333333333,\"#9c179e\"],[0.4444444444444444,\"#bd3786\"],[0.5555555555555556,\"#d8576b\"],[0.6666666666666666,\"#ed7953\"],[0.7777777777777778,\"#fb9f3a\"],[0.8888888888888888,\"#fdca26\"],[1.0,\"#f0f921\"]],\"sequentialminus\":[[0.0,\"#0d0887\"],[0.1111111111111111,\"#46039f\"],[0.2222222222222222,\"#7201a8\"],[0.3333333333333333,\"#9c179e\"],[0.4444444444444444,\"#bd3786\"],[0.5555555555555556,\"#d8576b\"],[0.6666666666666666,\"#ed7953\"],[0.7777777777777778,\"#fb9f3a\"],[0.8888888888888888,\"#fdca26\"],[1.0,\"#f0f921\"]]},\"colorway\":[\"#636efa\",\"#EF553B\",\"#00cc96\",\"#ab63fa\",\"#FFA15A\",\"#19d3f3\",\"#FF6692\",\"#B6E880\",\"#FF97FF\",\"#FECB52\"],\"font\":{\"color\":\"#2a3f5f\"},\"geo\":{\"bgcolor\":\"white\",\"lakecolor\":\"white\",\"landcolor\":\"#E5ECF6\",\"showlakes\":true,\"showland\":true,\"subunitcolor\":\"white\"},\"hoverlabel\":{\"align\":\"left\"},\"hovermode\":\"closest\",\"mapbox\":{\"style\":\"light\"},\"paper_bgcolor\":\"white\",\"plot_bgcolor\":\"#E5ECF6\",\"polar\":{\"angularaxis\":{\"gridcolor\":\"white\",\"linecolor\":\"white\",\"ticks\":\"\"},\"bgcolor\":\"#E5ECF6\",\"radialaxis\":{\"gridcolor\":\"white\",\"linecolor\":\"white\",\"ticks\":\"\"}},\"scene\":{\"xaxis\":{\"backgroundcolor\":\"#E5ECF6\",\"gridcolor\":\"white\",\"gridwidth\":2,\"linecolor\":\"white\",\"showbackground\":true,\"ticks\":\"\",\"zerolinecolor\":\"white\"},\"yaxis\":{\"backgroundcolor\":\"#E5ECF6\",\"gridcolor\":\"white\",\"gridwidth\":2,\"linecolor\":\"white\",\"showbackground\":true,\"ticks\":\"\",\"zerolinecolor\":\"white\"},\"zaxis\":{\"backgroundcolor\":\"#E5ECF6\",\"gridcolor\":\"white\",\"gridwidth\":2,\"linecolor\":\"white\",\"showbackground\":true,\"ticks\":\"\",\"zerolinecolor\":\"white\"}},\"shapedefaults\":{\"line\":{\"color\":\"#2a3f5f\"}},\"ternary\":{\"aaxis\":{\"gridcolor\":\"white\",\"linecolor\":\"white\",\"ticks\":\"\"},\"baxis\":{\"gridcolor\":\"white\",\"linecolor\":\"white\",\"ticks\":\"\"},\"bgcolor\":\"#E5ECF6\",\"caxis\":{\"gridcolor\":\"white\",\"linecolor\":\"white\",\"ticks\":\"\"}},\"title\":{\"x\":0.05},\"xaxis\":{\"automargin\":true,\"gridcolor\":\"white\",\"linecolor\":\"white\",\"ticks\":\"\",\"title\":{\"standoff\":15},\"zerolinecolor\":\"white\",\"zerolinewidth\":2},\"yaxis\":{\"automargin\":true,\"gridcolor\":\"white\",\"linecolor\":\"white\",\"ticks\":\"\",\"title\":{\"standoff\":15},\"zerolinecolor\":\"white\",\"zerolinewidth\":2}}},\"title\":{\"text\":\"Reading Results\"},\"xaxis\":{\"anchor\":\"y\",\"domain\":[0.0,1.0],\"title\":{\"text\":\"reading\"}},\"xaxis2\":{\"anchor\":\"y2\",\"domain\":[0.0,1.0],\"matches\":\"x\",\"showgrid\":true,\"showticklabels\":false},\"yaxis\":{\"anchor\":\"x\",\"domain\":[0.0,0.7326],\"title\":{\"text\":\"count\"}},\"yaxis2\":{\"anchor\":\"x2\",\"domain\":[0.7426,1.0],\"matches\":\"y2\",\"showgrid\":false,\"showline\":false,\"showticklabels\":false,\"ticks\":\"\"}},                        {\"responsive\": true}                    ).then(function(){\n",
       "                            \n",
       "var gd = document.getElementById('cd326d8e-d252-42af-9313-e348bf155e26');\n",
       "var x = new MutationObserver(function (mutations, observer) {{\n",
       "        var display = window.getComputedStyle(gd).display;\n",
       "        if (!display || display === 'none') {{\n",
       "            console.log([gd, 'removed!']);\n",
       "            Plotly.purge(gd);\n",
       "            observer.disconnect();\n",
       "        }}\n",
       "}});\n",
       "\n",
       "// Listen for the removal of the full notebook cells\n",
       "var notebookContainer = gd.closest('#notebook-container');\n",
       "if (notebookContainer) {{\n",
       "    x.observe(notebookContainer, {childList: true});\n",
       "}}\n",
       "\n",
       "// Listen for the clearing of the current output cell\n",
       "var outputEl = gd.closest('.output');\n",
       "if (outputEl) {{\n",
       "    x.observe(outputEl, {childList: true});\n",
       "}}\n",
       "\n",
       "                        })                };                });            </script>        </div>"
      ]
     },
     "metadata": {},
     "output_type": "display_data"
    }
   ],
   "source": [
    "fig = px.histogram(exam_df,x = 'reading',marginal = 'box',color = 'test_prep_course',title = 'Reading Results')\n",
    "fig.update_layout(bargap = 0.1)\n",
    "fig.show()"
   ]
  },
  {
   "cell_type": "code",
   "execution_count": null,
   "id": "c3f9319c-e3f3-4355-a377-8598c60c9da7",
   "metadata": {},
   "outputs": [],
   "source": []
  },
  {
   "cell_type": "code",
   "execution_count": 25,
   "id": "f81a76c4-d0ff-4ec4-842f-ae667251cba0",
   "metadata": {},
   "outputs": [],
   "source": [
    "#Reading Results of students who have taken prep course Vs who have not taken prep course"
   ]
  },
  {
   "cell_type": "code",
   "execution_count": 26,
   "id": "f0cc36e7-5f0c-4ad0-aec2-be2fa0c50d26",
   "metadata": {},
   "outputs": [
    {
     "data": {
      "application/vnd.plotly.v1+json": {
       "config": {
        "plotlyServerURL": "https://plot.ly"
       },
       "data": [
        {
         "alignmentgroup": "True",
         "bingroup": "x",
         "hovertemplate": "test_prep_course=none<br>writing=%{x}<br>count=%{y}<extra></extra>",
         "legendgroup": "none",
         "marker": {
          "color": "#636efa",
          "pattern": {
           "shape": ""
          }
         },
         "name": "none",
         "offsetgroup": "none",
         "orientation": "v",
         "showlegend": true,
         "type": "histogram",
         "x": [
          74,
          93,
          44,
          75,
          78,
          39,
          50,
          52,
          43,
          73,
          58,
          78,
          86,
          28,
          61,
          63,
          53,
          73,
          72,
          55,
          75,
          65,
          75,
          74,
          61,
          65,
          38,
          82,
          83,
          59,
          57,
          54,
          68,
          65,
          54,
          57,
          76,
          48,
          42,
          75,
          43,
          49,
          10,
          34,
          55,
          71,
          59,
          61,
          37,
          74,
          56,
          57,
          48,
          56,
          41,
          38,
          22,
          68,
          50,
          45,
          63,
          34,
          82,
          88,
          74,
          67,
          82,
          74,
          36,
          71,
          92,
          62,
          62,
          67,
          89,
          72,
          100,
          70,
          72,
          49,
          47,
          54,
          74,
          82,
          79,
          61,
          65,
          56,
          73,
          86,
          67,
          74,
          51,
          82,
          48,
          56,
          67,
          71,
          64,
          47,
          78,
          33,
          75,
          66,
          68,
          47,
          61,
          60,
          64,
          52,
          49,
          91,
          78,
          81,
          70,
          66,
          47,
          70,
          65,
          45,
          87,
          69,
          66,
          52,
          51,
          55,
          76,
          77,
          69,
          68,
          42,
          62,
          76,
          66,
          27,
          60,
          39,
          70,
          73,
          62,
          75,
          54,
          71,
          54,
          64,
          66,
          42,
          83,
          78,
          77,
          67,
          51,
          80,
          83,
          55,
          43,
          69,
          71,
          74,
          62,
          53,
          83,
          72,
          52,
          70,
          68,
          78,
          51,
          90,
          68,
          41,
          81,
          77,
          70,
          61,
          42,
          58,
          71,
          73,
          80,
          57,
          42,
          46,
          84,
          46,
          82,
          76,
          68,
          70,
          75,
          60,
          75,
          52,
          64,
          69,
          44,
          67,
          52,
          80,
          57,
          65,
          78,
          69,
          63,
          79,
          80,
          53,
          43,
          94,
          62,
          19,
          51,
          61,
          35,
          81,
          95,
          66,
          43,
          27,
          52,
          63,
          67,
          75,
          57,
          66,
          76,
          69,
          52,
          57,
          70,
          70,
          61,
          61,
          89,
          59,
          58,
          32,
          58,
          61,
          58,
          85,
          71,
          72,
          73,
          41,
          82,
          77,
          62,
          83,
          71,
          45,
          43,
          75,
          70,
          67,
          64,
          75,
          77,
          67,
          41,
          63,
          95,
          57,
          54,
          43,
          55,
          62,
          68,
          77,
          60,
          69,
          67,
          62,
          34,
          62,
          86,
          65,
          53,
          54,
          59,
          70,
          55,
          50,
          66,
          64,
          73,
          51,
          80,
          69,
          76,
          73,
          60,
          42,
          72,
          97,
          74,
          49,
          62,
          47,
          89,
          48,
          100,
          55,
          45,
          76,
          91,
          91,
          38,
          76,
          74,
          61,
          72,
          70,
          67,
          56,
          61,
          46,
          54,
          71,
          56,
          74,
          76,
          70,
          90,
          90,
          68,
          52,
          68,
          72,
          82,
          54,
          54,
          80,
          66,
          54,
          77,
          87,
          73,
          43,
          52,
          84,
          52,
          84,
          57,
          50,
          59,
          43,
          47,
          70,
          53,
          62,
          79,
          89,
          66,
          64,
          69,
          65,
          50,
          64,
          40,
          33,
          66,
          70,
          62,
          74,
          46,
          45,
          47,
          67,
          92,
          56,
          71,
          89,
          68,
          96,
          80,
          78,
          77,
          76,
          73,
          62,
          65,
          65,
          54,
          50,
          64,
          73,
          15,
          48,
          73,
          81,
          63,
          30,
          80,
          51,
          62,
          82,
          54,
          62,
          65,
          66,
          74,
          93,
          72,
          38,
          83,
          84,
          54,
          56,
          62,
          46,
          46,
          70,
          65,
          85,
          80,
          64,
          74,
          73,
          51,
          79,
          60,
          65,
          68,
          55,
          79,
          67,
          64,
          61,
          58,
          85,
          73,
          63,
          69,
          67,
          63,
          87,
          61,
          68,
          50,
          76,
          78,
          60,
          74,
          60,
          54,
          73,
          44,
          83,
          53,
          78,
          73,
          56,
          86,
          70,
          59,
          72,
          67,
          65,
          36,
          52,
          79,
          99,
          84,
          74,
          70,
          42,
          41,
          84,
          37,
          43,
          44,
          57,
          59,
          84,
          73,
          55,
          72,
          56,
          82,
          47,
          74,
          71,
          68,
          59,
          65,
          53,
          92,
          52,
          64,
          54,
          63,
          59,
          72,
          75,
          57,
          49,
          74,
          79,
          60,
          55,
          70,
          43,
          57,
          84,
          77,
          32,
          61,
          61,
          60,
          70,
          69,
          51,
          70,
          81,
          54,
          57,
          95,
          87,
          78,
          74,
          75,
          40,
          69,
          51,
          36,
          49,
          83,
          64,
          68,
          88,
          93,
          82,
          52,
          58,
          76,
          53,
          57,
          58,
          45,
          57,
          73,
          46,
          51,
          84,
          50,
          68,
          69,
          67,
          63,
          93,
          61,
          55,
          96,
          65,
          81,
          72,
          53,
          87,
          91,
          52,
          41,
          51,
          47,
          82,
          61,
          66,
          84,
          54,
          80,
          74,
          71,
          44,
          54,
          59,
          74,
          48,
          85,
          73,
          69,
          38,
          27,
          89,
          74,
          84,
          77,
          51,
          72,
          48,
          82,
          55,
          66,
          52,
          67,
          46,
          66,
          65,
          69,
          52,
          51,
          62,
          58,
          53,
          57,
          96,
          64,
          61,
          58,
          80,
          60,
          71,
          72,
          69,
          62,
          81,
          100,
          59,
          71,
          64,
          53,
          100,
          58,
          72,
          60,
          67,
          80,
          100,
          61,
          67,
          58,
          94,
          23,
          78,
          82,
          54,
          51,
          45,
          76,
          74,
          62,
          55,
          86
         ],
         "xaxis": "x",
         "yaxis": "y"
        },
        {
         "alignmentgroup": "True",
         "hovertemplate": "test_prep_course=none<br>writing=%{x}<extra></extra>",
         "legendgroup": "none",
         "marker": {
          "color": "#636efa"
         },
         "name": "none",
         "notched": true,
         "offsetgroup": "none",
         "showlegend": false,
         "type": "box",
         "x": [
          74,
          93,
          44,
          75,
          78,
          39,
          50,
          52,
          43,
          73,
          58,
          78,
          86,
          28,
          61,
          63,
          53,
          73,
          72,
          55,
          75,
          65,
          75,
          74,
          61,
          65,
          38,
          82,
          83,
          59,
          57,
          54,
          68,
          65,
          54,
          57,
          76,
          48,
          42,
          75,
          43,
          49,
          10,
          34,
          55,
          71,
          59,
          61,
          37,
          74,
          56,
          57,
          48,
          56,
          41,
          38,
          22,
          68,
          50,
          45,
          63,
          34,
          82,
          88,
          74,
          67,
          82,
          74,
          36,
          71,
          92,
          62,
          62,
          67,
          89,
          72,
          100,
          70,
          72,
          49,
          47,
          54,
          74,
          82,
          79,
          61,
          65,
          56,
          73,
          86,
          67,
          74,
          51,
          82,
          48,
          56,
          67,
          71,
          64,
          47,
          78,
          33,
          75,
          66,
          68,
          47,
          61,
          60,
          64,
          52,
          49,
          91,
          78,
          81,
          70,
          66,
          47,
          70,
          65,
          45,
          87,
          69,
          66,
          52,
          51,
          55,
          76,
          77,
          69,
          68,
          42,
          62,
          76,
          66,
          27,
          60,
          39,
          70,
          73,
          62,
          75,
          54,
          71,
          54,
          64,
          66,
          42,
          83,
          78,
          77,
          67,
          51,
          80,
          83,
          55,
          43,
          69,
          71,
          74,
          62,
          53,
          83,
          72,
          52,
          70,
          68,
          78,
          51,
          90,
          68,
          41,
          81,
          77,
          70,
          61,
          42,
          58,
          71,
          73,
          80,
          57,
          42,
          46,
          84,
          46,
          82,
          76,
          68,
          70,
          75,
          60,
          75,
          52,
          64,
          69,
          44,
          67,
          52,
          80,
          57,
          65,
          78,
          69,
          63,
          79,
          80,
          53,
          43,
          94,
          62,
          19,
          51,
          61,
          35,
          81,
          95,
          66,
          43,
          27,
          52,
          63,
          67,
          75,
          57,
          66,
          76,
          69,
          52,
          57,
          70,
          70,
          61,
          61,
          89,
          59,
          58,
          32,
          58,
          61,
          58,
          85,
          71,
          72,
          73,
          41,
          82,
          77,
          62,
          83,
          71,
          45,
          43,
          75,
          70,
          67,
          64,
          75,
          77,
          67,
          41,
          63,
          95,
          57,
          54,
          43,
          55,
          62,
          68,
          77,
          60,
          69,
          67,
          62,
          34,
          62,
          86,
          65,
          53,
          54,
          59,
          70,
          55,
          50,
          66,
          64,
          73,
          51,
          80,
          69,
          76,
          73,
          60,
          42,
          72,
          97,
          74,
          49,
          62,
          47,
          89,
          48,
          100,
          55,
          45,
          76,
          91,
          91,
          38,
          76,
          74,
          61,
          72,
          70,
          67,
          56,
          61,
          46,
          54,
          71,
          56,
          74,
          76,
          70,
          90,
          90,
          68,
          52,
          68,
          72,
          82,
          54,
          54,
          80,
          66,
          54,
          77,
          87,
          73,
          43,
          52,
          84,
          52,
          84,
          57,
          50,
          59,
          43,
          47,
          70,
          53,
          62,
          79,
          89,
          66,
          64,
          69,
          65,
          50,
          64,
          40,
          33,
          66,
          70,
          62,
          74,
          46,
          45,
          47,
          67,
          92,
          56,
          71,
          89,
          68,
          96,
          80,
          78,
          77,
          76,
          73,
          62,
          65,
          65,
          54,
          50,
          64,
          73,
          15,
          48,
          73,
          81,
          63,
          30,
          80,
          51,
          62,
          82,
          54,
          62,
          65,
          66,
          74,
          93,
          72,
          38,
          83,
          84,
          54,
          56,
          62,
          46,
          46,
          70,
          65,
          85,
          80,
          64,
          74,
          73,
          51,
          79,
          60,
          65,
          68,
          55,
          79,
          67,
          64,
          61,
          58,
          85,
          73,
          63,
          69,
          67,
          63,
          87,
          61,
          68,
          50,
          76,
          78,
          60,
          74,
          60,
          54,
          73,
          44,
          83,
          53,
          78,
          73,
          56,
          86,
          70,
          59,
          72,
          67,
          65,
          36,
          52,
          79,
          99,
          84,
          74,
          70,
          42,
          41,
          84,
          37,
          43,
          44,
          57,
          59,
          84,
          73,
          55,
          72,
          56,
          82,
          47,
          74,
          71,
          68,
          59,
          65,
          53,
          92,
          52,
          64,
          54,
          63,
          59,
          72,
          75,
          57,
          49,
          74,
          79,
          60,
          55,
          70,
          43,
          57,
          84,
          77,
          32,
          61,
          61,
          60,
          70,
          69,
          51,
          70,
          81,
          54,
          57,
          95,
          87,
          78,
          74,
          75,
          40,
          69,
          51,
          36,
          49,
          83,
          64,
          68,
          88,
          93,
          82,
          52,
          58,
          76,
          53,
          57,
          58,
          45,
          57,
          73,
          46,
          51,
          84,
          50,
          68,
          69,
          67,
          63,
          93,
          61,
          55,
          96,
          65,
          81,
          72,
          53,
          87,
          91,
          52,
          41,
          51,
          47,
          82,
          61,
          66,
          84,
          54,
          80,
          74,
          71,
          44,
          54,
          59,
          74,
          48,
          85,
          73,
          69,
          38,
          27,
          89,
          74,
          84,
          77,
          51,
          72,
          48,
          82,
          55,
          66,
          52,
          67,
          46,
          66,
          65,
          69,
          52,
          51,
          62,
          58,
          53,
          57,
          96,
          64,
          61,
          58,
          80,
          60,
          71,
          72,
          69,
          62,
          81,
          100,
          59,
          71,
          64,
          53,
          100,
          58,
          72,
          60,
          67,
          80,
          100,
          61,
          67,
          58,
          94,
          23,
          78,
          82,
          54,
          51,
          45,
          76,
          74,
          62,
          55,
          86
         ],
         "xaxis": "x2",
         "yaxis": "y2"
        },
        {
         "alignmentgroup": "True",
         "bingroup": "x",
         "hovertemplate": "test_prep_course=completed<br>writing=%{x}<br>count=%{y}<extra></extra>",
         "legendgroup": "completed",
         "marker": {
          "color": "#EF553B",
          "pattern": {
           "shape": ""
          }
         },
         "name": "completed",
         "offsetgroup": "completed",
         "orientation": "v",
         "showlegend": true,
         "type": "histogram",
         "x": [
          88,
          92,
          67,
          70,
          46,
          70,
          80,
          79,
          88,
          66,
          62,
          76,
          82,
          68,
          87,
          86,
          58,
          72,
          73,
          63,
          81,
          72,
          54,
          50,
          82,
          62,
          70,
          74,
          47,
          90,
          64,
          98,
          100,
          89,
          92,
          93,
          74,
          40,
          70,
          84,
          75,
          41,
          69,
          54,
          81,
          93,
          69,
          66,
          88,
          78,
          87,
          74,
          85,
          100,
          51,
          78,
          78,
          70,
          74,
          54,
          87,
          58,
          77,
          62,
          100,
          75,
          49,
          65,
          68,
          79,
          62,
          85,
          65,
          86,
          78,
          76,
          79,
          56,
          81,
          75,
          88,
          56,
          74,
          73,
          94,
          84,
          74,
          66,
          68,
          49,
          70,
          77,
          81,
          77,
          78,
          95,
          76,
          93,
          75,
          78,
          82,
          88,
          77,
          57,
          80,
          43,
          68,
          50,
          81,
          81,
          83,
          81,
          68,
          69,
          75,
          91,
          84,
          77,
          53,
          69,
          60,
          74,
          67,
          95,
          80,
          69,
          78,
          60,
          53,
          70,
          96,
          100,
          95,
          59,
          56,
          77,
          67,
          100,
          63,
          56,
          85,
          74,
          78,
          67,
          79,
          68,
          54,
          93,
          64,
          67,
          80,
          53,
          82,
          79,
          77,
          80,
          85,
          68,
          62,
          65,
          85,
          90,
          84,
          91,
          83,
          66,
          68,
          57,
          82,
          66,
          76,
          92,
          92,
          62,
          94,
          85,
          73,
          78,
          79,
          49,
          60,
          73,
          58,
          94,
          68,
          83,
          58,
          71,
          86,
          68,
          80,
          80,
          97,
          64,
          88,
          79,
          79,
          92,
          80,
          100,
          78,
          70,
          64,
          53,
          52,
          58,
          80,
          99,
          72,
          90,
          63,
          91,
          68,
          52,
          86,
          99,
          63,
          55,
          81,
          81,
          88,
          90,
          80,
          81,
          81,
          53,
          76,
          98,
          74,
          60,
          71,
          77,
          84,
          78,
          66,
          76,
          76,
          44,
          68,
          100,
          68,
          81,
          90,
          79,
          82,
          87,
          64,
          58,
          90,
          85,
          74,
          87,
          72,
          99,
          80,
          59,
          88,
          71,
          77,
          57,
          80,
          94,
          73,
          72,
          86,
          68,
          75,
          85,
          72,
          65,
          77,
          86,
          77,
          60,
          72,
          82,
          82,
          82,
          62,
          79,
          44,
          77,
          73,
          68,
          73,
          67,
          76,
          87,
          76,
          92,
          51,
          70,
          81,
          89,
          89,
          74,
          79,
          53,
          36,
          76,
          64,
          85,
          46,
          38,
          80,
          88,
          72,
          76,
          78,
          66,
          70,
          80,
          95,
          91,
          75,
          79,
          63,
          82,
          41,
          100,
          91,
          70,
          66,
          66,
          100,
          80,
          91,
          60,
          71,
          44,
          70,
          73,
          74,
          90,
          85,
          69,
          72,
          61,
          52,
          73,
          83,
          54,
          75,
          64,
          69,
          60,
          77,
          60,
          48,
          86,
          91,
          76,
          83,
          75,
          78,
          95,
          65,
          77
         ],
         "xaxis": "x",
         "yaxis": "y"
        },
        {
         "alignmentgroup": "True",
         "hovertemplate": "test_prep_course=completed<br>writing=%{x}<extra></extra>",
         "legendgroup": "completed",
         "marker": {
          "color": "#EF553B"
         },
         "name": "completed",
         "notched": true,
         "offsetgroup": "completed",
         "showlegend": false,
         "type": "box",
         "x": [
          88,
          92,
          67,
          70,
          46,
          70,
          80,
          79,
          88,
          66,
          62,
          76,
          82,
          68,
          87,
          86,
          58,
          72,
          73,
          63,
          81,
          72,
          54,
          50,
          82,
          62,
          70,
          74,
          47,
          90,
          64,
          98,
          100,
          89,
          92,
          93,
          74,
          40,
          70,
          84,
          75,
          41,
          69,
          54,
          81,
          93,
          69,
          66,
          88,
          78,
          87,
          74,
          85,
          100,
          51,
          78,
          78,
          70,
          74,
          54,
          87,
          58,
          77,
          62,
          100,
          75,
          49,
          65,
          68,
          79,
          62,
          85,
          65,
          86,
          78,
          76,
          79,
          56,
          81,
          75,
          88,
          56,
          74,
          73,
          94,
          84,
          74,
          66,
          68,
          49,
          70,
          77,
          81,
          77,
          78,
          95,
          76,
          93,
          75,
          78,
          82,
          88,
          77,
          57,
          80,
          43,
          68,
          50,
          81,
          81,
          83,
          81,
          68,
          69,
          75,
          91,
          84,
          77,
          53,
          69,
          60,
          74,
          67,
          95,
          80,
          69,
          78,
          60,
          53,
          70,
          96,
          100,
          95,
          59,
          56,
          77,
          67,
          100,
          63,
          56,
          85,
          74,
          78,
          67,
          79,
          68,
          54,
          93,
          64,
          67,
          80,
          53,
          82,
          79,
          77,
          80,
          85,
          68,
          62,
          65,
          85,
          90,
          84,
          91,
          83,
          66,
          68,
          57,
          82,
          66,
          76,
          92,
          92,
          62,
          94,
          85,
          73,
          78,
          79,
          49,
          60,
          73,
          58,
          94,
          68,
          83,
          58,
          71,
          86,
          68,
          80,
          80,
          97,
          64,
          88,
          79,
          79,
          92,
          80,
          100,
          78,
          70,
          64,
          53,
          52,
          58,
          80,
          99,
          72,
          90,
          63,
          91,
          68,
          52,
          86,
          99,
          63,
          55,
          81,
          81,
          88,
          90,
          80,
          81,
          81,
          53,
          76,
          98,
          74,
          60,
          71,
          77,
          84,
          78,
          66,
          76,
          76,
          44,
          68,
          100,
          68,
          81,
          90,
          79,
          82,
          87,
          64,
          58,
          90,
          85,
          74,
          87,
          72,
          99,
          80,
          59,
          88,
          71,
          77,
          57,
          80,
          94,
          73,
          72,
          86,
          68,
          75,
          85,
          72,
          65,
          77,
          86,
          77,
          60,
          72,
          82,
          82,
          82,
          62,
          79,
          44,
          77,
          73,
          68,
          73,
          67,
          76,
          87,
          76,
          92,
          51,
          70,
          81,
          89,
          89,
          74,
          79,
          53,
          36,
          76,
          64,
          85,
          46,
          38,
          80,
          88,
          72,
          76,
          78,
          66,
          70,
          80,
          95,
          91,
          75,
          79,
          63,
          82,
          41,
          100,
          91,
          70,
          66,
          66,
          100,
          80,
          91,
          60,
          71,
          44,
          70,
          73,
          74,
          90,
          85,
          69,
          72,
          61,
          52,
          73,
          83,
          54,
          75,
          64,
          69,
          60,
          77,
          60,
          48,
          86,
          91,
          76,
          83,
          75,
          78,
          95,
          65,
          77
         ],
         "xaxis": "x2",
         "yaxis": "y2"
        }
       ],
       "layout": {
        "autosize": true,
        "bargap": 0.1,
        "barmode": "relative",
        "legend": {
         "title": {
          "text": "test_prep_course"
         },
         "tracegroupgap": 0
        },
        "template": {
         "data": {
          "bar": [
           {
            "error_x": {
             "color": "#2a3f5f"
            },
            "error_y": {
             "color": "#2a3f5f"
            },
            "marker": {
             "line": {
              "color": "#E5ECF6",
              "width": 0.5
             },
             "pattern": {
              "fillmode": "overlay",
              "size": 10,
              "solidity": 0.2
             }
            },
            "type": "bar"
           }
          ],
          "barpolar": [
           {
            "marker": {
             "line": {
              "color": "#E5ECF6",
              "width": 0.5
             },
             "pattern": {
              "fillmode": "overlay",
              "size": 10,
              "solidity": 0.2
             }
            },
            "type": "barpolar"
           }
          ],
          "carpet": [
           {
            "aaxis": {
             "endlinecolor": "#2a3f5f",
             "gridcolor": "white",
             "linecolor": "white",
             "minorgridcolor": "white",
             "startlinecolor": "#2a3f5f"
            },
            "baxis": {
             "endlinecolor": "#2a3f5f",
             "gridcolor": "white",
             "linecolor": "white",
             "minorgridcolor": "white",
             "startlinecolor": "#2a3f5f"
            },
            "type": "carpet"
           }
          ],
          "choropleth": [
           {
            "colorbar": {
             "outlinewidth": 0,
             "ticks": ""
            },
            "type": "choropleth"
           }
          ],
          "contour": [
           {
            "colorbar": {
             "outlinewidth": 0,
             "ticks": ""
            },
            "colorscale": [
             [
              0,
              "#0d0887"
             ],
             [
              0.1111111111111111,
              "#46039f"
             ],
             [
              0.2222222222222222,
              "#7201a8"
             ],
             [
              0.3333333333333333,
              "#9c179e"
             ],
             [
              0.4444444444444444,
              "#bd3786"
             ],
             [
              0.5555555555555556,
              "#d8576b"
             ],
             [
              0.6666666666666666,
              "#ed7953"
             ],
             [
              0.7777777777777778,
              "#fb9f3a"
             ],
             [
              0.8888888888888888,
              "#fdca26"
             ],
             [
              1,
              "#f0f921"
             ]
            ],
            "type": "contour"
           }
          ],
          "contourcarpet": [
           {
            "colorbar": {
             "outlinewidth": 0,
             "ticks": ""
            },
            "type": "contourcarpet"
           }
          ],
          "heatmap": [
           {
            "colorbar": {
             "outlinewidth": 0,
             "ticks": ""
            },
            "colorscale": [
             [
              0,
              "#0d0887"
             ],
             [
              0.1111111111111111,
              "#46039f"
             ],
             [
              0.2222222222222222,
              "#7201a8"
             ],
             [
              0.3333333333333333,
              "#9c179e"
             ],
             [
              0.4444444444444444,
              "#bd3786"
             ],
             [
              0.5555555555555556,
              "#d8576b"
             ],
             [
              0.6666666666666666,
              "#ed7953"
             ],
             [
              0.7777777777777778,
              "#fb9f3a"
             ],
             [
              0.8888888888888888,
              "#fdca26"
             ],
             [
              1,
              "#f0f921"
             ]
            ],
            "type": "heatmap"
           }
          ],
          "heatmapgl": [
           {
            "colorbar": {
             "outlinewidth": 0,
             "ticks": ""
            },
            "colorscale": [
             [
              0,
              "#0d0887"
             ],
             [
              0.1111111111111111,
              "#46039f"
             ],
             [
              0.2222222222222222,
              "#7201a8"
             ],
             [
              0.3333333333333333,
              "#9c179e"
             ],
             [
              0.4444444444444444,
              "#bd3786"
             ],
             [
              0.5555555555555556,
              "#d8576b"
             ],
             [
              0.6666666666666666,
              "#ed7953"
             ],
             [
              0.7777777777777778,
              "#fb9f3a"
             ],
             [
              0.8888888888888888,
              "#fdca26"
             ],
             [
              1,
              "#f0f921"
             ]
            ],
            "type": "heatmapgl"
           }
          ],
          "histogram": [
           {
            "marker": {
             "pattern": {
              "fillmode": "overlay",
              "size": 10,
              "solidity": 0.2
             }
            },
            "type": "histogram"
           }
          ],
          "histogram2d": [
           {
            "colorbar": {
             "outlinewidth": 0,
             "ticks": ""
            },
            "colorscale": [
             [
              0,
              "#0d0887"
             ],
             [
              0.1111111111111111,
              "#46039f"
             ],
             [
              0.2222222222222222,
              "#7201a8"
             ],
             [
              0.3333333333333333,
              "#9c179e"
             ],
             [
              0.4444444444444444,
              "#bd3786"
             ],
             [
              0.5555555555555556,
              "#d8576b"
             ],
             [
              0.6666666666666666,
              "#ed7953"
             ],
             [
              0.7777777777777778,
              "#fb9f3a"
             ],
             [
              0.8888888888888888,
              "#fdca26"
             ],
             [
              1,
              "#f0f921"
             ]
            ],
            "type": "histogram2d"
           }
          ],
          "histogram2dcontour": [
           {
            "colorbar": {
             "outlinewidth": 0,
             "ticks": ""
            },
            "colorscale": [
             [
              0,
              "#0d0887"
             ],
             [
              0.1111111111111111,
              "#46039f"
             ],
             [
              0.2222222222222222,
              "#7201a8"
             ],
             [
              0.3333333333333333,
              "#9c179e"
             ],
             [
              0.4444444444444444,
              "#bd3786"
             ],
             [
              0.5555555555555556,
              "#d8576b"
             ],
             [
              0.6666666666666666,
              "#ed7953"
             ],
             [
              0.7777777777777778,
              "#fb9f3a"
             ],
             [
              0.8888888888888888,
              "#fdca26"
             ],
             [
              1,
              "#f0f921"
             ]
            ],
            "type": "histogram2dcontour"
           }
          ],
          "mesh3d": [
           {
            "colorbar": {
             "outlinewidth": 0,
             "ticks": ""
            },
            "type": "mesh3d"
           }
          ],
          "parcoords": [
           {
            "line": {
             "colorbar": {
              "outlinewidth": 0,
              "ticks": ""
             }
            },
            "type": "parcoords"
           }
          ],
          "pie": [
           {
            "automargin": true,
            "type": "pie"
           }
          ],
          "scatter": [
           {
            "marker": {
             "colorbar": {
              "outlinewidth": 0,
              "ticks": ""
             }
            },
            "type": "scatter"
           }
          ],
          "scatter3d": [
           {
            "line": {
             "colorbar": {
              "outlinewidth": 0,
              "ticks": ""
             }
            },
            "marker": {
             "colorbar": {
              "outlinewidth": 0,
              "ticks": ""
             }
            },
            "type": "scatter3d"
           }
          ],
          "scattercarpet": [
           {
            "marker": {
             "colorbar": {
              "outlinewidth": 0,
              "ticks": ""
             }
            },
            "type": "scattercarpet"
           }
          ],
          "scattergeo": [
           {
            "marker": {
             "colorbar": {
              "outlinewidth": 0,
              "ticks": ""
             }
            },
            "type": "scattergeo"
           }
          ],
          "scattergl": [
           {
            "marker": {
             "colorbar": {
              "outlinewidth": 0,
              "ticks": ""
             }
            },
            "type": "scattergl"
           }
          ],
          "scattermapbox": [
           {
            "marker": {
             "colorbar": {
              "outlinewidth": 0,
              "ticks": ""
             }
            },
            "type": "scattermapbox"
           }
          ],
          "scatterpolar": [
           {
            "marker": {
             "colorbar": {
              "outlinewidth": 0,
              "ticks": ""
             }
            },
            "type": "scatterpolar"
           }
          ],
          "scatterpolargl": [
           {
            "marker": {
             "colorbar": {
              "outlinewidth": 0,
              "ticks": ""
             }
            },
            "type": "scatterpolargl"
           }
          ],
          "scatterternary": [
           {
            "marker": {
             "colorbar": {
              "outlinewidth": 0,
              "ticks": ""
             }
            },
            "type": "scatterternary"
           }
          ],
          "surface": [
           {
            "colorbar": {
             "outlinewidth": 0,
             "ticks": ""
            },
            "colorscale": [
             [
              0,
              "#0d0887"
             ],
             [
              0.1111111111111111,
              "#46039f"
             ],
             [
              0.2222222222222222,
              "#7201a8"
             ],
             [
              0.3333333333333333,
              "#9c179e"
             ],
             [
              0.4444444444444444,
              "#bd3786"
             ],
             [
              0.5555555555555556,
              "#d8576b"
             ],
             [
              0.6666666666666666,
              "#ed7953"
             ],
             [
              0.7777777777777778,
              "#fb9f3a"
             ],
             [
              0.8888888888888888,
              "#fdca26"
             ],
             [
              1,
              "#f0f921"
             ]
            ],
            "type": "surface"
           }
          ],
          "table": [
           {
            "cells": {
             "fill": {
              "color": "#EBF0F8"
             },
             "line": {
              "color": "white"
             }
            },
            "header": {
             "fill": {
              "color": "#C8D4E3"
             },
             "line": {
              "color": "white"
             }
            },
            "type": "table"
           }
          ]
         },
         "layout": {
          "annotationdefaults": {
           "arrowcolor": "#2a3f5f",
           "arrowhead": 0,
           "arrowwidth": 1
          },
          "autotypenumbers": "strict",
          "coloraxis": {
           "colorbar": {
            "outlinewidth": 0,
            "ticks": ""
           }
          },
          "colorscale": {
           "diverging": [
            [
             0,
             "#8e0152"
            ],
            [
             0.1,
             "#c51b7d"
            ],
            [
             0.2,
             "#de77ae"
            ],
            [
             0.3,
             "#f1b6da"
            ],
            [
             0.4,
             "#fde0ef"
            ],
            [
             0.5,
             "#f7f7f7"
            ],
            [
             0.6,
             "#e6f5d0"
            ],
            [
             0.7,
             "#b8e186"
            ],
            [
             0.8,
             "#7fbc41"
            ],
            [
             0.9,
             "#4d9221"
            ],
            [
             1,
             "#276419"
            ]
           ],
           "sequential": [
            [
             0,
             "#0d0887"
            ],
            [
             0.1111111111111111,
             "#46039f"
            ],
            [
             0.2222222222222222,
             "#7201a8"
            ],
            [
             0.3333333333333333,
             "#9c179e"
            ],
            [
             0.4444444444444444,
             "#bd3786"
            ],
            [
             0.5555555555555556,
             "#d8576b"
            ],
            [
             0.6666666666666666,
             "#ed7953"
            ],
            [
             0.7777777777777778,
             "#fb9f3a"
            ],
            [
             0.8888888888888888,
             "#fdca26"
            ],
            [
             1,
             "#f0f921"
            ]
           ],
           "sequentialminus": [
            [
             0,
             "#0d0887"
            ],
            [
             0.1111111111111111,
             "#46039f"
            ],
            [
             0.2222222222222222,
             "#7201a8"
            ],
            [
             0.3333333333333333,
             "#9c179e"
            ],
            [
             0.4444444444444444,
             "#bd3786"
            ],
            [
             0.5555555555555556,
             "#d8576b"
            ],
            [
             0.6666666666666666,
             "#ed7953"
            ],
            [
             0.7777777777777778,
             "#fb9f3a"
            ],
            [
             0.8888888888888888,
             "#fdca26"
            ],
            [
             1,
             "#f0f921"
            ]
           ]
          },
          "colorway": [
           "#636efa",
           "#EF553B",
           "#00cc96",
           "#ab63fa",
           "#FFA15A",
           "#19d3f3",
           "#FF6692",
           "#B6E880",
           "#FF97FF",
           "#FECB52"
          ],
          "font": {
           "color": "#2a3f5f"
          },
          "geo": {
           "bgcolor": "white",
           "lakecolor": "white",
           "landcolor": "#E5ECF6",
           "showlakes": true,
           "showland": true,
           "subunitcolor": "white"
          },
          "hoverlabel": {
           "align": "left"
          },
          "hovermode": "closest",
          "mapbox": {
           "style": "light"
          },
          "paper_bgcolor": "white",
          "plot_bgcolor": "#E5ECF6",
          "polar": {
           "angularaxis": {
            "gridcolor": "white",
            "linecolor": "white",
            "ticks": ""
           },
           "bgcolor": "#E5ECF6",
           "radialaxis": {
            "gridcolor": "white",
            "linecolor": "white",
            "ticks": ""
           }
          },
          "scene": {
           "xaxis": {
            "backgroundcolor": "#E5ECF6",
            "gridcolor": "white",
            "gridwidth": 2,
            "linecolor": "white",
            "showbackground": true,
            "ticks": "",
            "zerolinecolor": "white"
           },
           "yaxis": {
            "backgroundcolor": "#E5ECF6",
            "gridcolor": "white",
            "gridwidth": 2,
            "linecolor": "white",
            "showbackground": true,
            "ticks": "",
            "zerolinecolor": "white"
           },
           "zaxis": {
            "backgroundcolor": "#E5ECF6",
            "gridcolor": "white",
            "gridwidth": 2,
            "linecolor": "white",
            "showbackground": true,
            "ticks": "",
            "zerolinecolor": "white"
           }
          },
          "shapedefaults": {
           "line": {
            "color": "#2a3f5f"
           }
          },
          "ternary": {
           "aaxis": {
            "gridcolor": "white",
            "linecolor": "white",
            "ticks": ""
           },
           "baxis": {
            "gridcolor": "white",
            "linecolor": "white",
            "ticks": ""
           },
           "bgcolor": "#E5ECF6",
           "caxis": {
            "gridcolor": "white",
            "linecolor": "white",
            "ticks": ""
           }
          },
          "title": {
           "x": 0.05
          },
          "xaxis": {
           "automargin": true,
           "gridcolor": "white",
           "linecolor": "white",
           "ticks": "",
           "title": {
            "standoff": 15
           },
           "zerolinecolor": "white",
           "zerolinewidth": 2
          },
          "yaxis": {
           "automargin": true,
           "gridcolor": "white",
           "linecolor": "white",
           "ticks": "",
           "title": {
            "standoff": 15
           },
           "zerolinecolor": "white",
           "zerolinewidth": 2
          }
         }
        },
        "title": {
         "text": "Writing Results"
        },
        "xaxis": {
         "anchor": "y",
         "autorange": true,
         "domain": [
          0,
          1
         ],
         "range": [
          4.999999999999999,
          105
         ],
         "title": {
          "text": "writing"
         },
         "type": "linear"
        },
        "xaxis2": {
         "anchor": "y2",
         "autorange": true,
         "domain": [
          0,
          1
         ],
         "matches": "x",
         "range": [
          4.999999999999999,
          105
         ],
         "showgrid": true,
         "showticklabels": false,
         "type": "linear"
        },
        "yaxis": {
         "anchor": "x",
         "autorange": true,
         "domain": [
          0,
          0.7326
         ],
         "range": [
          0,
          60
         ],
         "title": {
          "text": "count"
         }
        },
        "yaxis2": {
         "anchor": "x2",
         "autorange": true,
         "domain": [
          0.7426,
          1
         ],
         "matches": "y2",
         "range": [
          -0.5,
          1.5
         ],
         "showgrid": false,
         "showline": false,
         "showticklabels": false,
         "ticks": "",
         "type": "category"
        }
       }
      },
      "image/png": "[encoded data removed]",
      "text/html": [
       "<div>                            <div id=\"dbb9cd1e-8821-4a3b-8299-7eb17367dc76\" class=\"plotly-graph-div\" style=\"height:525px; width:100%;\"></div>            <script type=\"text/javascript\">                require([\"plotly\"], function(Plotly) {                    window.PLOTLYENV=window.PLOTLYENV || {};                                    if (document.getElementById(\"dbb9cd1e-8821-4a3b-8299-7eb17367dc76\")) {                    Plotly.newPlot(                        \"dbb9cd1e-8821-4a3b-8299-7eb17367dc76\",                        [{\"alignmentgroup\":\"True\",\"bingroup\":\"x\",\"hovertemplate\":\"test_prep_course=none<br>writing=%{x}<br>count=%{y}<extra></extra>\",\"legendgroup\":\"none\",\"marker\":{\"color\":\"#636efa\",\"pattern\":{\"shape\":\"\"}},\"name\":\"none\",\"offsetgroup\":\"none\",\"orientation\":\"v\",\"showlegend\":true,\"type\":\"histogram\",\"x\":[74,93,44,75,78,39,50,52,43,73,58,78,86,28,61,63,53,73,72,55,75,65,75,74,61,65,38,82,83,59,57,54,68,65,54,57,76,48,42,75,43,49,10,34,55,71,59,61,37,74,56,57,48,56,41,38,22,68,50,45,63,34,82,88,74,67,82,74,36,71,92,62,62,67,89,72,100,70,72,49,47,54,74,82,79,61,65,56,73,86,67,74,51,82,48,56,67,71,64,47,78,33,75,66,68,47,61,60,64,52,49,91,78,81,70,66,47,70,65,45,87,69,66,52,51,55,76,77,69,68,42,62,76,66,27,60,39,70,73,62,75,54,71,54,64,66,42,83,78,77,67,51,80,83,55,43,69,71,74,62,53,83,72,52,70,68,78,51,90,68,41,81,77,70,61,42,58,71,73,80,57,42,46,84,46,82,76,68,70,75,60,75,52,64,69,44,67,52,80,57,65,78,69,63,79,80,53,43,94,62,19,51,61,35,81,95,66,43,27,52,63,67,75,57,66,76,69,52,57,70,70,61,61,89,59,58,32,58,61,58,85,71,72,73,41,82,77,62,83,71,45,43,75,70,67,64,75,77,67,41,63,95,57,54,43,55,62,68,77,60,69,67,62,34,62,86,65,53,54,59,70,55,50,66,64,73,51,80,69,76,73,60,42,72,97,74,49,62,47,89,48,100,55,45,76,91,91,38,76,74,61,72,70,67,56,61,46,54,71,56,74,76,70,90,90,68,52,68,72,82,54,54,80,66,54,77,87,73,43,52,84,52,84,57,50,59,43,47,70,53,62,79,89,66,64,69,65,50,64,40,33,66,70,62,74,46,45,47,67,92,56,71,89,68,96,80,78,77,76,73,62,65,65,54,50,64,73,15,48,73,81,63,30,80,51,62,82,54,62,65,66,74,93,72,38,83,84,54,56,62,46,46,70,65,85,80,64,74,73,51,79,60,65,68,55,79,67,64,61,58,85,73,63,69,67,63,87,61,68,50,76,78,60,74,60,54,73,44,83,53,78,73,56,86,70,59,72,67,65,36,52,79,99,84,74,70,42,41,84,37,43,44,57,59,84,73,55,72,56,82,47,74,71,68,59,65,53,92,52,64,54,63,59,72,75,57,49,74,79,60,55,70,43,57,84,77,32,61,61,60,70,69,51,70,81,54,57,95,87,78,74,75,40,69,51,36,49,83,64,68,88,93,82,52,58,76,53,57,58,45,57,73,46,51,84,50,68,69,67,63,93,61,55,96,65,81,72,53,87,91,52,41,51,47,82,61,66,84,54,80,74,71,44,54,59,74,48,85,73,69,38,27,89,74,84,77,51,72,48,82,55,66,52,67,46,66,65,69,52,51,62,58,53,57,96,64,61,58,80,60,71,72,69,62,81,100,59,71,64,53,100,58,72,60,67,80,100,61,67,58,94,23,78,82,54,51,45,76,74,62,55,86],\"xaxis\":\"x\",\"yaxis\":\"y\"},{\"alignmentgroup\":\"True\",\"hovertemplate\":\"test_prep_course=none<br>writing=%{x}<extra></extra>\",\"legendgroup\":\"none\",\"marker\":{\"color\":\"#636efa\"},\"name\":\"none\",\"notched\":true,\"offsetgroup\":\"none\",\"showlegend\":false,\"type\":\"box\",\"x\":[74,93,44,75,78,39,50,52,43,73,58,78,86,28,61,63,53,73,72,55,75,65,75,74,61,65,38,82,83,59,57,54,68,65,54,57,76,48,42,75,43,49,10,34,55,71,59,61,37,74,56,57,48,56,41,38,22,68,50,45,63,34,82,88,74,67,82,74,36,71,92,62,62,67,89,72,100,70,72,49,47,54,74,82,79,61,65,56,73,86,67,74,51,82,48,56,67,71,64,47,78,33,75,66,68,47,61,60,64,52,49,91,78,81,70,66,47,70,65,45,87,69,66,52,51,55,76,77,69,68,42,62,76,66,27,60,39,70,73,62,75,54,71,54,64,66,42,83,78,77,67,51,80,83,55,43,69,71,74,62,53,83,72,52,70,68,78,51,90,68,41,81,77,70,61,42,58,71,73,80,57,42,46,84,46,82,76,68,70,75,60,75,52,64,69,44,67,52,80,57,65,78,69,63,79,80,53,43,94,62,19,51,61,35,81,95,66,43,27,52,63,67,75,57,66,76,69,52,57,70,70,61,61,89,59,58,32,58,61,58,85,71,72,73,41,82,77,62,83,71,45,43,75,70,67,64,75,77,67,41,63,95,57,54,43,55,62,68,77,60,69,67,62,34,62,86,65,53,54,59,70,55,50,66,64,73,51,80,69,76,73,60,42,72,97,74,49,62,47,89,48,100,55,45,76,91,91,38,76,74,61,72,70,67,56,61,46,54,71,56,74,76,70,90,90,68,52,68,72,82,54,54,80,66,54,77,87,73,43,52,84,52,84,57,50,59,43,47,70,53,62,79,89,66,64,69,65,50,64,40,33,66,70,62,74,46,45,47,67,92,56,71,89,68,96,80,78,77,76,73,62,65,65,54,50,64,73,15,48,73,81,63,30,80,51,62,82,54,62,65,66,74,93,72,38,83,84,54,56,62,46,46,70,65,85,80,64,74,73,51,79,60,65,68,55,79,67,64,61,58,85,73,63,69,67,63,87,61,68,50,76,78,60,74,60,54,73,44,83,53,78,73,56,86,70,59,72,67,65,36,52,79,99,84,74,70,42,41,84,37,43,44,57,59,84,73,55,72,56,82,47,74,71,68,59,65,53,92,52,64,54,63,59,72,75,57,49,74,79,60,55,70,43,57,84,77,32,61,61,60,70,69,51,70,81,54,57,95,87,78,74,75,40,69,51,36,49,83,64,68,88,93,82,52,58,76,53,57,58,45,57,73,46,51,84,50,68,69,67,63,93,61,55,96,65,81,72,53,87,91,52,41,51,47,82,61,66,84,54,80,74,71,44,54,59,74,48,85,73,69,38,27,89,74,84,77,51,72,48,82,55,66,52,67,46,66,65,69,52,51,62,58,53,57,96,64,61,58,80,60,71,72,69,62,81,100,59,71,64,53,100,58,72,60,67,80,100,61,67,58,94,23,78,82,54,51,45,76,74,62,55,86],\"xaxis\":\"x2\",\"yaxis\":\"y2\"},{\"alignmentgroup\":\"True\",\"bingroup\":\"x\",\"hovertemplate\":\"test_prep_course=completed<br>writing=%{x}<br>count=%{y}<extra></extra>\",\"legendgroup\":\"completed\",\"marker\":{\"color\":\"#EF553B\",\"pattern\":{\"shape\":\"\"}},\"name\":\"completed\",\"offsetgroup\":\"completed\",\"orientation\":\"v\",\"showlegend\":true,\"type\":\"histogram\",\"x\":[88,92,67,70,46,70,80,79,88,66,62,76,82,68,87,86,58,72,73,63,81,72,54,50,82,62,70,74,47,90,64,98,100,89,92,93,74,40,70,84,75,41,69,54,81,93,69,66,88,78,87,74,85,100,51,78,78,70,74,54,87,58,77,62,100,75,49,65,68,79,62,85,65,86,78,76,79,56,81,75,88,56,74,73,94,84,74,66,68,49,70,77,81,77,78,95,76,93,75,78,82,88,77,57,80,43,68,50,81,81,83,81,68,69,75,91,84,77,53,69,60,74,67,95,80,69,78,60,53,70,96,100,95,59,56,77,67,100,63,56,85,74,78,67,79,68,54,93,64,67,80,53,82,79,77,80,85,68,62,65,85,90,84,91,83,66,68,57,82,66,76,92,92,62,94,85,73,78,79,49,60,73,58,94,68,83,58,71,86,68,80,80,97,64,88,79,79,92,80,100,78,70,64,53,52,58,80,99,72,90,63,91,68,52,86,99,63,55,81,81,88,90,80,81,81,53,76,98,74,60,71,77,84,78,66,76,76,44,68,100,68,81,90,79,82,87,64,58,90,85,74,87,72,99,80,59,88,71,77,57,80,94,73,72,86,68,75,85,72,65,77,86,77,60,72,82,82,82,62,79,44,77,73,68,73,67,76,87,76,92,51,70,81,89,89,74,79,53,36,76,64,85,46,38,80,88,72,76,78,66,70,80,95,91,75,79,63,82,41,100,91,70,66,66,100,80,91,60,71,44,70,73,74,90,85,69,72,61,52,73,83,54,75,64,69,60,77,60,48,86,91,76,83,75,78,95,65,77],\"xaxis\":\"x\",\"yaxis\":\"y\"},{\"alignmentgroup\":\"True\",\"hovertemplate\":\"test_prep_course=completed<br>writing=%{x}<extra></extra>\",\"legendgroup\":\"completed\",\"marker\":{\"color\":\"#EF553B\"},\"name\":\"completed\",\"notched\":true,\"offsetgroup\":\"completed\",\"showlegend\":false,\"type\":\"box\",\"x\":[88,92,67,70,46,70,80,79,88,66,62,76,82,68,87,86,58,72,73,63,81,72,54,50,82,62,70,74,47,90,64,98,100,89,92,93,74,40,70,84,75,41,69,54,81,93,69,66,88,78,87,74,85,100,51,78,78,70,74,54,87,58,77,62,100,75,49,65,68,79,62,85,65,86,78,76,79,56,81,75,88,56,74,73,94,84,74,66,68,49,70,77,81,77,78,95,76,93,75,78,82,88,77,57,80,43,68,50,81,81,83,81,68,69,75,91,84,77,53,69,60,74,67,95,80,69,78,60,53,70,96,100,95,59,56,77,67,100,63,56,85,74,78,67,79,68,54,93,64,67,80,53,82,79,77,80,85,68,62,65,85,90,84,91,83,66,68,57,82,66,76,92,92,62,94,85,73,78,79,49,60,73,58,94,68,83,58,71,86,68,80,80,97,64,88,79,79,92,80,100,78,70,64,53,52,58,80,99,72,90,63,91,68,52,86,99,63,55,81,81,88,90,80,81,81,53,76,98,74,60,71,77,84,78,66,76,76,44,68,100,68,81,90,79,82,87,64,58,90,85,74,87,72,99,80,59,88,71,77,57,80,94,73,72,86,68,75,85,72,65,77,86,77,60,72,82,82,82,62,79,44,77,73,68,73,67,76,87,76,92,51,70,81,89,89,74,79,53,36,76,64,85,46,38,80,88,72,76,78,66,70,80,95,91,75,79,63,82,41,100,91,70,66,66,100,80,91,60,71,44,70,73,74,90,85,69,72,61,52,73,83,54,75,64,69,60,77,60,48,86,91,76,83,75,78,95,65,77],\"xaxis\":\"x2\",\"yaxis\":\"y2\"}],                        {\"bargap\":0.1,\"barmode\":\"relative\",\"legend\":{\"title\":{\"text\":\"test_prep_course\"},\"tracegroupgap\":0},\"template\":{\"data\":{\"bar\":[{\"error_x\":{\"color\":\"#2a3f5f\"},\"error_y\":{\"color\":\"#2a3f5f\"},\"marker\":{\"line\":{\"color\":\"#E5ECF6\",\"width\":0.5},\"pattern\":{\"fillmode\":\"overlay\",\"size\":10,\"solidity\":0.2}},\"type\":\"bar\"}],\"barpolar\":[{\"marker\":{\"line\":{\"color\":\"#E5ECF6\",\"width\":0.5},\"pattern\":{\"fillmode\":\"overlay\",\"size\":10,\"solidity\":0.2}},\"type\":\"barpolar\"}],\"carpet\":[{\"aaxis\":{\"endlinecolor\":\"#2a3f5f\",\"gridcolor\":\"white\",\"linecolor\":\"white\",\"minorgridcolor\":\"white\",\"startlinecolor\":\"#2a3f5f\"},\"baxis\":{\"endlinecolor\":\"#2a3f5f\",\"gridcolor\":\"white\",\"linecolor\":\"white\",\"minorgridcolor\":\"white\",\"startlinecolor\":\"#2a3f5f\"},\"type\":\"carpet\"}],\"choropleth\":[{\"colorbar\":{\"outlinewidth\":0,\"ticks\":\"\"},\"type\":\"choropleth\"}],\"contour\":[{\"colorbar\":{\"outlinewidth\":0,\"ticks\":\"\"},\"colorscale\":[[0.0,\"#0d0887\"],[0.1111111111111111,\"#46039f\"],[0.2222222222222222,\"#7201a8\"],[0.3333333333333333,\"#9c179e\"],[0.4444444444444444,\"#bd3786\"],[0.5555555555555556,\"#d8576b\"],[0.6666666666666666,\"#ed7953\"],[0.7777777777777778,\"#fb9f3a\"],[0.8888888888888888,\"#fdca26\"],[1.0,\"#f0f921\"]],\"type\":\"contour\"}],\"contourcarpet\":[{\"colorbar\":{\"outlinewidth\":0,\"ticks\":\"\"},\"type\":\"contourcarpet\"}],\"heatmap\":[{\"colorbar\":{\"outlinewidth\":0,\"ticks\":\"\"},\"colorscale\":[[0.0,\"#0d0887\"],[0.1111111111111111,\"#46039f\"],[0.2222222222222222,\"#7201a8\"],[0.3333333333333333,\"#9c179e\"],[0.4444444444444444,\"#bd3786\"],[0.5555555555555556,\"#d8576b\"],[0.6666666666666666,\"#ed7953\"],[0.7777777777777778,\"#fb9f3a\"],[0.8888888888888888,\"#fdca26\"],[1.0,\"#f0f921\"]],\"type\":\"heatmap\"}],\"heatmapgl\":[{\"colorbar\":{\"outlinewidth\":0,\"ticks\":\"\"},\"colorscale\":[[0.0,\"#0d0887\"],[0.1111111111111111,\"#46039f\"],[0.2222222222222222,\"#7201a8\"],[0.3333333333333333,\"#9c179e\"],[0.4444444444444444,\"#bd3786\"],[0.5555555555555556,\"#d8576b\"],[0.6666666666666666,\"#ed7953\"],[0.7777777777777778,\"#fb9f3a\"],[0.8888888888888888,\"#fdca26\"],[1.0,\"#f0f921\"]],\"type\":\"heatmapgl\"}],\"histogram\":[{\"marker\":{\"pattern\":{\"fillmode\":\"overlay\",\"size\":10,\"solidity\":0.2}},\"type\":\"histogram\"}],\"histogram2d\":[{\"colorbar\":{\"outlinewidth\":0,\"ticks\":\"\"},\"colorscale\":[[0.0,\"#0d0887\"],[0.1111111111111111,\"#46039f\"],[0.2222222222222222,\"#7201a8\"],[0.3333333333333333,\"#9c179e\"],[0.4444444444444444,\"#bd3786\"],[0.5555555555555556,\"#d8576b\"],[0.6666666666666666,\"#ed7953\"],[0.7777777777777778,\"#fb9f3a\"],[0.8888888888888888,\"#fdca26\"],[1.0,\"#f0f921\"]],\"type\":\"histogram2d\"}],\"histogram2dcontour\":[{\"colorbar\":{\"outlinewidth\":0,\"ticks\":\"\"},\"colorscale\":[[0.0,\"#0d0887\"],[0.1111111111111111,\"#46039f\"],[0.2222222222222222,\"#7201a8\"],[0.3333333333333333,\"#9c179e\"],[0.4444444444444444,\"#bd3786\"],[0.5555555555555556,\"#d8576b\"],[0.6666666666666666,\"#ed7953\"],[0.7777777777777778,\"#fb9f3a\"],[0.8888888888888888,\"#fdca26\"],[1.0,\"#f0f921\"]],\"type\":\"histogram2dcontour\"}],\"mesh3d\":[{\"colorbar\":{\"outlinewidth\":0,\"ticks\":\"\"},\"type\":\"mesh3d\"}],\"parcoords\":[{\"line\":{\"colorbar\":{\"outlinewidth\":0,\"ticks\":\"\"}},\"type\":\"parcoords\"}],\"pie\":[{\"automargin\":true,\"type\":\"pie\"}],\"scatter\":[{\"marker\":{\"colorbar\":{\"outlinewidth\":0,\"ticks\":\"\"}},\"type\":\"scatter\"}],\"scatter3d\":[{\"line\":{\"colorbar\":{\"outlinewidth\":0,\"ticks\":\"\"}},\"marker\":{\"colorbar\":{\"outlinewidth\":0,\"ticks\":\"\"}},\"type\":\"scatter3d\"}],\"scattercarpet\":[{\"marker\":{\"colorbar\":{\"outlinewidth\":0,\"ticks\":\"\"}},\"type\":\"scattercarpet\"}],\"scattergeo\":[{\"marker\":{\"colorbar\":{\"outlinewidth\":0,\"ticks\":\"\"}},\"type\":\"scattergeo\"}],\"scattergl\":[{\"marker\":{\"colorbar\":{\"outlinewidth\":0,\"ticks\":\"\"}},\"type\":\"scattergl\"}],\"scattermapbox\":[{\"marker\":{\"colorbar\":{\"outlinewidth\":0,\"ticks\":\"\"}},\"type\":\"scattermapbox\"}],\"scatterpolar\":[{\"marker\":{\"colorbar\":{\"outlinewidth\":0,\"ticks\":\"\"}},\"type\":\"scatterpolar\"}],\"scatterpolargl\":[{\"marker\":{\"colorbar\":{\"outlinewidth\":0,\"ticks\":\"\"}},\"type\":\"scatterpolargl\"}],\"scatterternary\":[{\"marker\":{\"colorbar\":{\"outlinewidth\":0,\"ticks\":\"\"}},\"type\":\"scatterternary\"}],\"surface\":[{\"colorbar\":{\"outlinewidth\":0,\"ticks\":\"\"},\"colorscale\":[[0.0,\"#0d0887\"],[0.1111111111111111,\"#46039f\"],[0.2222222222222222,\"#7201a8\"],[0.3333333333333333,\"#9c179e\"],[0.4444444444444444,\"#bd3786\"],[0.5555555555555556,\"#d8576b\"],[0.6666666666666666,\"#ed7953\"],[0.7777777777777778,\"#fb9f3a\"],[0.8888888888888888,\"#fdca26\"],[1.0,\"#f0f921\"]],\"type\":\"surface\"}],\"table\":[{\"cells\":{\"fill\":{\"color\":\"#EBF0F8\"},\"line\":{\"color\":\"white\"}},\"header\":{\"fill\":{\"color\":\"#C8D4E3\"},\"line\":{\"color\":\"white\"}},\"type\":\"table\"}]},\"layout\":{\"annotationdefaults\":{\"arrowcolor\":\"#2a3f5f\",\"arrowhead\":0,\"arrowwidth\":1},\"autotypenumbers\":\"strict\",\"coloraxis\":{\"colorbar\":{\"outlinewidth\":0,\"ticks\":\"\"}},\"colorscale\":{\"diverging\":[[0,\"#8e0152\"],[0.1,\"#c51b7d\"],[0.2,\"#de77ae\"],[0.3,\"#f1b6da\"],[0.4,\"#fde0ef\"],[0.5,\"#f7f7f7\"],[0.6,\"#e6f5d0\"],[0.7,\"#b8e186\"],[0.8,\"#7fbc41\"],[0.9,\"#4d9221\"],[1,\"#276419\"]],\"sequential\":[[0.0,\"#0d0887\"],[0.1111111111111111,\"#46039f\"],[0.2222222222222222,\"#7201a8\"],[0.3333333333333333,\"#9c179e\"],[0.4444444444444444,\"#bd3786\"],[0.5555555555555556,\"#d8576b\"],[0.6666666666666666,\"#ed7953\"],[0.7777777777777778,\"#fb9f3a\"],[0.8888888888888888,\"#fdca26\"],[1.0,\"#f0f921\"]],\"sequentialminus\":[[0.0,\"#0d0887\"],[0.1111111111111111,\"#46039f\"],[0.2222222222222222,\"#7201a8\"],[0.3333333333333333,\"#9c179e\"],[0.4444444444444444,\"#bd3786\"],[0.5555555555555556,\"#d8576b\"],[0.6666666666666666,\"#ed7953\"],[0.7777777777777778,\"#fb9f3a\"],[0.8888888888888888,\"#fdca26\"],[1.0,\"#f0f921\"]]},\"colorway\":[\"#636efa\",\"#EF553B\",\"#00cc96\",\"#ab63fa\",\"#FFA15A\",\"#19d3f3\",\"#FF6692\",\"#B6E880\",\"#FF97FF\",\"#FECB52\"],\"font\":{\"color\":\"#2a3f5f\"},\"geo\":{\"bgcolor\":\"white\",\"lakecolor\":\"white\",\"landcolor\":\"#E5ECF6\",\"showlakes\":true,\"showland\":true,\"subunitcolor\":\"white\"},\"hoverlabel\":{\"align\":\"left\"},\"hovermode\":\"closest\",\"mapbox\":{\"style\":\"light\"},\"paper_bgcolor\":\"white\",\"plot_bgcolor\":\"#E5ECF6\",\"polar\":{\"angularaxis\":{\"gridcolor\":\"white\",\"linecolor\":\"white\",\"ticks\":\"\"},\"bgcolor\":\"#E5ECF6\",\"radialaxis\":{\"gridcolor\":\"white\",\"linecolor\":\"white\",\"ticks\":\"\"}},\"scene\":{\"xaxis\":{\"backgroundcolor\":\"#E5ECF6\",\"gridcolor\":\"white\",\"gridwidth\":2,\"linecolor\":\"white\",\"showbackground\":true,\"ticks\":\"\",\"zerolinecolor\":\"white\"},\"yaxis\":{\"backgroundcolor\":\"#E5ECF6\",\"gridcolor\":\"white\",\"gridwidth\":2,\"linecolor\":\"white\",\"showbackground\":true,\"ticks\":\"\",\"zerolinecolor\":\"white\"},\"zaxis\":{\"backgroundcolor\":\"#E5ECF6\",\"gridcolor\":\"white\",\"gridwidth\":2,\"linecolor\":\"white\",\"showbackground\":true,\"ticks\":\"\",\"zerolinecolor\":\"white\"}},\"shapedefaults\":{\"line\":{\"color\":\"#2a3f5f\"}},\"ternary\":{\"aaxis\":{\"gridcolor\":\"white\",\"linecolor\":\"white\",\"ticks\":\"\"},\"baxis\":{\"gridcolor\":\"white\",\"linecolor\":\"white\",\"ticks\":\"\"},\"bgcolor\":\"#E5ECF6\",\"caxis\":{\"gridcolor\":\"white\",\"linecolor\":\"white\",\"ticks\":\"\"}},\"title\":{\"x\":0.05},\"xaxis\":{\"automargin\":true,\"gridcolor\":\"white\",\"linecolor\":\"white\",\"ticks\":\"\",\"title\":{\"standoff\":15},\"zerolinecolor\":\"white\",\"zerolinewidth\":2},\"yaxis\":{\"automargin\":true,\"gridcolor\":\"white\",\"linecolor\":\"white\",\"ticks\":\"\",\"title\":{\"standoff\":15},\"zerolinecolor\":\"white\",\"zerolinewidth\":2}}},\"title\":{\"text\":\"Writing Results\"},\"xaxis\":{\"anchor\":\"y\",\"domain\":[0.0,1.0],\"title\":{\"text\":\"writing\"}},\"xaxis2\":{\"anchor\":\"y2\",\"domain\":[0.0,1.0],\"matches\":\"x\",\"showgrid\":true,\"showticklabels\":false},\"yaxis\":{\"anchor\":\"x\",\"domain\":[0.0,0.7326],\"title\":{\"text\":\"count\"}},\"yaxis2\":{\"anchor\":\"x2\",\"domain\":[0.7426,1.0],\"matches\":\"y2\",\"showgrid\":false,\"showline\":false,\"showticklabels\":false,\"ticks\":\"\"}},                        {\"responsive\": true}                    ).then(function(){\n",
       "                            \n",
       "var gd = document.getElementById('dbb9cd1e-8821-4a3b-8299-7eb17367dc76');\n",
       "var x = new MutationObserver(function (mutations, observer) {{\n",
       "        var display = window.getComputedStyle(gd).display;\n",
       "        if (!display || display === 'none') {{\n",
       "            console.log([gd, 'removed!']);\n",
       "            Plotly.purge(gd);\n",
       "            observer.disconnect();\n",
       "        }}\n",
       "}});\n",
       "\n",
       "// Listen for the removal of the full notebook cells\n",
       "var notebookContainer = gd.closest('#notebook-container');\n",
       "if (notebookContainer) {{\n",
       "    x.observe(notebookContainer, {childList: true});\n",
       "}}\n",
       "\n",
       "// Listen for the clearing of the current output cell\n",
       "var outputEl = gd.closest('.output');\n",
       "if (outputEl) {{\n",
       "    x.observe(outputEl, {childList: true});\n",
       "}}\n",
       "\n",
       "                        })                };                });            </script>        </div>"
      ]
     },
     "metadata": {},
     "output_type": "display_data"
    }
   ],
   "source": [
    "fig = px.histogram(exam_df,x = 'writing',marginal = 'box',color = 'test_prep_course',title = 'Writing Results')\n",
    "fig.update_layout(bargap = 0.1)\n",
    "fig.show()"
   ]
  },
  {
   "cell_type": "code",
   "execution_count": 28,
   "id": "69545c0b-db33-4af7-b2a6-9b65b650c973",
   "metadata": {},
   "outputs": [],
   "source": [
    "degree = exam_df[['parent_education_level','math','reading','writing']]"
   ]
  },
  {
   "cell_type": "code",
   "execution_count": 29,
   "id": "ec7709c0-be46-4e5b-912a-9efc1f949ab2",
   "metadata": {},
   "outputs": [
    {
     "data": {
      "application/com.datacamp.data-table.v1+json": {
       "is_truncated": false,
       "table": {
        "data": [
         {
          "index": 0,
          "math": 72,
          "parent_education_level": "bachelor's degree",
          "reading": 72,
          "writing": 74
         },
         {
          "index": 1,
          "math": 69,
          "parent_education_level": "some college",
          "reading": 90,
          "writing": 88
         },
         {
          "index": 2,
          "math": 90,
          "parent_education_level": "master's degree",
          "reading": 95,
          "writing": 93
         },
         {
          "index": 3,
          "math": 47,
          "parent_education_level": "associate's degree",
          "reading": 57,
          "writing": 44
         },
         {
          "index": 4,
          "math": 76,
          "parent_education_level": "some college",
          "reading": 78,
          "writing": 75
         }
        ],
        "schema": {
         "fields": [
          {
           "name": "index",
           "type": "integer"
          },
          {
           "name": "parent_education_level",
           "type": "string"
          },
          {
           "name": "math",
           "type": "integer"
          },
          {
           "name": "reading",
           "type": "integer"
          },
          {
           "name": "writing",
           "type": "integer"
          }
         ],
         "pandas_version": "0.20.0",
         "primaryKey": [
          "index"
         ]
        }
       }
      },
      "text/html": [
       "<div>\n",
       "<style scoped>\n",
       "    .dataframe tbody tr th:only-of-type {\n",
       "        vertical-align: middle;\n",
       "    }\n",
       "\n",
       "    .dataframe tbody tr th {\n",
       "        vertical-align: top;\n",
       "    }\n",
       "\n",
       "    .dataframe thead th {\n",
       "        text-align: right;\n",
       "    }\n",
       "</style>\n",
       "<table border=\"1\" class=\"dataframe\">\n",
       "  <thead>\n",
       "    <tr style=\"text-align: right;\">\n",
       "      <th></th>\n",
       "      <th>parent_education_level</th>\n",
       "      <th>math</th>\n",
       "      <th>reading</th>\n",
       "      <th>writing</th>\n",
       "    </tr>\n",
       "  </thead>\n",
       "  <tbody>\n",
       "    <tr>\n",
       "      <th>0</th>\n",
       "      <td>bachelor's degree</td>\n",
       "      <td>72</td>\n",
       "      <td>72</td>\n",
       "      <td>74</td>\n",
       "    </tr>\n",
       "    <tr>\n",
       "      <th>1</th>\n",
       "      <td>some college</td>\n",
       "      <td>69</td>\n",
       "      <td>90</td>\n",
       "      <td>88</td>\n",
       "    </tr>\n",
       "    <tr>\n",
       "      <th>2</th>\n",
       "      <td>master's degree</td>\n",
       "      <td>90</td>\n",
       "      <td>95</td>\n",
       "      <td>93</td>\n",
       "    </tr>\n",
       "    <tr>\n",
       "      <th>3</th>\n",
       "      <td>associate's degree</td>\n",
       "      <td>47</td>\n",
       "      <td>57</td>\n",
       "      <td>44</td>\n",
       "    </tr>\n",
       "    <tr>\n",
       "      <th>4</th>\n",
       "      <td>some college</td>\n",
       "      <td>76</td>\n",
       "      <td>78</td>\n",
       "      <td>75</td>\n",
       "    </tr>\n",
       "  </tbody>\n",
       "</table>\n",
       "</div>"
      ],
      "text/plain": [
       "  parent_education_level  math  reading  writing\n",
       "0      bachelor's degree    72       72       74\n",
       "1           some college    69       90       88\n",
       "2        master's degree    90       95       93\n",
       "3     associate's degree    47       57       44\n",
       "4           some college    76       78       75"
      ]
     },
     "execution_count": 29,
     "metadata": {},
     "output_type": "execute_result"
    }
   ],
   "source": [
    "degree.head()"
   ]
  },
  {
   "cell_type": "code",
   "execution_count": 30,
   "id": "9bd3fdcd-5bc5-4f0c-9219-fb86ccb7d6b2",
   "metadata": {},
   "outputs": [
    {
     "data": {
      "text/plain": [
       "some college          226\n",
       "associate's degree    222\n",
       "high school           196\n",
       "some high school      179\n",
       "bachelor's degree     118\n",
       "master's degree        59\n",
       "Name: parent_education_level, dtype: int64"
      ]
     },
     "execution_count": 30,
     "metadata": {},
     "output_type": "execute_result"
    }
   ],
   "source": [
    "degree.parent_education_level.value_counts()"
   ]
  },
  {
   "cell_type": "code",
   "execution_count": null,
   "id": "b0960c5f-575c-4438-b88b-60860f358f30",
   "metadata": {},
   "outputs": [],
   "source": []
  },
  {
   "cell_type": "code",
   "execution_count": 47,
   "id": "6e3ede8f-871f-4aea-bd45-aacb48f3ed10",
   "metadata": {},
   "outputs": [],
   "source": [
    "level = {\"bachelor's degree\": 'b','some high school':'shs','some college':'c', \"master's degree\":'ms',\"associate's degree\":'as','high school':'hs'}"
   ]
  },
  {
   "cell_type": "code",
   "execution_count": 48,
   "id": "eeb24ee0-949f-403b-b649-b5e4e410d986",
   "metadata": {},
   "outputs": [],
   "source": [
    "degree['education_level'] = degree['parent_education_level'].map(level)"
   ]
  },
  {
   "cell_type": "code",
   "execution_count": 57,
   "id": "d86bcec4-0d44-43ce-bce8-1755cf1bbd10",
   "metadata": {},
   "outputs": [
    {
     "data": {
      "image/png": "[encoded data removed]",
      "text/plain": [
       "<Figure size 1440x864 with 1 Axes>"
      ]
     },
     "metadata": {
      "needs_background": "light"
     },
     "output_type": "display_data"
    },
    {
     "data": {
      "image/png": "[encoded data removed]",
      "text/plain": [
       "<Figure size 360x360 with 1 Axes>"
      ]
     },
     "metadata": {
      "needs_background": "light"
     },
     "output_type": "display_data"
    }
   ],
   "source": [
    "#Visualization for math score in different education levels\n",
    "plt.title('Math Scores in Different Education Levels');\n",
    "sns.catplot(x = 'education_level',y = 'math',data = degree,kind = 'bar');\n",
    "plt.legend(['bachelors:b','college : c','masters: ms','associate : as','high school : hs','some high school : shs']);\n",
    "plt.show();"
   ]
  },
  {
   "cell_type": "code",
   "execution_count": 54,
   "id": "6ff42ccb-f110-4515-a07a-4099e90c5895",
   "metadata": {},
   "outputs": [
    {
     "data": {
      "image/png": "[encoded data removed]",
      "text/plain": [
       "<Figure size 360x360 with 1 Axes>"
      ]
     },
     "metadata": {
      "needs_background": "light"
     },
     "output_type": "display_data"
    }
   ],
   "source": [
    "#Visualization of reading scores in different education levels\n",
    "sns.catplot(x = 'education_level',y = 'reading',data = degree,kind = 'bar')\n",
    "plt.legend(['bachelors : b','college : c','masters: ms','associate : as','high school : hs','some high school : shs']);\n",
    "plt.show();"
   ]
  },
  {
   "cell_type": "code",
   "execution_count": 56,
   "id": "461b48e4-3b16-4885-983f-19c61f75404e",
   "metadata": {},
   "outputs": [
    {
     "data": {
      "image/png": "[encoded data removed]",
      "text/plain": [
       "<Figure size 360x360 with 1 Axes>"
      ]
     },
     "metadata": {
      "needs_background": "light"
     },
     "output_type": "display_data"
    }
   ],
   "source": [
    "#Visualization of writing scores in different education levels\n",
    "sns.catplot(x = 'education_level',y = 'writing',data = degree,kind = 'bar')\n",
    "plt.legend(['bachelors : b','college : c','masters: ms','associate : as','high school : hs','some high school : shs']);\n",
    "plt.show();"
   ]
  },
  {
   "cell_type": "code",
   "execution_count": 55,
   "id": "c124f1a2-c61b-4831-b1f2-b7dca6f26fc1",
   "metadata": {},
   "outputs": [],
   "source": [
    "#Optional Questions"
   ]
  },
  {
   "cell_type": "code",
   "execution_count": 60,
   "id": "f606f36e-f79d-462e-a3db-481e45a0c26f",
   "metadata": {},
   "outputs": [],
   "source": [
    "diff_levels = prep.parent_education_level.value_counts()"
   ]
  },
  {
   "cell_type": "code",
   "execution_count": 61,
   "id": "229e1b26-afe4-4b93-974c-eccea4fbf1f2",
   "metadata": {},
   "outputs": [
    {
     "data": {
      "text/plain": [
       "associate's degree    82\n",
       "some college          77\n",
       "some high school      77\n",
       "high school           56\n",
       "bachelor's degree     46\n",
       "master's degree       20\n",
       "Name: parent_education_level, dtype: int64"
      ]
     },
     "execution_count": 61,
     "metadata": {},
     "output_type": "execute_result"
    }
   ],
   "source": [
    "diff_levels"
   ]
  },
  {
   "cell_type": "code",
   "execution_count": 62,
   "id": "b6ba1919-6516-451e-8bb1-266c04c8f0ad",
   "metadata": {},
   "outputs": [],
   "source": [
    "mylabels = (['Associate','Some College','Some High School','High School','Bachelors','Masters'])"
   ]
  },
  {
   "cell_type": "code",
   "execution_count": 65,
   "id": "b867f835-11bf-444e-8a5b-e725276e0747",
   "metadata": {},
   "outputs": [
    {
     "data": {
      "image/png": "[encoded data removed]",
      "text/plain": [
       "<Figure size 1440x864 with 1 Axes>"
      ]
     },
     "metadata": {},
     "output_type": "display_data"
    }
   ],
   "source": [
    "plt.pie(diff_levels,labels = mylabels)\n",
    "plt.show()"
   ]
  },
  {
   "cell_type": "code",
   "execution_count": 73,
   "id": "72f54688-cc95-4f15-a839-d250eb63a679",
   "metadata": {},
   "outputs": [
    {
     "data": {
      "application/vnd.plotly.v1+json": {
       "config": {
        "plotlyServerURL": "https://plot.ly"
       },
       "data": [
        {
         "alignmentgroup": "True",
         "bingroup": "x",
         "hovertemplate": "parent_education_level=%{x}<br>count=%{y}<extra></extra>",
         "legendgroup": "",
         "marker": {
          "color": "#636efa",
          "pattern": {
           "shape": ""
          }
         },
         "name": "",
         "offsetgroup": "",
         "orientation": "v",
         "showlegend": false,
         "type": "histogram",
         "x": [
          "some college",
          "some college",
          "high school",
          "some college",
          "master's degree",
          "some college",
          "bachelor's degree",
          "associate's degree",
          "associate's degree",
          "some college",
          "associate's degree",
          "associate's degree",
          "high school",
          "associate's degree",
          "some high school",
          "associate's degree",
          "some college",
          "bachelor's degree",
          "some college",
          "some college",
          "bachelor's degree",
          "some high school",
          "some college",
          "associate's degree",
          "associate's degree",
          "some high school",
          "some college",
          "bachelor's degree",
          "high school",
          "some college",
          "associate's degree",
          "associate's degree",
          "bachelor's degree",
          "bachelor's degree",
          "associate's degree",
          "some college",
          "some college",
          "some high school",
          "some college",
          "some college",
          "bachelor's degree",
          "some high school",
          "some college",
          "some college",
          "bachelor's degree",
          "associate's degree",
          "some high school",
          "associate's degree",
          "some college",
          "high school",
          "associate's degree",
          "associate's degree",
          "some college",
          "bachelor's degree",
          "high school",
          "master's degree",
          "high school",
          "some college",
          "high school",
          "bachelor's degree",
          "master's degree",
          "high school",
          "associate's degree",
          "master's degree",
          "some high school",
          "master's degree",
          "some high school",
          "associate's degree",
          "some high school",
          "some college",
          "some college",
          "master's degree",
          "some high school",
          "associate's degree",
          "some high school",
          "high school",
          "some high school",
          "associate's degree",
          "high school",
          "some high school",
          "associate's degree",
          "some high school",
          "high school",
          "associate's degree",
          "some college",
          "bachelor's degree",
          "some high school",
          "high school",
          "high school",
          "some high school",
          "some high school",
          "associate's degree",
          "master's degree",
          "some high school",
          "some college",
          "associate's degree",
          "some college",
          "some high school",
          "high school",
          "some college",
          "associate's degree",
          "associate's degree",
          "some high school",
          "some high school",
          "high school",
          "some high school",
          "associate's degree",
          "high school",
          "some college",
          "associate's degree",
          "associate's degree",
          "some college",
          "bachelor's degree",
          "associate's degree",
          "bachelor's degree",
          "master's degree",
          "high school",
          "associate's degree",
          "associate's degree",
          "some high school",
          "some high school",
          "high school",
          "associate's degree",
          "bachelor's degree",
          "some college",
          "some college",
          "some high school",
          "bachelor's degree",
          "high school",
          "some college",
          "some college",
          "master's degree",
          "associate's degree",
          "some high school",
          "associate's degree",
          "some high school",
          "some high school",
          "high school",
          "associate's degree",
          "high school",
          "associate's degree",
          "master's degree",
          "some college",
          "some high school",
          "bachelor's degree",
          "bachelor's degree",
          "high school",
          "associate's degree",
          "high school",
          "master's degree",
          "some high school",
          "some college",
          "some high school",
          "some college",
          "some high school",
          "high school",
          "some college",
          "high school",
          "bachelor's degree",
          "high school",
          "high school",
          "associate's degree",
          "associate's degree",
          "associate's degree",
          "bachelor's degree",
          "bachelor's degree",
          "high school",
          "some high school",
          "associate's degree",
          "high school",
          "some college",
          "associate's degree",
          "associate's degree",
          "some high school",
          "master's degree",
          "some high school",
          "some college",
          "some high school",
          "high school",
          "high school",
          "some high school",
          "associate's degree",
          "associate's degree",
          "associate's degree",
          "high school",
          "bachelor's degree",
          "associate's degree",
          "bachelor's degree",
          "associate's degree",
          "high school",
          "associate's degree",
          "some high school",
          "some high school",
          "high school",
          "bachelor's degree",
          "associate's degree",
          "some college",
          "bachelor's degree",
          "some college",
          "bachelor's degree",
          "master's degree",
          "some college",
          "high school",
          "associate's degree",
          "some college",
          "some college",
          "associate's degree",
          "bachelor's degree",
          "bachelor's degree",
          "master's degree",
          "some college",
          "bachelor's degree",
          "associate's degree",
          "high school",
          "some college",
          "some college",
          "associate's degree",
          "some high school",
          "bachelor's degree",
          "high school",
          "some high school",
          "associate's degree",
          "high school",
          "bachelor's degree",
          "some college",
          "some high school",
          "high school",
          "some college",
          "associate's degree",
          "some high school",
          "some college",
          "associate's degree",
          "associate's degree",
          "high school",
          "some college",
          "some college",
          "some high school",
          "some high school",
          "some college",
          "master's degree",
          "some college",
          "bachelor's degree",
          "associate's degree",
          "associate's degree",
          "bachelor's degree",
          "bachelor's degree",
          "some high school",
          "associate's degree",
          "some college",
          "some high school",
          "some high school",
          "associate's degree",
          "associate's degree",
          "associate's degree",
          "associate's degree",
          "some high school",
          "some high school",
          "some college",
          "associate's degree",
          "some high school",
          "associate's degree",
          "some college",
          "some college",
          "associate's degree",
          "some college",
          "some high school",
          "master's degree",
          "some high school",
          "bachelor's degree",
          "some college",
          "some college",
          "some high school",
          "high school",
          "high school",
          "some high school",
          "some college",
          "associate's degree",
          "high school",
          "associate's degree",
          "bachelor's degree",
          "some high school",
          "some high school",
          "associate's degree",
          "some high school",
          "some high school",
          "master's degree",
          "some high school",
          "some high school",
          "bachelor's degree",
          "some high school",
          "some college",
          "associate's degree",
          "some high school",
          "bachelor's degree",
          "high school",
          "high school",
          "high school",
          "associate's degree",
          "high school",
          "some college",
          "some high school",
          "master's degree",
          "high school",
          "bachelor's degree",
          "some college",
          "some college",
          "associate's degree",
          "some college",
          "associate's degree",
          "bachelor's degree",
          "bachelor's degree",
          "associate's degree",
          "associate's degree",
          "some college",
          "some high school",
          "some high school",
          "associate's degree",
          "some high school",
          "high school",
          "bachelor's degree",
          "some college",
          "bachelor's degree",
          "bachelor's degree",
          "bachelor's degree",
          "bachelor's degree",
          "associate's degree",
          "some college",
          "some high school",
          "high school",
          "associate's degree",
          "some college",
          "associate's degree",
          "bachelor's degree",
          "associate's degree",
          "some college",
          "some high school",
          "master's degree",
          "some high school",
          "some high school",
          "high school",
          "some college",
          "high school",
          "some high school",
          "some high school",
          "some high school",
          "high school",
          "some college",
          "some college",
          "high school",
          "some high school",
          "some college",
          "some high school",
          "some college",
          "high school",
          "some high school",
          "master's degree",
          "high school",
          "some college"
         ],
         "xaxis": "x",
         "yaxis": "y"
        }
       ],
       "layout": {
        "autosize": true,
        "barmode": "relative",
        "legend": {
         "tracegroupgap": 0
        },
        "template": {
         "data": {
          "bar": [
           {
            "error_x": {
             "color": "#2a3f5f"
            },
            "error_y": {
             "color": "#2a3f5f"
            },
            "marker": {
             "line": {
              "color": "#E5ECF6",
              "width": 0.5
             },
             "pattern": {
              "fillmode": "overlay",
              "size": 10,
              "solidity": 0.2
             }
            },
            "type": "bar"
           }
          ],
          "barpolar": [
           {
            "marker": {
             "line": {
              "color": "#E5ECF6",
              "width": 0.5
             },
             "pattern": {
              "fillmode": "overlay",
              "size": 10,
              "solidity": 0.2
             }
            },
            "type": "barpolar"
           }
          ],
          "carpet": [
           {
            "aaxis": {
             "endlinecolor": "#2a3f5f",
             "gridcolor": "white",
             "linecolor": "white",
             "minorgridcolor": "white",
             "startlinecolor": "#2a3f5f"
            },
            "baxis": {
             "endlinecolor": "#2a3f5f",
             "gridcolor": "white",
             "linecolor": "white",
             "minorgridcolor": "white",
             "startlinecolor": "#2a3f5f"
            },
            "type": "carpet"
           }
          ],
          "choropleth": [
           {
            "colorbar": {
             "outlinewidth": 0,
             "ticks": ""
            },
            "type": "choropleth"
           }
          ],
          "contour": [
           {
            "colorbar": {
             "outlinewidth": 0,
             "ticks": ""
            },
            "colorscale": [
             [
              0,
              "#0d0887"
             ],
             [
              0.1111111111111111,
              "#46039f"
             ],
             [
              0.2222222222222222,
              "#7201a8"
             ],
             [
              0.3333333333333333,
              "#9c179e"
             ],
             [
              0.4444444444444444,
              "#bd3786"
             ],
             [
              0.5555555555555556,
              "#d8576b"
             ],
             [
              0.6666666666666666,
              "#ed7953"
             ],
             [
              0.7777777777777778,
              "#fb9f3a"
             ],
             [
              0.8888888888888888,
              "#fdca26"
             ],
             [
              1,
              "#f0f921"
             ]
            ],
            "type": "contour"
           }
          ],
          "contourcarpet": [
           {
            "colorbar": {
             "outlinewidth": 0,
             "ticks": ""
            },
            "type": "contourcarpet"
           }
          ],
          "heatmap": [
           {
            "colorbar": {
             "outlinewidth": 0,
             "ticks": ""
            },
            "colorscale": [
             [
              0,
              "#0d0887"
             ],
             [
              0.1111111111111111,
              "#46039f"
             ],
             [
              0.2222222222222222,
              "#7201a8"
             ],
             [
              0.3333333333333333,
              "#9c179e"
             ],
             [
              0.4444444444444444,
              "#bd3786"
             ],
             [
              0.5555555555555556,
              "#d8576b"
             ],
             [
              0.6666666666666666,
              "#ed7953"
             ],
             [
              0.7777777777777778,
              "#fb9f3a"
             ],
             [
              0.8888888888888888,
              "#fdca26"
             ],
             [
              1,
              "#f0f921"
             ]
            ],
            "type": "heatmap"
           }
          ],
          "heatmapgl": [
           {
            "colorbar": {
             "outlinewidth": 0,
             "ticks": ""
            },
            "colorscale": [
             [
              0,
              "#0d0887"
             ],
             [
              0.1111111111111111,
              "#46039f"
             ],
             [
              0.2222222222222222,
              "#7201a8"
             ],
             [
              0.3333333333333333,
              "#9c179e"
             ],
             [
              0.4444444444444444,
              "#bd3786"
             ],
             [
              0.5555555555555556,
              "#d8576b"
             ],
             [
              0.6666666666666666,
              "#ed7953"
             ],
             [
              0.7777777777777778,
              "#fb9f3a"
             ],
             [
              0.8888888888888888,
              "#fdca26"
             ],
             [
              1,
              "#f0f921"
             ]
            ],
            "type": "heatmapgl"
           }
          ],
          "histogram": [
           {
            "marker": {
             "pattern": {
              "fillmode": "overlay",
              "size": 10,
              "solidity": 0.2
             }
            },
            "type": "histogram"
           }
          ],
          "histogram2d": [
           {
            "colorbar": {
             "outlinewidth": 0,
             "ticks": ""
            },
            "colorscale": [
             [
              0,
              "#0d0887"
             ],
             [
              0.1111111111111111,
              "#46039f"
             ],
             [
              0.2222222222222222,
              "#7201a8"
             ],
             [
              0.3333333333333333,
              "#9c179e"
             ],
             [
              0.4444444444444444,
              "#bd3786"
             ],
             [
              0.5555555555555556,
              "#d8576b"
             ],
             [
              0.6666666666666666,
              "#ed7953"
             ],
             [
              0.7777777777777778,
              "#fb9f3a"
             ],
             [
              0.8888888888888888,
              "#fdca26"
             ],
             [
              1,
              "#f0f921"
             ]
            ],
            "type": "histogram2d"
           }
          ],
          "histogram2dcontour": [
           {
            "colorbar": {
             "outlinewidth": 0,
             "ticks": ""
            },
            "colorscale": [
             [
              0,
              "#0d0887"
             ],
             [
              0.1111111111111111,
              "#46039f"
             ],
             [
              0.2222222222222222,
              "#7201a8"
             ],
             [
              0.3333333333333333,
              "#9c179e"
             ],
             [
              0.4444444444444444,
              "#bd3786"
             ],
             [
              0.5555555555555556,
              "#d8576b"
             ],
             [
              0.6666666666666666,
              "#ed7953"
             ],
             [
              0.7777777777777778,
              "#fb9f3a"
             ],
             [
              0.8888888888888888,
              "#fdca26"
             ],
             [
              1,
              "#f0f921"
             ]
            ],
            "type": "histogram2dcontour"
           }
          ],
          "mesh3d": [
           {
            "colorbar": {
             "outlinewidth": 0,
             "ticks": ""
            },
            "type": "mesh3d"
           }
          ],
          "parcoords": [
           {
            "line": {
             "colorbar": {
              "outlinewidth": 0,
              "ticks": ""
             }
            },
            "type": "parcoords"
           }
          ],
          "pie": [
           {
            "automargin": true,
            "type": "pie"
           }
          ],
          "scatter": [
           {
            "marker": {
             "colorbar": {
              "outlinewidth": 0,
              "ticks": ""
             }
            },
            "type": "scatter"
           }
          ],
          "scatter3d": [
           {
            "line": {
             "colorbar": {
              "outlinewidth": 0,
              "ticks": ""
             }
            },
            "marker": {
             "colorbar": {
              "outlinewidth": 0,
              "ticks": ""
             }
            },
            "type": "scatter3d"
           }
          ],
          "scattercarpet": [
           {
            "marker": {
             "colorbar": {
              "outlinewidth": 0,
              "ticks": ""
             }
            },
            "type": "scattercarpet"
           }
          ],
          "scattergeo": [
           {
            "marker": {
             "colorbar": {
              "outlinewidth": 0,
              "ticks": ""
             }
            },
            "type": "scattergeo"
           }
          ],
          "scattergl": [
           {
            "marker": {
             "colorbar": {
              "outlinewidth": 0,
              "ticks": ""
             }
            },
            "type": "scattergl"
           }
          ],
          "scattermapbox": [
           {
            "marker": {
             "colorbar": {
              "outlinewidth": 0,
              "ticks": ""
             }
            },
            "type": "scattermapbox"
           }
          ],
          "scatterpolar": [
           {
            "marker": {
             "colorbar": {
              "outlinewidth": 0,
              "ticks": ""
             }
            },
            "type": "scatterpolar"
           }
          ],
          "scatterpolargl": [
           {
            "marker": {
             "colorbar": {
              "outlinewidth": 0,
              "ticks": ""
             }
            },
            "type": "scatterpolargl"
           }
          ],
          "scatterternary": [
           {
            "marker": {
             "colorbar": {
              "outlinewidth": 0,
              "ticks": ""
             }
            },
            "type": "scatterternary"
           }
          ],
          "surface": [
           {
            "colorbar": {
             "outlinewidth": 0,
             "ticks": ""
            },
            "colorscale": [
             [
              0,
              "#0d0887"
             ],
             [
              0.1111111111111111,
              "#46039f"
             ],
             [
              0.2222222222222222,
              "#7201a8"
             ],
             [
              0.3333333333333333,
              "#9c179e"
             ],
             [
              0.4444444444444444,
              "#bd3786"
             ],
             [
              0.5555555555555556,
              "#d8576b"
             ],
             [
              0.6666666666666666,
              "#ed7953"
             ],
             [
              0.7777777777777778,
              "#fb9f3a"
             ],
             [
              0.8888888888888888,
              "#fdca26"
             ],
             [
              1,
              "#f0f921"
             ]
            ],
            "type": "surface"
           }
          ],
          "table": [
           {
            "cells": {
             "fill": {
              "color": "#EBF0F8"
             },
             "line": {
              "color": "white"
             }
            },
            "header": {
             "fill": {
              "color": "#C8D4E3"
             },
             "line": {
              "color": "white"
             }
            },
            "type": "table"
           }
          ]
         },
         "layout": {
          "annotationdefaults": {
           "arrowcolor": "#2a3f5f",
           "arrowhead": 0,
           "arrowwidth": 1
          },
          "autotypenumbers": "strict",
          "coloraxis": {
           "colorbar": {
            "outlinewidth": 0,
            "ticks": ""
           }
          },
          "colorscale": {
           "diverging": [
            [
             0,
             "#8e0152"
            ],
            [
             0.1,
             "#c51b7d"
            ],
            [
             0.2,
             "#de77ae"
            ],
            [
             0.3,
             "#f1b6da"
            ],
            [
             0.4,
             "#fde0ef"
            ],
            [
             0.5,
             "#f7f7f7"
            ],
            [
             0.6,
             "#e6f5d0"
            ],
            [
             0.7,
             "#b8e186"
            ],
            [
             0.8,
             "#7fbc41"
            ],
            [
             0.9,
             "#4d9221"
            ],
            [
             1,
             "#276419"
            ]
           ],
           "sequential": [
            [
             0,
             "#0d0887"
            ],
            [
             0.1111111111111111,
             "#46039f"
            ],
            [
             0.2222222222222222,
             "#7201a8"
            ],
            [
             0.3333333333333333,
             "#9c179e"
            ],
            [
             0.4444444444444444,
             "#bd3786"
            ],
            [
             0.5555555555555556,
             "#d8576b"
            ],
            [
             0.6666666666666666,
             "#ed7953"
            ],
            [
             0.7777777777777778,
             "#fb9f3a"
            ],
            [
             0.8888888888888888,
             "#fdca26"
            ],
            [
             1,
             "#f0f921"
            ]
           ],
           "sequentialminus": [
            [
             0,
             "#0d0887"
            ],
            [
             0.1111111111111111,
             "#46039f"
            ],
            [
             0.2222222222222222,
             "#7201a8"
            ],
            [
             0.3333333333333333,
             "#9c179e"
            ],
            [
             0.4444444444444444,
             "#bd3786"
            ],
            [
             0.5555555555555556,
             "#d8576b"
            ],
            [
             0.6666666666666666,
             "#ed7953"
            ],
            [
             0.7777777777777778,
             "#fb9f3a"
            ],
            [
             0.8888888888888888,
             "#fdca26"
            ],
            [
             1,
             "#f0f921"
            ]
           ]
          },
          "colorway": [
           "#636efa",
           "#EF553B",
           "#00cc96",
           "#ab63fa",
           "#FFA15A",
           "#19d3f3",
           "#FF6692",
           "#B6E880",
           "#FF97FF",
           "#FECB52"
          ],
          "font": {
           "color": "#2a3f5f"
          },
          "geo": {
           "bgcolor": "white",
           "lakecolor": "white",
           "landcolor": "#E5ECF6",
           "showlakes": true,
           "showland": true,
           "subunitcolor": "white"
          },
          "hoverlabel": {
           "align": "left"
          },
          "hovermode": "closest",
          "mapbox": {
           "style": "light"
          },
          "paper_bgcolor": "white",
          "plot_bgcolor": "#E5ECF6",
          "polar": {
           "angularaxis": {
            "gridcolor": "white",
            "linecolor": "white",
            "ticks": ""
           },
           "bgcolor": "#E5ECF6",
           "radialaxis": {
            "gridcolor": "white",
            "linecolor": "white",
            "ticks": ""
           }
          },
          "scene": {
           "xaxis": {
            "backgroundcolor": "#E5ECF6",
            "gridcolor": "white",
            "gridwidth": 2,
            "linecolor": "white",
            "showbackground": true,
            "ticks": "",
            "zerolinecolor": "white"
           },
           "yaxis": {
            "backgroundcolor": "#E5ECF6",
            "gridcolor": "white",
            "gridwidth": 2,
            "linecolor": "white",
            "showbackground": true,
            "ticks": "",
            "zerolinecolor": "white"
           },
           "zaxis": {
            "backgroundcolor": "#E5ECF6",
            "gridcolor": "white",
            "gridwidth": 2,
            "linecolor": "white",
            "showbackground": true,
            "ticks": "",
            "zerolinecolor": "white"
           }
          },
          "shapedefaults": {
           "line": {
            "color": "#2a3f5f"
           }
          },
          "ternary": {
           "aaxis": {
            "gridcolor": "white",
            "linecolor": "white",
            "ticks": ""
           },
           "baxis": {
            "gridcolor": "white",
            "linecolor": "white",
            "ticks": ""
           },
           "bgcolor": "#E5ECF6",
           "caxis": {
            "gridcolor": "white",
            "linecolor": "white",
            "ticks": ""
           }
          },
          "title": {
           "x": 0.05
          },
          "xaxis": {
           "automargin": true,
           "gridcolor": "white",
           "linecolor": "white",
           "ticks": "",
           "title": {
            "standoff": 15
           },
           "zerolinecolor": "white",
           "zerolinewidth": 2
          },
          "yaxis": {
           "automargin": true,
           "gridcolor": "white",
           "linecolor": "white",
           "ticks": "",
           "title": {
            "standoff": 15
           },
           "zerolinecolor": "white",
           "zerolinewidth": 2
          }
         }
        },
        "title": {
         "text": "Diffrenet Education Level for Students in Prep Courses"
        },
        "xaxis": {
         "anchor": "y",
         "autorange": true,
         "domain": [
          0,
          1
         ],
         "range": [
          -0.5,
          5.5
         ],
         "title": {
          "text": "parent_education_level"
         },
         "type": "category"
        },
        "yaxis": {
         "anchor": "x",
         "autorange": true,
         "domain": [
          0,
          1
         ],
         "range": [
          0,
          86.3157894736842
         ],
         "title": {
          "text": "count"
         }
        }
       }
      },
      "image/png": "[encoded data removed]",
      "text/html": [
       "<div>                            <div id=\"661a52ec-6946-41f7-bfcd-626cef25b163\" class=\"plotly-graph-div\" style=\"height:525px; width:100%;\"></div>            <script type=\"text/javascript\">                require([\"plotly\"], function(Plotly) {                    window.PLOTLYENV=window.PLOTLYENV || {};                                    if (document.getElementById(\"661a52ec-6946-41f7-bfcd-626cef25b163\")) {                    Plotly.newPlot(                        \"661a52ec-6946-41f7-bfcd-626cef25b163\",                        [{\"alignmentgroup\":\"True\",\"bingroup\":\"x\",\"hovertemplate\":\"parent_education_level=%{x}<br>count=%{y}<extra></extra>\",\"legendgroup\":\"\",\"marker\":{\"color\":\"#636efa\",\"pattern\":{\"shape\":\"\"}},\"name\":\"\",\"offsetgroup\":\"\",\"orientation\":\"v\",\"showlegend\":false,\"type\":\"histogram\",\"x\":[\"some college\",\"some college\",\"high school\",\"some college\",\"master's degree\",\"some college\",\"bachelor's degree\",\"associate's degree\",\"associate's degree\",\"some college\",\"associate's degree\",\"associate's degree\",\"high school\",\"associate's degree\",\"some high school\",\"associate's degree\",\"some college\",\"bachelor's degree\",\"some college\",\"some college\",\"bachelor's degree\",\"some high school\",\"some college\",\"associate's degree\",\"associate's degree\",\"some high school\",\"some college\",\"bachelor's degree\",\"high school\",\"some college\",\"associate's degree\",\"associate's degree\",\"bachelor's degree\",\"bachelor's degree\",\"associate's degree\",\"some college\",\"some college\",\"some high school\",\"some college\",\"some college\",\"bachelor's degree\",\"some high school\",\"some college\",\"some college\",\"bachelor's degree\",\"associate's degree\",\"some high school\",\"associate's degree\",\"some college\",\"high school\",\"associate's degree\",\"associate's degree\",\"some college\",\"bachelor's degree\",\"high school\",\"master's degree\",\"high school\",\"some college\",\"high school\",\"bachelor's degree\",\"master's degree\",\"high school\",\"associate's degree\",\"master's degree\",\"some high school\",\"master's degree\",\"some high school\",\"associate's degree\",\"some high school\",\"some college\",\"some college\",\"master's degree\",\"some high school\",\"associate's degree\",\"some high school\",\"high school\",\"some high school\",\"associate's degree\",\"high school\",\"some high school\",\"associate's degree\",\"some high school\",\"high school\",\"associate's degree\",\"some college\",\"bachelor's degree\",\"some high school\",\"high school\",\"high school\",\"some high school\",\"some high school\",\"associate's degree\",\"master's degree\",\"some high school\",\"some college\",\"associate's degree\",\"some college\",\"some high school\",\"high school\",\"some college\",\"associate's degree\",\"associate's degree\",\"some high school\",\"some high school\",\"high school\",\"some high school\",\"associate's degree\",\"high school\",\"some college\",\"associate's degree\",\"associate's degree\",\"some college\",\"bachelor's degree\",\"associate's degree\",\"bachelor's degree\",\"master's degree\",\"high school\",\"associate's degree\",\"associate's degree\",\"some high school\",\"some high school\",\"high school\",\"associate's degree\",\"bachelor's degree\",\"some college\",\"some college\",\"some high school\",\"bachelor's degree\",\"high school\",\"some college\",\"some college\",\"master's degree\",\"associate's degree\",\"some high school\",\"associate's degree\",\"some high school\",\"some high school\",\"high school\",\"associate's degree\",\"high school\",\"associate's degree\",\"master's degree\",\"some college\",\"some high school\",\"bachelor's degree\",\"bachelor's degree\",\"high school\",\"associate's degree\",\"high school\",\"master's degree\",\"some high school\",\"some college\",\"some high school\",\"some college\",\"some high school\",\"high school\",\"some college\",\"high school\",\"bachelor's degree\",\"high school\",\"high school\",\"associate's degree\",\"associate's degree\",\"associate's degree\",\"bachelor's degree\",\"bachelor's degree\",\"high school\",\"some high school\",\"associate's degree\",\"high school\",\"some college\",\"associate's degree\",\"associate's degree\",\"some high school\",\"master's degree\",\"some high school\",\"some college\",\"some high school\",\"high school\",\"high school\",\"some high school\",\"associate's degree\",\"associate's degree\",\"associate's degree\",\"high school\",\"bachelor's degree\",\"associate's degree\",\"bachelor's degree\",\"associate's degree\",\"high school\",\"associate's degree\",\"some high school\",\"some high school\",\"high school\",\"bachelor's degree\",\"associate's degree\",\"some college\",\"bachelor's degree\",\"some college\",\"bachelor's degree\",\"master's degree\",\"some college\",\"high school\",\"associate's degree\",\"some college\",\"some college\",\"associate's degree\",\"bachelor's degree\",\"bachelor's degree\",\"master's degree\",\"some college\",\"bachelor's degree\",\"associate's degree\",\"high school\",\"some college\",\"some college\",\"associate's degree\",\"some high school\",\"bachelor's degree\",\"high school\",\"some high school\",\"associate's degree\",\"high school\",\"bachelor's degree\",\"some college\",\"some high school\",\"high school\",\"some college\",\"associate's degree\",\"some high school\",\"some college\",\"associate's degree\",\"associate's degree\",\"high school\",\"some college\",\"some college\",\"some high school\",\"some high school\",\"some college\",\"master's degree\",\"some college\",\"bachelor's degree\",\"associate's degree\",\"associate's degree\",\"bachelor's degree\",\"bachelor's degree\",\"some high school\",\"associate's degree\",\"some college\",\"some high school\",\"some high school\",\"associate's degree\",\"associate's degree\",\"associate's degree\",\"associate's degree\",\"some high school\",\"some high school\",\"some college\",\"associate's degree\",\"some high school\",\"associate's degree\",\"some college\",\"some college\",\"associate's degree\",\"some college\",\"some high school\",\"master's degree\",\"some high school\",\"bachelor's degree\",\"some college\",\"some college\",\"some high school\",\"high school\",\"high school\",\"some high school\",\"some college\",\"associate's degree\",\"high school\",\"associate's degree\",\"bachelor's degree\",\"some high school\",\"some high school\",\"associate's degree\",\"some high school\",\"some high school\",\"master's degree\",\"some high school\",\"some high school\",\"bachelor's degree\",\"some high school\",\"some college\",\"associate's degree\",\"some high school\",\"bachelor's degree\",\"high school\",\"high school\",\"high school\",\"associate's degree\",\"high school\",\"some college\",\"some high school\",\"master's degree\",\"high school\",\"bachelor's degree\",\"some college\",\"some college\",\"associate's degree\",\"some college\",\"associate's degree\",\"bachelor's degree\",\"bachelor's degree\",\"associate's degree\",\"associate's degree\",\"some college\",\"some high school\",\"some high school\",\"associate's degree\",\"some high school\",\"high school\",\"bachelor's degree\",\"some college\",\"bachelor's degree\",\"bachelor's degree\",\"bachelor's degree\",\"bachelor's degree\",\"associate's degree\",\"some college\",\"some high school\",\"high school\",\"associate's degree\",\"some college\",\"associate's degree\",\"bachelor's degree\",\"associate's degree\",\"some college\",\"some high school\",\"master's degree\",\"some high school\",\"some high school\",\"high school\",\"some college\",\"high school\",\"some high school\",\"some high school\",\"some high school\",\"high school\",\"some college\",\"some college\",\"high school\",\"some high school\",\"some college\",\"some high school\",\"some college\",\"high school\",\"some high school\",\"master's degree\",\"high school\",\"some college\"],\"xaxis\":\"x\",\"yaxis\":\"y\"}],                        {\"barmode\":\"relative\",\"legend\":{\"tracegroupgap\":0},\"template\":{\"data\":{\"bar\":[{\"error_x\":{\"color\":\"#2a3f5f\"},\"error_y\":{\"color\":\"#2a3f5f\"},\"marker\":{\"line\":{\"color\":\"#E5ECF6\",\"width\":0.5},\"pattern\":{\"fillmode\":\"overlay\",\"size\":10,\"solidity\":0.2}},\"type\":\"bar\"}],\"barpolar\":[{\"marker\":{\"line\":{\"color\":\"#E5ECF6\",\"width\":0.5},\"pattern\":{\"fillmode\":\"overlay\",\"size\":10,\"solidity\":0.2}},\"type\":\"barpolar\"}],\"carpet\":[{\"aaxis\":{\"endlinecolor\":\"#2a3f5f\",\"gridcolor\":\"white\",\"linecolor\":\"white\",\"minorgridcolor\":\"white\",\"startlinecolor\":\"#2a3f5f\"},\"baxis\":{\"endlinecolor\":\"#2a3f5f\",\"gridcolor\":\"white\",\"linecolor\":\"white\",\"minorgridcolor\":\"white\",\"startlinecolor\":\"#2a3f5f\"},\"type\":\"carpet\"}],\"choropleth\":[{\"colorbar\":{\"outlinewidth\":0,\"ticks\":\"\"},\"type\":\"choropleth\"}],\"contour\":[{\"colorbar\":{\"outlinewidth\":0,\"ticks\":\"\"},\"colorscale\":[[0.0,\"#0d0887\"],[0.1111111111111111,\"#46039f\"],[0.2222222222222222,\"#7201a8\"],[0.3333333333333333,\"#9c179e\"],[0.4444444444444444,\"#bd3786\"],[0.5555555555555556,\"#d8576b\"],[0.6666666666666666,\"#ed7953\"],[0.7777777777777778,\"#fb9f3a\"],[0.8888888888888888,\"#fdca26\"],[1.0,\"#f0f921\"]],\"type\":\"contour\"}],\"contourcarpet\":[{\"colorbar\":{\"outlinewidth\":0,\"ticks\":\"\"},\"type\":\"contourcarpet\"}],\"heatmap\":[{\"colorbar\":{\"outlinewidth\":0,\"ticks\":\"\"},\"colorscale\":[[0.0,\"#0d0887\"],[0.1111111111111111,\"#46039f\"],[0.2222222222222222,\"#7201a8\"],[0.3333333333333333,\"#9c179e\"],[0.4444444444444444,\"#bd3786\"],[0.5555555555555556,\"#d8576b\"],[0.6666666666666666,\"#ed7953\"],[0.7777777777777778,\"#fb9f3a\"],[0.8888888888888888,\"#fdca26\"],[1.0,\"#f0f921\"]],\"type\":\"heatmap\"}],\"heatmapgl\":[{\"colorbar\":{\"outlinewidth\":0,\"ticks\":\"\"},\"colorscale\":[[0.0,\"#0d0887\"],[0.1111111111111111,\"#46039f\"],[0.2222222222222222,\"#7201a8\"],[0.3333333333333333,\"#9c179e\"],[0.4444444444444444,\"#bd3786\"],[0.5555555555555556,\"#d8576b\"],[0.6666666666666666,\"#ed7953\"],[0.7777777777777778,\"#fb9f3a\"],[0.8888888888888888,\"#fdca26\"],[1.0,\"#f0f921\"]],\"type\":\"heatmapgl\"}],\"histogram\":[{\"marker\":{\"pattern\":{\"fillmode\":\"overlay\",\"size\":10,\"solidity\":0.2}},\"type\":\"histogram\"}],\"histogram2d\":[{\"colorbar\":{\"outlinewidth\":0,\"ticks\":\"\"},\"colorscale\":[[0.0,\"#0d0887\"],[0.1111111111111111,\"#46039f\"],[0.2222222222222222,\"#7201a8\"],[0.3333333333333333,\"#9c179e\"],[0.4444444444444444,\"#bd3786\"],[0.5555555555555556,\"#d8576b\"],[0.6666666666666666,\"#ed7953\"],[0.7777777777777778,\"#fb9f3a\"],[0.8888888888888888,\"#fdca26\"],[1.0,\"#f0f921\"]],\"type\":\"histogram2d\"}],\"histogram2dcontour\":[{\"colorbar\":{\"outlinewidth\":0,\"ticks\":\"\"},\"colorscale\":[[0.0,\"#0d0887\"],[0.1111111111111111,\"#46039f\"],[0.2222222222222222,\"#7201a8\"],[0.3333333333333333,\"#9c179e\"],[0.4444444444444444,\"#bd3786\"],[0.5555555555555556,\"#d8576b\"],[0.6666666666666666,\"#ed7953\"],[0.7777777777777778,\"#fb9f3a\"],[0.8888888888888888,\"#fdca26\"],[1.0,\"#f0f921\"]],\"type\":\"histogram2dcontour\"}],\"mesh3d\":[{\"colorbar\":{\"outlinewidth\":0,\"ticks\":\"\"},\"type\":\"mesh3d\"}],\"parcoords\":[{\"line\":{\"colorbar\":{\"outlinewidth\":0,\"ticks\":\"\"}},\"type\":\"parcoords\"}],\"pie\":[{\"automargin\":true,\"type\":\"pie\"}],\"scatter\":[{\"marker\":{\"colorbar\":{\"outlinewidth\":0,\"ticks\":\"\"}},\"type\":\"scatter\"}],\"scatter3d\":[{\"line\":{\"colorbar\":{\"outlinewidth\":0,\"ticks\":\"\"}},\"marker\":{\"colorbar\":{\"outlinewidth\":0,\"ticks\":\"\"}},\"type\":\"scatter3d\"}],\"scattercarpet\":[{\"marker\":{\"colorbar\":{\"outlinewidth\":0,\"ticks\":\"\"}},\"type\":\"scattercarpet\"}],\"scattergeo\":[{\"marker\":{\"colorbar\":{\"outlinewidth\":0,\"ticks\":\"\"}},\"type\":\"scattergeo\"}],\"scattergl\":[{\"marker\":{\"colorbar\":{\"outlinewidth\":0,\"ticks\":\"\"}},\"type\":\"scattergl\"}],\"scattermapbox\":[{\"marker\":{\"colorbar\":{\"outlinewidth\":0,\"ticks\":\"\"}},\"type\":\"scattermapbox\"}],\"scatterpolar\":[{\"marker\":{\"colorbar\":{\"outlinewidth\":0,\"ticks\":\"\"}},\"type\":\"scatterpolar\"}],\"scatterpolargl\":[{\"marker\":{\"colorbar\":{\"outlinewidth\":0,\"ticks\":\"\"}},\"type\":\"scatterpolargl\"}],\"scatterternary\":[{\"marker\":{\"colorbar\":{\"outlinewidth\":0,\"ticks\":\"\"}},\"type\":\"scatterternary\"}],\"surface\":[{\"colorbar\":{\"outlinewidth\":0,\"ticks\":\"\"},\"colorscale\":[[0.0,\"#0d0887\"],[0.1111111111111111,\"#46039f\"],[0.2222222222222222,\"#7201a8\"],[0.3333333333333333,\"#9c179e\"],[0.4444444444444444,\"#bd3786\"],[0.5555555555555556,\"#d8576b\"],[0.6666666666666666,\"#ed7953\"],[0.7777777777777778,\"#fb9f3a\"],[0.8888888888888888,\"#fdca26\"],[1.0,\"#f0f921\"]],\"type\":\"surface\"}],\"table\":[{\"cells\":{\"fill\":{\"color\":\"#EBF0F8\"},\"line\":{\"color\":\"white\"}},\"header\":{\"fill\":{\"color\":\"#C8D4E3\"},\"line\":{\"color\":\"white\"}},\"type\":\"table\"}]},\"layout\":{\"annotationdefaults\":{\"arrowcolor\":\"#2a3f5f\",\"arrowhead\":0,\"arrowwidth\":1},\"autotypenumbers\":\"strict\",\"coloraxis\":{\"colorbar\":{\"outlinewidth\":0,\"ticks\":\"\"}},\"colorscale\":{\"diverging\":[[0,\"#8e0152\"],[0.1,\"#c51b7d\"],[0.2,\"#de77ae\"],[0.3,\"#f1b6da\"],[0.4,\"#fde0ef\"],[0.5,\"#f7f7f7\"],[0.6,\"#e6f5d0\"],[0.7,\"#b8e186\"],[0.8,\"#7fbc41\"],[0.9,\"#4d9221\"],[1,\"#276419\"]],\"sequential\":[[0.0,\"#0d0887\"],[0.1111111111111111,\"#46039f\"],[0.2222222222222222,\"#7201a8\"],[0.3333333333333333,\"#9c179e\"],[0.4444444444444444,\"#bd3786\"],[0.5555555555555556,\"#d8576b\"],[0.6666666666666666,\"#ed7953\"],[0.7777777777777778,\"#fb9f3a\"],[0.8888888888888888,\"#fdca26\"],[1.0,\"#f0f921\"]],\"sequentialminus\":[[0.0,\"#0d0887\"],[0.1111111111111111,\"#46039f\"],[0.2222222222222222,\"#7201a8\"],[0.3333333333333333,\"#9c179e\"],[0.4444444444444444,\"#bd3786\"],[0.5555555555555556,\"#d8576b\"],[0.6666666666666666,\"#ed7953\"],[0.7777777777777778,\"#fb9f3a\"],[0.8888888888888888,\"#fdca26\"],[1.0,\"#f0f921\"]]},\"colorway\":[\"#636efa\",\"#EF553B\",\"#00cc96\",\"#ab63fa\",\"#FFA15A\",\"#19d3f3\",\"#FF6692\",\"#B6E880\",\"#FF97FF\",\"#FECB52\"],\"font\":{\"color\":\"#2a3f5f\"},\"geo\":{\"bgcolor\":\"white\",\"lakecolor\":\"white\",\"landcolor\":\"#E5ECF6\",\"showlakes\":true,\"showland\":true,\"subunitcolor\":\"white\"},\"hoverlabel\":{\"align\":\"left\"},\"hovermode\":\"closest\",\"mapbox\":{\"style\":\"light\"},\"paper_bgcolor\":\"white\",\"plot_bgcolor\":\"#E5ECF6\",\"polar\":{\"angularaxis\":{\"gridcolor\":\"white\",\"linecolor\":\"white\",\"ticks\":\"\"},\"bgcolor\":\"#E5ECF6\",\"radialaxis\":{\"gridcolor\":\"white\",\"linecolor\":\"white\",\"ticks\":\"\"}},\"scene\":{\"xaxis\":{\"backgroundcolor\":\"#E5ECF6\",\"gridcolor\":\"white\",\"gridwidth\":2,\"linecolor\":\"white\",\"showbackground\":true,\"ticks\":\"\",\"zerolinecolor\":\"white\"},\"yaxis\":{\"backgroundcolor\":\"#E5ECF6\",\"gridcolor\":\"white\",\"gridwidth\":2,\"linecolor\":\"white\",\"showbackground\":true,\"ticks\":\"\",\"zerolinecolor\":\"white\"},\"zaxis\":{\"backgroundcolor\":\"#E5ECF6\",\"gridcolor\":\"white\",\"gridwidth\":2,\"linecolor\":\"white\",\"showbackground\":true,\"ticks\":\"\",\"zerolinecolor\":\"white\"}},\"shapedefaults\":{\"line\":{\"color\":\"#2a3f5f\"}},\"ternary\":{\"aaxis\":{\"gridcolor\":\"white\",\"linecolor\":\"white\",\"ticks\":\"\"},\"baxis\":{\"gridcolor\":\"white\",\"linecolor\":\"white\",\"ticks\":\"\"},\"bgcolor\":\"#E5ECF6\",\"caxis\":{\"gridcolor\":\"white\",\"linecolor\":\"white\",\"ticks\":\"\"}},\"title\":{\"x\":0.05},\"xaxis\":{\"automargin\":true,\"gridcolor\":\"white\",\"linecolor\":\"white\",\"ticks\":\"\",\"title\":{\"standoff\":15},\"zerolinecolor\":\"white\",\"zerolinewidth\":2},\"yaxis\":{\"automargin\":true,\"gridcolor\":\"white\",\"linecolor\":\"white\",\"ticks\":\"\",\"title\":{\"standoff\":15},\"zerolinecolor\":\"white\",\"zerolinewidth\":2}}},\"title\":{\"text\":\"Diffrenet Education Level for Students in Prep Courses\"},\"xaxis\":{\"anchor\":\"y\",\"domain\":[0.0,1.0],\"title\":{\"text\":\"parent_education_level\"}},\"yaxis\":{\"anchor\":\"x\",\"domain\":[0.0,1.0],\"title\":{\"text\":\"count\"}}},                        {\"responsive\": true}                    ).then(function(){\n",
       "                            \n",
       "var gd = document.getElementById('661a52ec-6946-41f7-bfcd-626cef25b163');\n",
       "var x = new MutationObserver(function (mutations, observer) {{\n",
       "        var display = window.getComputedStyle(gd).display;\n",
       "        if (!display || display === 'none') {{\n",
       "            console.log([gd, 'removed!']);\n",
       "            Plotly.purge(gd);\n",
       "            observer.disconnect();\n",
       "        }}\n",
       "}});\n",
       "\n",
       "// Listen for the removal of the full notebook cells\n",
       "var notebookContainer = gd.closest('#notebook-container');\n",
       "if (notebookContainer) {{\n",
       "    x.observe(notebookContainer, {childList: true});\n",
       "}}\n",
       "\n",
       "// Listen for the clearing of the current output cell\n",
       "var outputEl = gd.closest('.output');\n",
       "if (outputEl) {{\n",
       "    x.observe(outputEl, {childList: true});\n",
       "}}\n",
       "\n",
       "                        })                };                });            </script>        </div>"
      ]
     },
     "metadata": {},
     "output_type": "display_data"
    }
   ],
   "source": [
    "fig = px.histogram(prep,x = 'parent_education_level',title = 'Diffrenet Education Level for Students in Prep Courses')\n",
    "fig.show()"
   ]
  },
  {
   "cell_type": "code",
   "execution_count": 74,
   "id": "04f5badc-cddb-452c-b9ab-035d8bb3357c",
   "metadata": {},
   "outputs": [
    {
     "data": {
      "application/vnd.plotly.v1+json": {
       "config": {
        "plotlyServerURL": "https://plot.ly"
       },
       "data": [
        {
         "alignmentgroup": "True",
         "bingroup": "x",
         "hovertemplate": "parent_education_level=%{x}<br>count=%{y}<extra></extra>",
         "legendgroup": "",
         "marker": {
          "color": "#636efa",
          "pattern": {
           "shape": ""
          }
         },
         "name": "",
         "offsetgroup": "",
         "orientation": "v",
         "showlegend": false,
         "type": "histogram",
         "x": [
          "bachelor's degree",
          "master's degree",
          "associate's degree",
          "some college",
          "associate's degree",
          "some college",
          "high school",
          "associate's degree",
          "associate's degree",
          "high school",
          "master's degree",
          "some high school",
          "high school",
          "some high school",
          "associate's degree",
          "high school",
          "some college",
          "some high school",
          "master's degree",
          "some college",
          "bachelor's degree",
          "high school",
          "master's degree",
          "some college",
          "some college",
          "master's degree",
          "some college",
          "some college",
          "associate's degree",
          "some high school",
          "associate's degree",
          "associate's degree",
          "associate's degree",
          "associate's degree",
          "associate's degree",
          "associate's degree",
          "high school",
          "some college",
          "some college",
          "high school",
          "high school",
          "associate's degree",
          "some high school",
          "some high school",
          "associate's degree",
          "associate's degree",
          "some high school",
          "some high school",
          "some high school",
          "some college",
          "associate's degree",
          "associate's degree",
          "associate's degree",
          "some high school",
          "some high school",
          "associate's degree",
          "some high school",
          "master's degree",
          "associate's degree",
          "high school",
          "associate's degree",
          "high school",
          "some college",
          "some college",
          "associate's degree",
          "some college",
          "some high school",
          "bachelor's degree",
          "high school",
          "high school",
          "some college",
          "some college",
          "bachelor's degree",
          "some college",
          "associate's degree",
          "some college",
          "master's degree",
          "associate's degree",
          "some high school",
          "high school",
          "associate's degree",
          "some college",
          "high school",
          "bachelor's degree",
          "bachelor's degree",
          "some high school",
          "some college",
          "high school",
          "some college",
          "high school",
          "some high school",
          "master's degree",
          "bachelor's degree",
          "master's degree",
          "bachelor's degree",
          "high school",
          "associate's degree",
          "some high school",
          "some college",
          "high school",
          "some college",
          "some college",
          "some high school",
          "associate's degree",
          "bachelor's degree",
          "bachelor's degree",
          "some high school",
          "some college",
          "associate's degree",
          "master's degree",
          "high school",
          "master's degree",
          "some high school",
          "some college",
          "associate's degree",
          "some college",
          "high school",
          "associate's degree",
          "high school",
          "some high school",
          "bachelor's degree",
          "associate's degree",
          "some high school",
          "associate's degree",
          "high school",
          "some college",
          "bachelor's degree",
          "some college",
          "associate's degree",
          "associate's degree",
          "some college",
          "bachelor's degree",
          "some college",
          "some college",
          "some college",
          "high school",
          "high school",
          "high school",
          "associate's degree",
          "some high school",
          "some high school",
          "master's degree",
          "some college",
          "high school",
          "some high school",
          "some college",
          "associate's degree",
          "bachelor's degree",
          "some high school",
          "associate's degree",
          "bachelor's degree",
          "some college",
          "associate's degree",
          "bachelor's degree",
          "high school",
          "some college",
          "some high school",
          "associate's degree",
          "associate's degree",
          "high school",
          "high school",
          "some college",
          "master's degree",
          "high school",
          "some college",
          "associate's degree",
          "some college",
          "some high school",
          "high school",
          "high school",
          "some high school",
          "bachelor's degree",
          "high school",
          "some college",
          "bachelor's degree",
          "some college",
          "associate's degree",
          "some college",
          "bachelor's degree",
          "some high school",
          "bachelor's degree",
          "high school",
          "high school",
          "bachelor's degree",
          "some high school",
          "some high school",
          "bachelor's degree",
          "associate's degree",
          "some high school",
          "bachelor's degree",
          "associate's degree",
          "associate's degree",
          "some high school",
          "associate's degree",
          "some college",
          "some high school",
          "associate's degree",
          "high school",
          "associate's degree",
          "bachelor's degree",
          "high school",
          "associate's degree",
          "bachelor's degree",
          "associate's degree",
          "high school",
          "some college",
          "some high school",
          "high school",
          "some college",
          "some college",
          "some college",
          "some high school",
          "high school",
          "associate's degree",
          "associate's degree",
          "bachelor's degree",
          "some college",
          "associate's degree",
          "some high school",
          "high school",
          "high school",
          "some college",
          "high school",
          "some college",
          "high school",
          "associate's degree",
          "bachelor's degree",
          "some college",
          "associate's degree",
          "some college",
          "bachelor's degree",
          "associate's degree",
          "some college",
          "some college",
          "high school",
          "some college",
          "some high school",
          "some college",
          "bachelor's degree",
          "some high school",
          "some high school",
          "some college",
          "some high school",
          "bachelor's degree",
          "associate's degree",
          "some high school",
          "some high school",
          "bachelor's degree",
          "associate's degree",
          "master's degree",
          "some high school",
          "some high school",
          "some college",
          "bachelor's degree",
          "associate's degree",
          "high school",
          "master's degree",
          "some college",
          "some college",
          "high school",
          "high school",
          "associate's degree",
          "some high school",
          "some high school",
          "some college",
          "some college",
          "high school",
          "some high school",
          "associate's degree",
          "associate's degree",
          "high school",
          "associate's degree",
          "some college",
          "some college",
          "some college",
          "bachelor's degree",
          "some high school",
          "some high school",
          "some high school",
          "associate's degree",
          "high school",
          "high school",
          "some high school",
          "some high school",
          "associate's degree",
          "associate's degree",
          "high school",
          "high school",
          "some high school",
          "associate's degree",
          "some high school",
          "some college",
          "high school",
          "associate's degree",
          "some college",
          "associate's degree",
          "some college",
          "associate's degree",
          "bachelor's degree",
          "bachelor's degree",
          "associate's degree",
          "bachelor's degree",
          "bachelor's degree",
          "some college",
          "some college",
          "some college",
          "some college",
          "associate's degree",
          "some college",
          "high school",
          "some high school",
          "associate's degree",
          "master's degree",
          "associate's degree",
          "associate's degree",
          "some college",
          "high school",
          "associate's degree",
          "high school",
          "some college",
          "associate's degree",
          "associate's degree",
          "associate's degree",
          "some college",
          "bachelor's degree",
          "high school",
          "some college",
          "some high school",
          "some college",
          "master's degree",
          "some college",
          "master's degree",
          "some high school",
          "high school",
          "bachelor's degree",
          "master's degree",
          "bachelor's degree",
          "some college",
          "some high school",
          "some high school",
          "some college",
          "some college",
          "associate's degree",
          "bachelor's degree",
          "master's degree",
          "some college",
          "high school",
          "bachelor's degree",
          "associate's degree",
          "some high school",
          "high school",
          "associate's degree",
          "associate's degree",
          "master's degree",
          "high school",
          "master's degree",
          "some high school",
          "associate's degree",
          "some college",
          "associate's degree",
          "some college",
          "master's degree",
          "associate's degree",
          "some high school",
          "some college",
          "bachelor's degree",
          "associate's degree",
          "high school",
          "bachelor's degree",
          "bachelor's degree",
          "some college",
          "high school",
          "high school",
          "master's degree",
          "some high school",
          "some high school",
          "bachelor's degree",
          "some college",
          "associate's degree",
          "high school",
          "bachelor's degree",
          "some college",
          "some high school",
          "some college",
          "some high school",
          "bachelor's degree",
          "high school",
          "high school",
          "some high school",
          "high school",
          "some high school",
          "master's degree",
          "high school",
          "some college",
          "high school",
          "some high school",
          "associate's degree",
          "master's degree",
          "some college",
          "associate's degree",
          "some college",
          "associate's degree",
          "associate's degree",
          "high school",
          "bachelor's degree",
          "bachelor's degree",
          "master's degree",
          "high school",
          "bachelor's degree",
          "bachelor's degree",
          "associate's degree",
          "some college",
          "some college",
          "high school",
          "high school",
          "some high school",
          "high school",
          "some college",
          "associate's degree",
          "high school",
          "some high school",
          "high school",
          "associate's degree",
          "high school",
          "high school",
          "some high school",
          "some college",
          "associate's degree",
          "some high school",
          "associate's degree",
          "associate's degree",
          "some college",
          "some high school",
          "some college",
          "high school",
          "associate's degree",
          "bachelor's degree",
          "some college",
          "high school",
          "associate's degree",
          "some college",
          "associate's degree",
          "some college",
          "high school",
          "high school",
          "high school",
          "associate's degree",
          "high school",
          "some college",
          "associate's degree",
          "associate's degree",
          "associate's degree",
          "some high school",
          "some college",
          "bachelor's degree",
          "high school",
          "some high school",
          "some college",
          "bachelor's degree",
          "high school",
          "some college",
          "high school",
          "some college",
          "master's degree",
          "high school",
          "some college",
          "high school",
          "some college",
          "high school",
          "some college",
          "some high school",
          "some high school",
          "some college",
          "master's degree",
          "associate's degree",
          "associate's degree",
          "high school",
          "bachelor's degree",
          "associate's degree",
          "high school",
          "some college",
          "associate's degree",
          "high school",
          "some college",
          "bachelor's degree",
          "some college",
          "associate's degree",
          "associate's degree",
          "some college",
          "high school",
          "some high school",
          "high school",
          "some college",
          "high school",
          "some high school",
          "some college",
          "high school",
          "bachelor's degree",
          "bachelor's degree",
          "some college",
          "some high school",
          "high school",
          "some college",
          "associate's degree",
          "master's degree",
          "some high school",
          "some college",
          "associate's degree",
          "master's degree",
          "high school",
          "some college",
          "high school",
          "high school",
          "high school",
          "associate's degree",
          "some college",
          "associate's degree",
          "associate's degree",
          "some college",
          "some college",
          "some college",
          "some college",
          "high school",
          "high school",
          "bachelor's degree",
          "some high school",
          "high school",
          "high school",
          "bachelor's degree",
          "high school",
          "some high school",
          "bachelor's degree",
          "high school",
          "some high school",
          "high school",
          "some high school",
          "some high school",
          "some college",
          "bachelor's degree",
          "some college",
          "high school",
          "associate's degree",
          "high school",
          "some high school",
          "master's degree",
          "high school",
          "high school",
          "associate's degree",
          "master's degree",
          "high school",
          "some college",
          "some high school",
          "some high school",
          "bachelor's degree",
          "some college",
          "bachelor's degree",
          "associate's degree",
          "associate's degree",
          "master's degree",
          "associate's degree",
          "high school",
          "associate's degree",
          "associate's degree",
          "high school",
          "associate's degree",
          "bachelor's degree",
          "some college",
          "some college",
          "some high school",
          "some high school",
          "associate's degree",
          "high school",
          "bachelor's degree",
          "associate's degree",
          "high school",
          "some college",
          "high school",
          "associate's degree",
          "master's degree",
          "associate's degree",
          "some high school",
          "high school",
          "master's degree",
          "master's degree",
          "some high school",
          "some college",
          "high school",
          "bachelor's degree",
          "bachelor's degree",
          "some college",
          "associate's degree",
          "some college",
          "high school",
          "high school",
          "high school",
          "high school",
          "associate's degree",
          "high school",
          "associate's degree",
          "some high school",
          "some college",
          "some college",
          "associate's degree",
          "high school",
          "master's degree",
          "high school",
          "high school",
          "associate's degree",
          "high school",
          "some college",
          "high school",
          "some high school",
          "some college",
          "associate's degree",
          "some college",
          "master's degree",
          "high school",
          "high school",
          "some college",
          "some high school",
          "associate's degree",
          "some college",
          "some college",
          "some college",
          "associate's degree",
          "bachelor's degree",
          "bachelor's degree",
          "some college",
          "some college",
          "associate's degree",
          "associate's degree",
          "high school",
          "some high school",
          "some high school",
          "high school",
          "associate's degree",
          "some high school",
          "associate's degree",
          "bachelor's degree",
          "high school",
          "high school",
          "some college"
         ],
         "xaxis": "x",
         "yaxis": "y"
        }
       ],
       "layout": {
        "autosize": true,
        "barmode": "relative",
        "legend": {
         "tracegroupgap": 0
        },
        "template": {
         "data": {
          "bar": [
           {
            "error_x": {
             "color": "#2a3f5f"
            },
            "error_y": {
             "color": "#2a3f5f"
            },
            "marker": {
             "line": {
              "color": "#E5ECF6",
              "width": 0.5
             },
             "pattern": {
              "fillmode": "overlay",
              "size": 10,
              "solidity": 0.2
             }
            },
            "type": "bar"
           }
          ],
          "barpolar": [
           {
            "marker": {
             "line": {
              "color": "#E5ECF6",
              "width": 0.5
             },
             "pattern": {
              "fillmode": "overlay",
              "size": 10,
              "solidity": 0.2
             }
            },
            "type": "barpolar"
           }
          ],
          "carpet": [
           {
            "aaxis": {
             "endlinecolor": "#2a3f5f",
             "gridcolor": "white",
             "linecolor": "white",
             "minorgridcolor": "white",
             "startlinecolor": "#2a3f5f"
            },
            "baxis": {
             "endlinecolor": "#2a3f5f",
             "gridcolor": "white",
             "linecolor": "white",
             "minorgridcolor": "white",
             "startlinecolor": "#2a3f5f"
            },
            "type": "carpet"
           }
          ],
          "choropleth": [
           {
            "colorbar": {
             "outlinewidth": 0,
             "ticks": ""
            },
            "type": "choropleth"
           }
          ],
          "contour": [
           {
            "colorbar": {
             "outlinewidth": 0,
             "ticks": ""
            },
            "colorscale": [
             [
              0,
              "#0d0887"
             ],
             [
              0.1111111111111111,
              "#46039f"
             ],
             [
              0.2222222222222222,
              "#7201a8"
             ],
             [
              0.3333333333333333,
              "#9c179e"
             ],
             [
              0.4444444444444444,
              "#bd3786"
             ],
             [
              0.5555555555555556,
              "#d8576b"
             ],
             [
              0.6666666666666666,
              "#ed7953"
             ],
             [
              0.7777777777777778,
              "#fb9f3a"
             ],
             [
              0.8888888888888888,
              "#fdca26"
             ],
             [
              1,
              "#f0f921"
             ]
            ],
            "type": "contour"
           }
          ],
          "contourcarpet": [
           {
            "colorbar": {
             "outlinewidth": 0,
             "ticks": ""
            },
            "type": "contourcarpet"
           }
          ],
          "heatmap": [
           {
            "colorbar": {
             "outlinewidth": 0,
             "ticks": ""
            },
            "colorscale": [
             [
              0,
              "#0d0887"
             ],
             [
              0.1111111111111111,
              "#46039f"
             ],
             [
              0.2222222222222222,
              "#7201a8"
             ],
             [
              0.3333333333333333,
              "#9c179e"
             ],
             [
              0.4444444444444444,
              "#bd3786"
             ],
             [
              0.5555555555555556,
              "#d8576b"
             ],
             [
              0.6666666666666666,
              "#ed7953"
             ],
             [
              0.7777777777777778,
              "#fb9f3a"
             ],
             [
              0.8888888888888888,
              "#fdca26"
             ],
             [
              1,
              "#f0f921"
             ]
            ],
            "type": "heatmap"
           }
          ],
          "heatmapgl": [
           {
            "colorbar": {
             "outlinewidth": 0,
             "ticks": ""
            },
            "colorscale": [
             [
              0,
              "#0d0887"
             ],
             [
              0.1111111111111111,
              "#46039f"
             ],
             [
              0.2222222222222222,
              "#7201a8"
             ],
             [
              0.3333333333333333,
              "#9c179e"
             ],
             [
              0.4444444444444444,
              "#bd3786"
             ],
             [
              0.5555555555555556,
              "#d8576b"
             ],
             [
              0.6666666666666666,
              "#ed7953"
             ],
             [
              0.7777777777777778,
              "#fb9f3a"
             ],
             [
              0.8888888888888888,
              "#fdca26"
             ],
             [
              1,
              "#f0f921"
             ]
            ],
            "type": "heatmapgl"
           }
          ],
          "histogram": [
           {
            "marker": {
             "pattern": {
              "fillmode": "overlay",
              "size": 10,
              "solidity": 0.2
             }
            },
            "type": "histogram"
           }
          ],
          "histogram2d": [
           {
            "colorbar": {
             "outlinewidth": 0,
             "ticks": ""
            },
            "colorscale": [
             [
              0,
              "#0d0887"
             ],
             [
              0.1111111111111111,
              "#46039f"
             ],
             [
              0.2222222222222222,
              "#7201a8"
             ],
             [
              0.3333333333333333,
              "#9c179e"
             ],
             [
              0.4444444444444444,
              "#bd3786"
             ],
             [
              0.5555555555555556,
              "#d8576b"
             ],
             [
              0.6666666666666666,
              "#ed7953"
             ],
             [
              0.7777777777777778,
              "#fb9f3a"
             ],
             [
              0.8888888888888888,
              "#fdca26"
             ],
             [
              1,
              "#f0f921"
             ]
            ],
            "type": "histogram2d"
           }
          ],
          "histogram2dcontour": [
           {
            "colorbar": {
             "outlinewidth": 0,
             "ticks": ""
            },
            "colorscale": [
             [
              0,
              "#0d0887"
             ],
             [
              0.1111111111111111,
              "#46039f"
             ],
             [
              0.2222222222222222,
              "#7201a8"
             ],
             [
              0.3333333333333333,
              "#9c179e"
             ],
             [
              0.4444444444444444,
              "#bd3786"
             ],
             [
              0.5555555555555556,
              "#d8576b"
             ],
             [
              0.6666666666666666,
              "#ed7953"
             ],
             [
              0.7777777777777778,
              "#fb9f3a"
             ],
             [
              0.8888888888888888,
              "#fdca26"
             ],
             [
              1,
              "#f0f921"
             ]
            ],
            "type": "histogram2dcontour"
           }
          ],
          "mesh3d": [
           {
            "colorbar": {
             "outlinewidth": 0,
             "ticks": ""
            },
            "type": "mesh3d"
           }
          ],
          "parcoords": [
           {
            "line": {
             "colorbar": {
              "outlinewidth": 0,
              "ticks": ""
             }
            },
            "type": "parcoords"
           }
          ],
          "pie": [
           {
            "automargin": true,
            "type": "pie"
           }
          ],
          "scatter": [
           {
            "marker": {
             "colorbar": {
              "outlinewidth": 0,
              "ticks": ""
             }
            },
            "type": "scatter"
           }
          ],
          "scatter3d": [
           {
            "line": {
             "colorbar": {
              "outlinewidth": 0,
              "ticks": ""
             }
            },
            "marker": {
             "colorbar": {
              "outlinewidth": 0,
              "ticks": ""
             }
            },
            "type": "scatter3d"
           }
          ],
          "scattercarpet": [
           {
            "marker": {
             "colorbar": {
              "outlinewidth": 0,
              "ticks": ""
             }
            },
            "type": "scattercarpet"
           }
          ],
          "scattergeo": [
           {
            "marker": {
             "colorbar": {
              "outlinewidth": 0,
              "ticks": ""
             }
            },
            "type": "scattergeo"
           }
          ],
          "scattergl": [
           {
            "marker": {
             "colorbar": {
              "outlinewidth": 0,
              "ticks": ""
             }
            },
            "type": "scattergl"
           }
          ],
          "scattermapbox": [
           {
            "marker": {
             "colorbar": {
              "outlinewidth": 0,
              "ticks": ""
             }
            },
            "type": "scattermapbox"
           }
          ],
          "scatterpolar": [
           {
            "marker": {
             "colorbar": {
              "outlinewidth": 0,
              "ticks": ""
             }
            },
            "type": "scatterpolar"
           }
          ],
          "scatterpolargl": [
           {
            "marker": {
             "colorbar": {
              "outlinewidth": 0,
              "ticks": ""
             }
            },
            "type": "scatterpolargl"
           }
          ],
          "scatterternary": [
           {
            "marker": {
             "colorbar": {
              "outlinewidth": 0,
              "ticks": ""
             }
            },
            "type": "scatterternary"
           }
          ],
          "surface": [
           {
            "colorbar": {
             "outlinewidth": 0,
             "ticks": ""
            },
            "colorscale": [
             [
              0,
              "#0d0887"
             ],
             [
              0.1111111111111111,
              "#46039f"
             ],
             [
              0.2222222222222222,
              "#7201a8"
             ],
             [
              0.3333333333333333,
              "#9c179e"
             ],
             [
              0.4444444444444444,
              "#bd3786"
             ],
             [
              0.5555555555555556,
              "#d8576b"
             ],
             [
              0.6666666666666666,
              "#ed7953"
             ],
             [
              0.7777777777777778,
              "#fb9f3a"
             ],
             [
              0.8888888888888888,
              "#fdca26"
             ],
             [
              1,
              "#f0f921"
             ]
            ],
            "type": "surface"
           }
          ],
          "table": [
           {
            "cells": {
             "fill": {
              "color": "#EBF0F8"
             },
             "line": {
              "color": "white"
             }
            },
            "header": {
             "fill": {
              "color": "#C8D4E3"
             },
             "line": {
              "color": "white"
             }
            },
            "type": "table"
           }
          ]
         },
         "layout": {
          "annotationdefaults": {
           "arrowcolor": "#2a3f5f",
           "arrowhead": 0,
           "arrowwidth": 1
          },
          "autotypenumbers": "strict",
          "coloraxis": {
           "colorbar": {
            "outlinewidth": 0,
            "ticks": ""
           }
          },
          "colorscale": {
           "diverging": [
            [
             0,
             "#8e0152"
            ],
            [
             0.1,
             "#c51b7d"
            ],
            [
             0.2,
             "#de77ae"
            ],
            [
             0.3,
             "#f1b6da"
            ],
            [
             0.4,
             "#fde0ef"
            ],
            [
             0.5,
             "#f7f7f7"
            ],
            [
             0.6,
             "#e6f5d0"
            ],
            [
             0.7,
             "#b8e186"
            ],
            [
             0.8,
             "#7fbc41"
            ],
            [
             0.9,
             "#4d9221"
            ],
            [
             1,
             "#276419"
            ]
           ],
           "sequential": [
            [
             0,
             "#0d0887"
            ],
            [
             0.1111111111111111,
             "#46039f"
            ],
            [
             0.2222222222222222,
             "#7201a8"
            ],
            [
             0.3333333333333333,
             "#9c179e"
            ],
            [
             0.4444444444444444,
             "#bd3786"
            ],
            [
             0.5555555555555556,
             "#d8576b"
            ],
            [
             0.6666666666666666,
             "#ed7953"
            ],
            [
             0.7777777777777778,
             "#fb9f3a"
            ],
            [
             0.8888888888888888,
             "#fdca26"
            ],
            [
             1,
             "#f0f921"
            ]
           ],
           "sequentialminus": [
            [
             0,
             "#0d0887"
            ],
            [
             0.1111111111111111,
             "#46039f"
            ],
            [
             0.2222222222222222,
             "#7201a8"
            ],
            [
             0.3333333333333333,
             "#9c179e"
            ],
            [
             0.4444444444444444,
             "#bd3786"
            ],
            [
             0.5555555555555556,
             "#d8576b"
            ],
            [
             0.6666666666666666,
             "#ed7953"
            ],
            [
             0.7777777777777778,
             "#fb9f3a"
            ],
            [
             0.8888888888888888,
             "#fdca26"
            ],
            [
             1,
             "#f0f921"
            ]
           ]
          },
          "colorway": [
           "#636efa",
           "#EF553B",
           "#00cc96",
           "#ab63fa",
           "#FFA15A",
           "#19d3f3",
           "#FF6692",
           "#B6E880",
           "#FF97FF",
           "#FECB52"
          ],
          "font": {
           "color": "#2a3f5f"
          },
          "geo": {
           "bgcolor": "white",
           "lakecolor": "white",
           "landcolor": "#E5ECF6",
           "showlakes": true,
           "showland": true,
           "subunitcolor": "white"
          },
          "hoverlabel": {
           "align": "left"
          },
          "hovermode": "closest",
          "mapbox": {
           "style": "light"
          },
          "paper_bgcolor": "white",
          "plot_bgcolor": "#E5ECF6",
          "polar": {
           "angularaxis": {
            "gridcolor": "white",
            "linecolor": "white",
            "ticks": ""
           },
           "bgcolor": "#E5ECF6",
           "radialaxis": {
            "gridcolor": "white",
            "linecolor": "white",
            "ticks": ""
           }
          },
          "scene": {
           "xaxis": {
            "backgroundcolor": "#E5ECF6",
            "gridcolor": "white",
            "gridwidth": 2,
            "linecolor": "white",
            "showbackground": true,
            "ticks": "",
            "zerolinecolor": "white"
           },
           "yaxis": {
            "backgroundcolor": "#E5ECF6",
            "gridcolor": "white",
            "gridwidth": 2,
            "linecolor": "white",
            "showbackground": true,
            "ticks": "",
            "zerolinecolor": "white"
           },
           "zaxis": {
            "backgroundcolor": "#E5ECF6",
            "gridcolor": "white",
            "gridwidth": 2,
            "linecolor": "white",
            "showbackground": true,
            "ticks": "",
            "zerolinecolor": "white"
           }
          },
          "shapedefaults": {
           "line": {
            "color": "#2a3f5f"
           }
          },
          "ternary": {
           "aaxis": {
            "gridcolor": "white",
            "linecolor": "white",
            "ticks": ""
           },
           "baxis": {
            "gridcolor": "white",
            "linecolor": "white",
            "ticks": ""
           },
           "bgcolor": "#E5ECF6",
           "caxis": {
            "gridcolor": "white",
            "linecolor": "white",
            "ticks": ""
           }
          },
          "title": {
           "x": 0.05
          },
          "xaxis": {
           "automargin": true,
           "gridcolor": "white",
           "linecolor": "white",
           "ticks": "",
           "title": {
            "standoff": 15
           },
           "zerolinecolor": "white",
           "zerolinewidth": 2
          },
          "yaxis": {
           "automargin": true,
           "gridcolor": "white",
           "linecolor": "white",
           "ticks": "",
           "title": {
            "standoff": 15
           },
           "zerolinecolor": "white",
           "zerolinewidth": 2
          }
         }
        },
        "title": {
         "text": "Diffrenet Education Level for Students not in Prep Courses"
        },
        "xaxis": {
         "anchor": "y",
         "autorange": true,
         "domain": [
          0,
          1
         ],
         "range": [
          -0.5,
          5.5
         ],
         "title": {
          "text": "parent_education_level"
         },
         "type": "category"
        },
        "yaxis": {
         "anchor": "x",
         "autorange": true,
         "domain": [
          0,
          1
         ],
         "range": [
          0,
          156.8421052631579
         ],
         "title": {
          "text": "count"
         }
        }
       }
      },
      "image/png": "[encoded data removed]",
      "text/html": [
       "<div>                            <div id=\"6b9891d4-1482-4e54-bd26-567c5cbe63ae\" class=\"plotly-graph-div\" style=\"height:525px; width:100%;\"></div>            <script type=\"text/javascript\">                require([\"plotly\"], function(Plotly) {                    window.PLOTLYENV=window.PLOTLYENV || {};                                    if (document.getElementById(\"6b9891d4-1482-4e54-bd26-567c5cbe63ae\")) {                    Plotly.newPlot(                        \"6b9891d4-1482-4e54-bd26-567c5cbe63ae\",                        [{\"alignmentgroup\":\"True\",\"bingroup\":\"x\",\"hovertemplate\":\"parent_education_level=%{x}<br>count=%{y}<extra></extra>\",\"legendgroup\":\"\",\"marker\":{\"color\":\"#636efa\",\"pattern\":{\"shape\":\"\"}},\"name\":\"\",\"offsetgroup\":\"\",\"orientation\":\"v\",\"showlegend\":false,\"type\":\"histogram\",\"x\":[\"bachelor's degree\",\"master's degree\",\"associate's degree\",\"some college\",\"associate's degree\",\"some college\",\"high school\",\"associate's degree\",\"associate's degree\",\"high school\",\"master's degree\",\"some high school\",\"high school\",\"some high school\",\"associate's degree\",\"high school\",\"some college\",\"some high school\",\"master's degree\",\"some college\",\"bachelor's degree\",\"high school\",\"master's degree\",\"some college\",\"some college\",\"master's degree\",\"some college\",\"some college\",\"associate's degree\",\"some high school\",\"associate's degree\",\"associate's degree\",\"associate's degree\",\"associate's degree\",\"associate's degree\",\"associate's degree\",\"high school\",\"some college\",\"some college\",\"high school\",\"high school\",\"associate's degree\",\"some high school\",\"some high school\",\"associate's degree\",\"associate's degree\",\"some high school\",\"some high school\",\"some high school\",\"some college\",\"associate's degree\",\"associate's degree\",\"associate's degree\",\"some high school\",\"some high school\",\"associate's degree\",\"some high school\",\"master's degree\",\"associate's degree\",\"high school\",\"associate's degree\",\"high school\",\"some college\",\"some college\",\"associate's degree\",\"some college\",\"some high school\",\"bachelor's degree\",\"high school\",\"high school\",\"some college\",\"some college\",\"bachelor's degree\",\"some college\",\"associate's degree\",\"some college\",\"master's degree\",\"associate's degree\",\"some high school\",\"high school\",\"associate's degree\",\"some college\",\"high school\",\"bachelor's degree\",\"bachelor's degree\",\"some high school\",\"some college\",\"high school\",\"some college\",\"high school\",\"some high school\",\"master's degree\",\"bachelor's degree\",\"master's degree\",\"bachelor's degree\",\"high school\",\"associate's degree\",\"some high school\",\"some college\",\"high school\",\"some college\",\"some college\",\"some high school\",\"associate's degree\",\"bachelor's degree\",\"bachelor's degree\",\"some high school\",\"some college\",\"associate's degree\",\"master's degree\",\"high school\",\"master's degree\",\"some high school\",\"some college\",\"associate's degree\",\"some college\",\"high school\",\"associate's degree\",\"high school\",\"some high school\",\"bachelor's degree\",\"associate's degree\",\"some high school\",\"associate's degree\",\"high school\",\"some college\",\"bachelor's degree\",\"some college\",\"associate's degree\",\"associate's degree\",\"some college\",\"bachelor's degree\",\"some college\",\"some college\",\"some college\",\"high school\",\"high school\",\"high school\",\"associate's degree\",\"some high school\",\"some high school\",\"master's degree\",\"some college\",\"high school\",\"some high school\",\"some college\",\"associate's degree\",\"bachelor's degree\",\"some high school\",\"associate's degree\",\"bachelor's degree\",\"some college\",\"associate's degree\",\"bachelor's degree\",\"high school\",\"some college\",\"some high school\",\"associate's degree\",\"associate's degree\",\"high school\",\"high school\",\"some college\",\"master's degree\",\"high school\",\"some college\",\"associate's degree\",\"some college\",\"some high school\",\"high school\",\"high school\",\"some high school\",\"bachelor's degree\",\"high school\",\"some college\",\"bachelor's degree\",\"some college\",\"associate's degree\",\"some college\",\"bachelor's degree\",\"some high school\",\"bachelor's degree\",\"high school\",\"high school\",\"bachelor's degree\",\"some high school\",\"some high school\",\"bachelor's degree\",\"associate's degree\",\"some high school\",\"bachelor's degree\",\"associate's degree\",\"associate's degree\",\"some high school\",\"associate's degree\",\"some college\",\"some high school\",\"associate's degree\",\"high school\",\"associate's degree\",\"bachelor's degree\",\"high school\",\"associate's degree\",\"bachelor's degree\",\"associate's degree\",\"high school\",\"some college\",\"some high school\",\"high school\",\"some college\",\"some college\",\"some college\",\"some high school\",\"high school\",\"associate's degree\",\"associate's degree\",\"bachelor's degree\",\"some college\",\"associate's degree\",\"some high school\",\"high school\",\"high school\",\"some college\",\"high school\",\"some college\",\"high school\",\"associate's degree\",\"bachelor's degree\",\"some college\",\"associate's degree\",\"some college\",\"bachelor's degree\",\"associate's degree\",\"some college\",\"some college\",\"high school\",\"some college\",\"some high school\",\"some college\",\"bachelor's degree\",\"some high school\",\"some high school\",\"some college\",\"some high school\",\"bachelor's degree\",\"associate's degree\",\"some high school\",\"some high school\",\"bachelor's degree\",\"associate's degree\",\"master's degree\",\"some high school\",\"some high school\",\"some college\",\"bachelor's degree\",\"associate's degree\",\"high school\",\"master's degree\",\"some college\",\"some college\",\"high school\",\"high school\",\"associate's degree\",\"some high school\",\"some high school\",\"some college\",\"some college\",\"high school\",\"some high school\",\"associate's degree\",\"associate's degree\",\"high school\",\"associate's degree\",\"some college\",\"some college\",\"some college\",\"bachelor's degree\",\"some high school\",\"some high school\",\"some high school\",\"associate's degree\",\"high school\",\"high school\",\"some high school\",\"some high school\",\"associate's degree\",\"associate's degree\",\"high school\",\"high school\",\"some high school\",\"associate's degree\",\"some high school\",\"some college\",\"high school\",\"associate's degree\",\"some college\",\"associate's degree\",\"some college\",\"associate's degree\",\"bachelor's degree\",\"bachelor's degree\",\"associate's degree\",\"bachelor's degree\",\"bachelor's degree\",\"some college\",\"some college\",\"some college\",\"some college\",\"associate's degree\",\"some college\",\"high school\",\"some high school\",\"associate's degree\",\"master's degree\",\"associate's degree\",\"associate's degree\",\"some college\",\"high school\",\"associate's degree\",\"high school\",\"some college\",\"associate's degree\",\"associate's degree\",\"associate's degree\",\"some college\",\"bachelor's degree\",\"high school\",\"some college\",\"some high school\",\"some college\",\"master's degree\",\"some college\",\"master's degree\",\"some high school\",\"high school\",\"bachelor's degree\",\"master's degree\",\"bachelor's degree\",\"some college\",\"some high school\",\"some high school\",\"some college\",\"some college\",\"associate's degree\",\"bachelor's degree\",\"master's degree\",\"some college\",\"high school\",\"bachelor's degree\",\"associate's degree\",\"some high school\",\"high school\",\"associate's degree\",\"associate's degree\",\"master's degree\",\"high school\",\"master's degree\",\"some high school\",\"associate's degree\",\"some college\",\"associate's degree\",\"some college\",\"master's degree\",\"associate's degree\",\"some high school\",\"some college\",\"bachelor's degree\",\"associate's degree\",\"high school\",\"bachelor's degree\",\"bachelor's degree\",\"some college\",\"high school\",\"high school\",\"master's degree\",\"some high school\",\"some high school\",\"bachelor's degree\",\"some college\",\"associate's degree\",\"high school\",\"bachelor's degree\",\"some college\",\"some high school\",\"some college\",\"some high school\",\"bachelor's degree\",\"high school\",\"high school\",\"some high school\",\"high school\",\"some high school\",\"master's degree\",\"high school\",\"some college\",\"high school\",\"some high school\",\"associate's degree\",\"master's degree\",\"some college\",\"associate's degree\",\"some college\",\"associate's degree\",\"associate's degree\",\"high school\",\"bachelor's degree\",\"bachelor's degree\",\"master's degree\",\"high school\",\"bachelor's degree\",\"bachelor's degree\",\"associate's degree\",\"some college\",\"some college\",\"high school\",\"high school\",\"some high school\",\"high school\",\"some college\",\"associate's degree\",\"high school\",\"some high school\",\"high school\",\"associate's degree\",\"high school\",\"high school\",\"some high school\",\"some college\",\"associate's degree\",\"some high school\",\"associate's degree\",\"associate's degree\",\"some college\",\"some high school\",\"some college\",\"high school\",\"associate's degree\",\"bachelor's degree\",\"some college\",\"high school\",\"associate's degree\",\"some college\",\"associate's degree\",\"some college\",\"high school\",\"high school\",\"high school\",\"associate's degree\",\"high school\",\"some college\",\"associate's degree\",\"associate's degree\",\"associate's degree\",\"some high school\",\"some college\",\"bachelor's degree\",\"high school\",\"some high school\",\"some college\",\"bachelor's degree\",\"high school\",\"some college\",\"high school\",\"some college\",\"master's degree\",\"high school\",\"some college\",\"high school\",\"some college\",\"high school\",\"some college\",\"some high school\",\"some high school\",\"some college\",\"master's degree\",\"associate's degree\",\"associate's degree\",\"high school\",\"bachelor's degree\",\"associate's degree\",\"high school\",\"some college\",\"associate's degree\",\"high school\",\"some college\",\"bachelor's degree\",\"some college\",\"associate's degree\",\"associate's degree\",\"some college\",\"high school\",\"some high school\",\"high school\",\"some college\",\"high school\",\"some high school\",\"some college\",\"high school\",\"bachelor's degree\",\"bachelor's degree\",\"some college\",\"some high school\",\"high school\",\"some college\",\"associate's degree\",\"master's degree\",\"some high school\",\"some college\",\"associate's degree\",\"master's degree\",\"high school\",\"some college\",\"high school\",\"high school\",\"high school\",\"associate's degree\",\"some college\",\"associate's degree\",\"associate's degree\",\"some college\",\"some college\",\"some college\",\"some college\",\"high school\",\"high school\",\"bachelor's degree\",\"some high school\",\"high school\",\"high school\",\"bachelor's degree\",\"high school\",\"some high school\",\"bachelor's degree\",\"high school\",\"some high school\",\"high school\",\"some high school\",\"some high school\",\"some college\",\"bachelor's degree\",\"some college\",\"high school\",\"associate's degree\",\"high school\",\"some high school\",\"master's degree\",\"high school\",\"high school\",\"associate's degree\",\"master's degree\",\"high school\",\"some college\",\"some high school\",\"some high school\",\"bachelor's degree\",\"some college\",\"bachelor's degree\",\"associate's degree\",\"associate's degree\",\"master's degree\",\"associate's degree\",\"high school\",\"associate's degree\",\"associate's degree\",\"high school\",\"associate's degree\",\"bachelor's degree\",\"some college\",\"some college\",\"some high school\",\"some high school\",\"associate's degree\",\"high school\",\"bachelor's degree\",\"associate's degree\",\"high school\",\"some college\",\"high school\",\"associate's degree\",\"master's degree\",\"associate's degree\",\"some high school\",\"high school\",\"master's degree\",\"master's degree\",\"some high school\",\"some college\",\"high school\",\"bachelor's degree\",\"bachelor's degree\",\"some college\",\"associate's degree\",\"some college\",\"high school\",\"high school\",\"high school\",\"high school\",\"associate's degree\",\"high school\",\"associate's degree\",\"some high school\",\"some college\",\"some college\",\"associate's degree\",\"high school\",\"master's degree\",\"high school\",\"high school\",\"associate's degree\",\"high school\",\"some college\",\"high school\",\"some high school\",\"some college\",\"associate's degree\",\"some college\",\"master's degree\",\"high school\",\"high school\",\"some college\",\"some high school\",\"associate's degree\",\"some college\",\"some college\",\"some college\",\"associate's degree\",\"bachelor's degree\",\"bachelor's degree\",\"some college\",\"some college\",\"associate's degree\",\"associate's degree\",\"high school\",\"some high school\",\"some high school\",\"high school\",\"associate's degree\",\"some high school\",\"associate's degree\",\"bachelor's degree\",\"high school\",\"high school\",\"some college\"],\"xaxis\":\"x\",\"yaxis\":\"y\"}],                        {\"barmode\":\"relative\",\"legend\":{\"tracegroupgap\":0},\"template\":{\"data\":{\"bar\":[{\"error_x\":{\"color\":\"#2a3f5f\"},\"error_y\":{\"color\":\"#2a3f5f\"},\"marker\":{\"line\":{\"color\":\"#E5ECF6\",\"width\":0.5},\"pattern\":{\"fillmode\":\"overlay\",\"size\":10,\"solidity\":0.2}},\"type\":\"bar\"}],\"barpolar\":[{\"marker\":{\"line\":{\"color\":\"#E5ECF6\",\"width\":0.5},\"pattern\":{\"fillmode\":\"overlay\",\"size\":10,\"solidity\":0.2}},\"type\":\"barpolar\"}],\"carpet\":[{\"aaxis\":{\"endlinecolor\":\"#2a3f5f\",\"gridcolor\":\"white\",\"linecolor\":\"white\",\"minorgridcolor\":\"white\",\"startlinecolor\":\"#2a3f5f\"},\"baxis\":{\"endlinecolor\":\"#2a3f5f\",\"gridcolor\":\"white\",\"linecolor\":\"white\",\"minorgridcolor\":\"white\",\"startlinecolor\":\"#2a3f5f\"},\"type\":\"carpet\"}],\"choropleth\":[{\"colorbar\":{\"outlinewidth\":0,\"ticks\":\"\"},\"type\":\"choropleth\"}],\"contour\":[{\"colorbar\":{\"outlinewidth\":0,\"ticks\":\"\"},\"colorscale\":[[0.0,\"#0d0887\"],[0.1111111111111111,\"#46039f\"],[0.2222222222222222,\"#7201a8\"],[0.3333333333333333,\"#9c179e\"],[0.4444444444444444,\"#bd3786\"],[0.5555555555555556,\"#d8576b\"],[0.6666666666666666,\"#ed7953\"],[0.7777777777777778,\"#fb9f3a\"],[0.8888888888888888,\"#fdca26\"],[1.0,\"#f0f921\"]],\"type\":\"contour\"}],\"contourcarpet\":[{\"colorbar\":{\"outlinewidth\":0,\"ticks\":\"\"},\"type\":\"contourcarpet\"}],\"heatmap\":[{\"colorbar\":{\"outlinewidth\":0,\"ticks\":\"\"},\"colorscale\":[[0.0,\"#0d0887\"],[0.1111111111111111,\"#46039f\"],[0.2222222222222222,\"#7201a8\"],[0.3333333333333333,\"#9c179e\"],[0.4444444444444444,\"#bd3786\"],[0.5555555555555556,\"#d8576b\"],[0.6666666666666666,\"#ed7953\"],[0.7777777777777778,\"#fb9f3a\"],[0.8888888888888888,\"#fdca26\"],[1.0,\"#f0f921\"]],\"type\":\"heatmap\"}],\"heatmapgl\":[{\"colorbar\":{\"outlinewidth\":0,\"ticks\":\"\"},\"colorscale\":[[0.0,\"#0d0887\"],[0.1111111111111111,\"#46039f\"],[0.2222222222222222,\"#7201a8\"],[0.3333333333333333,\"#9c179e\"],[0.4444444444444444,\"#bd3786\"],[0.5555555555555556,\"#d8576b\"],[0.6666666666666666,\"#ed7953\"],[0.7777777777777778,\"#fb9f3a\"],[0.8888888888888888,\"#fdca26\"],[1.0,\"#f0f921\"]],\"type\":\"heatmapgl\"}],\"histogram\":[{\"marker\":{\"pattern\":{\"fillmode\":\"overlay\",\"size\":10,\"solidity\":0.2}},\"type\":\"histogram\"}],\"histogram2d\":[{\"colorbar\":{\"outlinewidth\":0,\"ticks\":\"\"},\"colorscale\":[[0.0,\"#0d0887\"],[0.1111111111111111,\"#46039f\"],[0.2222222222222222,\"#7201a8\"],[0.3333333333333333,\"#9c179e\"],[0.4444444444444444,\"#bd3786\"],[0.5555555555555556,\"#d8576b\"],[0.6666666666666666,\"#ed7953\"],[0.7777777777777778,\"#fb9f3a\"],[0.8888888888888888,\"#fdca26\"],[1.0,\"#f0f921\"]],\"type\":\"histogram2d\"}],\"histogram2dcontour\":[{\"colorbar\":{\"outlinewidth\":0,\"ticks\":\"\"},\"colorscale\":[[0.0,\"#0d0887\"],[0.1111111111111111,\"#46039f\"],[0.2222222222222222,\"#7201a8\"],[0.3333333333333333,\"#9c179e\"],[0.4444444444444444,\"#bd3786\"],[0.5555555555555556,\"#d8576b\"],[0.6666666666666666,\"#ed7953\"],[0.7777777777777778,\"#fb9f3a\"],[0.8888888888888888,\"#fdca26\"],[1.0,\"#f0f921\"]],\"type\":\"histogram2dcontour\"}],\"mesh3d\":[{\"colorbar\":{\"outlinewidth\":0,\"ticks\":\"\"},\"type\":\"mesh3d\"}],\"parcoords\":[{\"line\":{\"colorbar\":{\"outlinewidth\":0,\"ticks\":\"\"}},\"type\":\"parcoords\"}],\"pie\":[{\"automargin\":true,\"type\":\"pie\"}],\"scatter\":[{\"marker\":{\"colorbar\":{\"outlinewidth\":0,\"ticks\":\"\"}},\"type\":\"scatter\"}],\"scatter3d\":[{\"line\":{\"colorbar\":{\"outlinewidth\":0,\"ticks\":\"\"}},\"marker\":{\"colorbar\":{\"outlinewidth\":0,\"ticks\":\"\"}},\"type\":\"scatter3d\"}],\"scattercarpet\":[{\"marker\":{\"colorbar\":{\"outlinewidth\":0,\"ticks\":\"\"}},\"type\":\"scattercarpet\"}],\"scattergeo\":[{\"marker\":{\"colorbar\":{\"outlinewidth\":0,\"ticks\":\"\"}},\"type\":\"scattergeo\"}],\"scattergl\":[{\"marker\":{\"colorbar\":{\"outlinewidth\":0,\"ticks\":\"\"}},\"type\":\"scattergl\"}],\"scattermapbox\":[{\"marker\":{\"colorbar\":{\"outlinewidth\":0,\"ticks\":\"\"}},\"type\":\"scattermapbox\"}],\"scatterpolar\":[{\"marker\":{\"colorbar\":{\"outlinewidth\":0,\"ticks\":\"\"}},\"type\":\"scatterpolar\"}],\"scatterpolargl\":[{\"marker\":{\"colorbar\":{\"outlinewidth\":0,\"ticks\":\"\"}},\"type\":\"scatterpolargl\"}],\"scatterternary\":[{\"marker\":{\"colorbar\":{\"outlinewidth\":0,\"ticks\":\"\"}},\"type\":\"scatterternary\"}],\"surface\":[{\"colorbar\":{\"outlinewidth\":0,\"ticks\":\"\"},\"colorscale\":[[0.0,\"#0d0887\"],[0.1111111111111111,\"#46039f\"],[0.2222222222222222,\"#7201a8\"],[0.3333333333333333,\"#9c179e\"],[0.4444444444444444,\"#bd3786\"],[0.5555555555555556,\"#d8576b\"],[0.6666666666666666,\"#ed7953\"],[0.7777777777777778,\"#fb9f3a\"],[0.8888888888888888,\"#fdca26\"],[1.0,\"#f0f921\"]],\"type\":\"surface\"}],\"table\":[{\"cells\":{\"fill\":{\"color\":\"#EBF0F8\"},\"line\":{\"color\":\"white\"}},\"header\":{\"fill\":{\"color\":\"#C8D4E3\"},\"line\":{\"color\":\"white\"}},\"type\":\"table\"}]},\"layout\":{\"annotationdefaults\":{\"arrowcolor\":\"#2a3f5f\",\"arrowhead\":0,\"arrowwidth\":1},\"autotypenumbers\":\"strict\",\"coloraxis\":{\"colorbar\":{\"outlinewidth\":0,\"ticks\":\"\"}},\"colorscale\":{\"diverging\":[[0,\"#8e0152\"],[0.1,\"#c51b7d\"],[0.2,\"#de77ae\"],[0.3,\"#f1b6da\"],[0.4,\"#fde0ef\"],[0.5,\"#f7f7f7\"],[0.6,\"#e6f5d0\"],[0.7,\"#b8e186\"],[0.8,\"#7fbc41\"],[0.9,\"#4d9221\"],[1,\"#276419\"]],\"sequential\":[[0.0,\"#0d0887\"],[0.1111111111111111,\"#46039f\"],[0.2222222222222222,\"#7201a8\"],[0.3333333333333333,\"#9c179e\"],[0.4444444444444444,\"#bd3786\"],[0.5555555555555556,\"#d8576b\"],[0.6666666666666666,\"#ed7953\"],[0.7777777777777778,\"#fb9f3a\"],[0.8888888888888888,\"#fdca26\"],[1.0,\"#f0f921\"]],\"sequentialminus\":[[0.0,\"#0d0887\"],[0.1111111111111111,\"#46039f\"],[0.2222222222222222,\"#7201a8\"],[0.3333333333333333,\"#9c179e\"],[0.4444444444444444,\"#bd3786\"],[0.5555555555555556,\"#d8576b\"],[0.6666666666666666,\"#ed7953\"],[0.7777777777777778,\"#fb9f3a\"],[0.8888888888888888,\"#fdca26\"],[1.0,\"#f0f921\"]]},\"colorway\":[\"#636efa\",\"#EF553B\",\"#00cc96\",\"#ab63fa\",\"#FFA15A\",\"#19d3f3\",\"#FF6692\",\"#B6E880\",\"#FF97FF\",\"#FECB52\"],\"font\":{\"color\":\"#2a3f5f\"},\"geo\":{\"bgcolor\":\"white\",\"lakecolor\":\"white\",\"landcolor\":\"#E5ECF6\",\"showlakes\":true,\"showland\":true,\"subunitcolor\":\"white\"},\"hoverlabel\":{\"align\":\"left\"},\"hovermode\":\"closest\",\"mapbox\":{\"style\":\"light\"},\"paper_bgcolor\":\"white\",\"plot_bgcolor\":\"#E5ECF6\",\"polar\":{\"angularaxis\":{\"gridcolor\":\"white\",\"linecolor\":\"white\",\"ticks\":\"\"},\"bgcolor\":\"#E5ECF6\",\"radialaxis\":{\"gridcolor\":\"white\",\"linecolor\":\"white\",\"ticks\":\"\"}},\"scene\":{\"xaxis\":{\"backgroundcolor\":\"#E5ECF6\",\"gridcolor\":\"white\",\"gridwidth\":2,\"linecolor\":\"white\",\"showbackground\":true,\"ticks\":\"\",\"zerolinecolor\":\"white\"},\"yaxis\":{\"backgroundcolor\":\"#E5ECF6\",\"gridcolor\":\"white\",\"gridwidth\":2,\"linecolor\":\"white\",\"showbackground\":true,\"ticks\":\"\",\"zerolinecolor\":\"white\"},\"zaxis\":{\"backgroundcolor\":\"#E5ECF6\",\"gridcolor\":\"white\",\"gridwidth\":2,\"linecolor\":\"white\",\"showbackground\":true,\"ticks\":\"\",\"zerolinecolor\":\"white\"}},\"shapedefaults\":{\"line\":{\"color\":\"#2a3f5f\"}},\"ternary\":{\"aaxis\":{\"gridcolor\":\"white\",\"linecolor\":\"white\",\"ticks\":\"\"},\"baxis\":{\"gridcolor\":\"white\",\"linecolor\":\"white\",\"ticks\":\"\"},\"bgcolor\":\"#E5ECF6\",\"caxis\":{\"gridcolor\":\"white\",\"linecolor\":\"white\",\"ticks\":\"\"}},\"title\":{\"x\":0.05},\"xaxis\":{\"automargin\":true,\"gridcolor\":\"white\",\"linecolor\":\"white\",\"ticks\":\"\",\"title\":{\"standoff\":15},\"zerolinecolor\":\"white\",\"zerolinewidth\":2},\"yaxis\":{\"automargin\":true,\"gridcolor\":\"white\",\"linecolor\":\"white\",\"ticks\":\"\",\"title\":{\"standoff\":15},\"zerolinecolor\":\"white\",\"zerolinewidth\":2}}},\"title\":{\"text\":\"Diffrenet Education Level for Students not in Prep Courses\"},\"xaxis\":{\"anchor\":\"y\",\"domain\":[0.0,1.0],\"title\":{\"text\":\"parent_education_level\"}},\"yaxis\":{\"anchor\":\"x\",\"domain\":[0.0,1.0],\"title\":{\"text\":\"count\"}}},                        {\"responsive\": true}                    ).then(function(){\n",
       "                            \n",
       "var gd = document.getElementById('6b9891d4-1482-4e54-bd26-567c5cbe63ae');\n",
       "var x = new MutationObserver(function (mutations, observer) {{\n",
       "        var display = window.getComputedStyle(gd).display;\n",
       "        if (!display || display === 'none') {{\n",
       "            console.log([gd, 'removed!']);\n",
       "            Plotly.purge(gd);\n",
       "            observer.disconnect();\n",
       "        }}\n",
       "}});\n",
       "\n",
       "// Listen for the removal of the full notebook cells\n",
       "var notebookContainer = gd.closest('#notebook-container');\n",
       "if (notebookContainer) {{\n",
       "    x.observe(notebookContainer, {childList: true});\n",
       "}}\n",
       "\n",
       "// Listen for the clearing of the current output cell\n",
       "var outputEl = gd.closest('.output');\n",
       "if (outputEl) {{\n",
       "    x.observe(outputEl, {childList: true});\n",
       "}}\n",
       "\n",
       "                        })                };                });            </script>        </div>"
      ]
     },
     "metadata": {},
     "output_type": "display_data"
    }
   ],
   "source": [
    "fig = px.histogram(no_prep,x = 'parent_education_level',title = 'Diffrenet Education Level for Students not in Prep Courses')\n",
    "fig.show()"
   ]
  },
  {
   "cell_type": "code",
   "execution_count": 83,
   "id": "6566a924-98f6-469f-8c52-b192dcf8a8b7",
   "metadata": {},
   "outputs": [
    {
     "data": {
      "application/com.datacamp.data-table.v1+json": {
       "is_truncated": false,
       "table": {
        "data": [
         {
          "math": 71.8292682927,
          "parent_education_level": "associate's degree",
          "reading": 76.1707317073,
          "writing": 76.8170731707
         },
         {
          "math": 73.2826086957,
          "parent_education_level": "bachelor's degree",
          "reading": 76.7391304348,
          "writing": 78.6956521739
         },
         {
          "math": 65,
          "parent_education_level": "high school",
          "reading": 67.8392857143,
          "writing": 68.0535714286
         },
         {
          "math": 70.6,
          "parent_education_level": "master's degree",
          "reading": 78.25,
          "writing": 80.1
         },
         {
          "math": 71.4545454545,
          "parent_education_level": "some college",
          "reading": 75.987012987,
          "writing": 76.5194805195
         },
         {
          "math": 66.7012987013,
          "parent_education_level": "some high school",
          "reading": 70.9480519481,
          "writing": 70.3636363636
         }
        ],
        "schema": {
         "fields": [
          {
           "name": "parent_education_level",
           "type": "string"
          },
          {
           "name": "math",
           "type": "number"
          },
          {
           "name": "reading",
           "type": "number"
          },
          {
           "name": "writing",
           "type": "number"
          }
         ],
         "pandas_version": "0.20.0",
         "primaryKey": [
          "parent_education_level"
         ]
        }
       }
      },
      "text/html": [
       "<div>\n",
       "<style scoped>\n",
       "    .dataframe tbody tr th:only-of-type {\n",
       "        vertical-align: middle;\n",
       "    }\n",
       "\n",
       "    .dataframe tbody tr th {\n",
       "        vertical-align: top;\n",
       "    }\n",
       "\n",
       "    .dataframe thead th {\n",
       "        text-align: right;\n",
       "    }\n",
       "</style>\n",
       "<table border=\"1\" class=\"dataframe\">\n",
       "  <thead>\n",
       "    <tr style=\"text-align: right;\">\n",
       "      <th></th>\n",
       "      <th>math</th>\n",
       "      <th>reading</th>\n",
       "      <th>writing</th>\n",
       "    </tr>\n",
       "    <tr>\n",
       "      <th>parent_education_level</th>\n",
       "      <th></th>\n",
       "      <th></th>\n",
       "      <th></th>\n",
       "    </tr>\n",
       "  </thead>\n",
       "  <tbody>\n",
       "    <tr>\n",
       "      <th>associate's degree</th>\n",
       "      <td>71.829268</td>\n",
       "      <td>76.170732</td>\n",
       "      <td>76.817073</td>\n",
       "    </tr>\n",
       "    <tr>\n",
       "      <th>bachelor's degree</th>\n",
       "      <td>73.282609</td>\n",
       "      <td>76.739130</td>\n",
       "      <td>78.695652</td>\n",
       "    </tr>\n",
       "    <tr>\n",
       "      <th>high school</th>\n",
       "      <td>65.000000</td>\n",
       "      <td>67.839286</td>\n",
       "      <td>68.053571</td>\n",
       "    </tr>\n",
       "    <tr>\n",
       "      <th>master's degree</th>\n",
       "      <td>70.600000</td>\n",
       "      <td>78.250000</td>\n",
       "      <td>80.100000</td>\n",
       "    </tr>\n",
       "    <tr>\n",
       "      <th>some college</th>\n",
       "      <td>71.454545</td>\n",
       "      <td>75.987013</td>\n",
       "      <td>76.519481</td>\n",
       "    </tr>\n",
       "    <tr>\n",
       "      <th>some high school</th>\n",
       "      <td>66.701299</td>\n",
       "      <td>70.948052</td>\n",
       "      <td>70.363636</td>\n",
       "    </tr>\n",
       "  </tbody>\n",
       "</table>\n",
       "</div>"
      ],
      "text/plain": [
       "                             math    reading    writing\n",
       "parent_education_level                                 \n",
       "associate's degree      71.829268  76.170732  76.817073\n",
       "bachelor's degree       73.282609  76.739130  78.695652\n",
       "high school             65.000000  67.839286  68.053571\n",
       "master's degree         70.600000  78.250000  80.100000\n",
       "some college            71.454545  75.987013  76.519481\n",
       "some high school        66.701299  70.948052  70.363636"
      ]
     },
     "execution_count": 83,
     "metadata": {},
     "output_type": "execute_result"
    }
   ],
   "source": [
    "#Average Marks of students in different education levels who have taken prep courses\n",
    "prep.groupby('parent_education_level').mean()"
   ]
  },
  {
   "cell_type": "code",
   "execution_count": 84,
   "id": "65814440-f592-40ef-8c59-0ad593978596",
   "metadata": {},
   "outputs": [
    {
     "data": {
      "application/com.datacamp.data-table.v1+json": {
       "is_truncated": false,
       "table": {
        "data": [
         {
          "math": 65.5714285714,
          "parent_education_level": "associate's degree",
          "reading": 67.8571428571,
          "writing": 65.8428571429
         },
         {
          "math": 66.9027777778,
          "parent_education_level": "bachelor's degree",
          "reading": 70.6111111111,
          "writing": 69.9861111111
         },
         {
          "math": 60.9928571429,
          "parent_education_level": "high school",
          "reading": 63.45,
          "writing": 60.2071428571
         },
         {
          "math": 69.3076923077,
          "parent_education_level": "master's degree",
          "reading": 73.8974358974,
          "writing": 73.4102564103
         },
         {
          "math": 64.8926174497,
          "parent_education_level": "some college",
          "reading": 66.0872483221,
          "writing": 64.8724832215
         },
         {
          "math": 61.0784313725,
          "parent_education_level": "some high school",
          "reading": 63.9117647059,
          "writing": 60.7549019608
         }
        ],
        "schema": {
         "fields": [
          {
           "name": "parent_education_level",
           "type": "string"
          },
          {
           "name": "math",
           "type": "number"
          },
          {
           "name": "reading",
           "type": "number"
          },
          {
           "name": "writing",
           "type": "number"
          }
         ],
         "pandas_version": "0.20.0",
         "primaryKey": [
          "parent_education_level"
         ]
        }
       }
      },
      "text/html": [
       "<div>\n",
       "<style scoped>\n",
       "    .dataframe tbody tr th:only-of-type {\n",
       "        vertical-align: middle;\n",
       "    }\n",
       "\n",
       "    .dataframe tbody tr th {\n",
       "        vertical-align: top;\n",
       "    }\n",
       "\n",
       "    .dataframe thead th {\n",
       "        text-align: right;\n",
       "    }\n",
       "</style>\n",
       "<table border=\"1\" class=\"dataframe\">\n",
       "  <thead>\n",
       "    <tr style=\"text-align: right;\">\n",
       "      <th></th>\n",
       "      <th>math</th>\n",
       "      <th>reading</th>\n",
       "      <th>writing</th>\n",
       "    </tr>\n",
       "    <tr>\n",
       "      <th>parent_education_level</th>\n",
       "      <th></th>\n",
       "      <th></th>\n",
       "      <th></th>\n",
       "    </tr>\n",
       "  </thead>\n",
       "  <tbody>\n",
       "    <tr>\n",
       "      <th>associate's degree</th>\n",
       "      <td>65.571429</td>\n",
       "      <td>67.857143</td>\n",
       "      <td>65.842857</td>\n",
       "    </tr>\n",
       "    <tr>\n",
       "      <th>bachelor's degree</th>\n",
       "      <td>66.902778</td>\n",
       "      <td>70.611111</td>\n",
       "      <td>69.986111</td>\n",
       "    </tr>\n",
       "    <tr>\n",
       "      <th>high school</th>\n",
       "      <td>60.992857</td>\n",
       "      <td>63.450000</td>\n",
       "      <td>60.207143</td>\n",
       "    </tr>\n",
       "    <tr>\n",
       "      <th>master's degree</th>\n",
       "      <td>69.307692</td>\n",
       "      <td>73.897436</td>\n",
       "      <td>73.410256</td>\n",
       "    </tr>\n",
       "    <tr>\n",
       "      <th>some college</th>\n",
       "      <td>64.892617</td>\n",
       "      <td>66.087248</td>\n",
       "      <td>64.872483</td>\n",
       "    </tr>\n",
       "    <tr>\n",
       "      <th>some high school</th>\n",
       "      <td>61.078431</td>\n",
       "      <td>63.911765</td>\n",
       "      <td>60.754902</td>\n",
       "    </tr>\n",
       "  </tbody>\n",
       "</table>\n",
       "</div>"
      ],
      "text/plain": [
       "                             math    reading    writing\n",
       "parent_education_level                                 \n",
       "associate's degree      65.571429  67.857143  65.842857\n",
       "bachelor's degree       66.902778  70.611111  69.986111\n",
       "high school             60.992857  63.450000  60.207143\n",
       "master's degree         69.307692  73.897436  73.410256\n",
       "some college            64.892617  66.087248  64.872483\n",
       "some high school        61.078431  63.911765  60.754902"
      ]
     },
     "execution_count": 84,
     "metadata": {},
     "output_type": "execute_result"
    }
   ],
   "source": [
    "#Average Marks of students in different education levels who have not taken prep courses\n",
    "no_prep.groupby('parent_education_level').mean()"
   ]
  },
  {
   "cell_type": "code",
   "execution_count": 86,
   "id": "b9b75513-acb8-44dd-9414-c18ffe006e80",
   "metadata": {},
   "outputs": [
    {
     "data": {
      "application/com.datacamp.data-table.v1+json": {
       "is_truncated": false,
       "table": {
        "data": [
         {
          "index": "math",
          "math": 1,
          "reading": 0.8175796637,
          "writing": 0.8026420459
         },
         {
          "index": "reading",
          "math": 0.8175796637,
          "reading": 1,
          "writing": 0.9545980771
         },
         {
          "index": "writing",
          "math": 0.8026420459,
          "reading": 0.9545980771,
          "writing": 1
         }
        ],
        "schema": {
         "fields": [
          {
           "name": "index",
           "type": "string"
          },
          {
           "name": "math",
           "type": "number"
          },
          {
           "name": "reading",
           "type": "number"
          },
          {
           "name": "writing",
           "type": "number"
          }
         ],
         "pandas_version": "0.20.0",
         "primaryKey": [
          "index"
         ]
        }
       }
      },
      "text/html": [
       "<div>\n",
       "<style scoped>\n",
       "    .dataframe tbody tr th:only-of-type {\n",
       "        vertical-align: middle;\n",
       "    }\n",
       "\n",
       "    .dataframe tbody tr th {\n",
       "        vertical-align: top;\n",
       "    }\n",
       "\n",
       "    .dataframe thead th {\n",
       "        text-align: right;\n",
       "    }\n",
       "</style>\n",
       "<table border=\"1\" class=\"dataframe\">\n",
       "  <thead>\n",
       "    <tr style=\"text-align: right;\">\n",
       "      <th></th>\n",
       "      <th>math</th>\n",
       "      <th>reading</th>\n",
       "      <th>writing</th>\n",
       "    </tr>\n",
       "  </thead>\n",
       "  <tbody>\n",
       "    <tr>\n",
       "      <th>math</th>\n",
       "      <td>1.000000</td>\n",
       "      <td>0.817580</td>\n",
       "      <td>0.802642</td>\n",
       "    </tr>\n",
       "    <tr>\n",
       "      <th>reading</th>\n",
       "      <td>0.817580</td>\n",
       "      <td>1.000000</td>\n",
       "      <td>0.954598</td>\n",
       "    </tr>\n",
       "    <tr>\n",
       "      <th>writing</th>\n",
       "      <td>0.802642</td>\n",
       "      <td>0.954598</td>\n",
       "      <td>1.000000</td>\n",
       "    </tr>\n",
       "  </tbody>\n",
       "</table>\n",
       "</div>"
      ],
      "text/plain": [
       "             math   reading   writing\n",
       "math     1.000000  0.817580  0.802642\n",
       "reading  0.817580  1.000000  0.954598\n",
       "writing  0.802642  0.954598  1.000000"
      ]
     },
     "execution_count": 86,
     "metadata": {},
     "output_type": "execute_result"
    }
   ],
   "source": [
    "#Correlation in Subjects\n",
    "exam_df.corr()"
   ]
  },
  {
   "cell_type": "code",
   "execution_count": 90,
   "id": "d5d1b480-ac44-46ca-93ab-b64687f02269",
   "metadata": {},
   "outputs": [
    {
     "data": {
      "text/plain": [
       "Text(0.5, 1.0, 'Correlation in Subjects')"
      ]
     },
     "execution_count": 90,
     "metadata": {},
     "output_type": "execute_result"
    },
    {
     "data": {
      "image/png": "[encoded data removed]",
      "text/plain": [
       "<Figure size 1440x864 with 2 Axes>"
      ]
     },
     "metadata": {
      "needs_background": "light"
     },
     "output_type": "display_data"
    }
   ],
   "source": [
    "sns.heatmap(exam_df.corr(),cmap = 'Reds',annot = True)\n",
    "plt.title(\"Correlation in Subjects\")"
   ]
  },
  {
   "cell_type": "code",
   "execution_count": null,
   "id": "17494e94-7da9-44e9-9fdc-5e5a91f99277",
   "metadata": {},
   "outputs": [],
   "source": []
  }
 ],
 "metadata": {
  "kernelspec": {
   "display_name": "Python 3 (ipykernel)",
   "language": "python",
   "name": "python3"
  },
  "language_info": {
   "codemirror_mode": {
    "name": "ipython",
    "version": 3
   },
   "file_extension": ".py",
   "mimetype": "text/x-python",
   "name": "python",
   "nbconvert_exporter": "python",
   "pygments_lexer": "ipython3",
   "version": "3.8.10"
  }
 },
 "nbformat": 4,
 "nbformat_minor": 5
}
